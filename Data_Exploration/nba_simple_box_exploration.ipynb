{
 "cells": [
  {
   "cell_type": "markdown",
   "metadata": {},
   "source": [
    "# Goal: \n",
    "Perform descriptive statistics and initial analysis on the simple box score dataset"
   ]
  },
  {
   "cell_type": "markdown",
   "metadata": {},
   "source": [
    "Import libraries to connect to our postgres database and do dataframe manipulation"
   ]
  },
  {
   "cell_type": "code",
   "execution_count": 15,
   "metadata": {},
   "outputs": [],
   "source": [
    "import pandas as pd\n",
    "import numpy as np\n",
    "import getpass\n",
    "import psycopg2\n",
    "import seaborn as sns\n",
    "import matplotlib.pyplot as plt\n",
    "%matplotlib inline\n",
    "from psycopg2.extensions import adapt, register_adapter, AsIs\n",
    "pd.set_option('display.max_columns', 500)\n",
    "pd.set_option('display.max_rows', 500)"
   ]
  },
  {
   "cell_type": "markdown",
   "metadata": {},
   "source": [
    "Grab password from user input and create database connection"
   ]
  },
  {
   "cell_type": "code",
   "execution_count": 2,
   "metadata": {},
   "outputs": [
    {
     "name": "stdout",
     "output_type": "stream",
     "text": [
      "········\n"
     ]
    }
   ],
   "source": [
    "mypasswd = getpass.getpass()\n",
    "conn = psycopg2.connect(database = 'cs20_group4',\n",
    "                              user = 'fhfrf',#replace with pawprint\n",
    "                              host = 'pgsql.dsa.lan',\n",
    "                              password = mypasswd)"
   ]
  },
  {
   "cell_type": "markdown",
   "metadata": {},
   "source": [
    "Read in the SQL query results and assign to the nba_simple_box dataframe. Then let's look at the first five rows."
   ]
  },
  {
   "cell_type": "code",
   "execution_count": 3,
   "metadata": {},
   "outputs": [
    {
     "data": {
      "text/html": [
       "<div>\n",
       "<style scoped>\n",
       "    .dataframe tbody tr th:only-of-type {\n",
       "        vertical-align: middle;\n",
       "    }\n",
       "\n",
       "    .dataframe tbody tr th {\n",
       "        vertical-align: top;\n",
       "    }\n",
       "\n",
       "    .dataframe thead th {\n",
       "        text-align: right;\n",
       "    }\n",
       "</style>\n",
       "<table border=\"1\" class=\"dataframe\">\n",
       "  <thead>\n",
       "    <tr style=\"text-align: right;\">\n",
       "      <th></th>\n",
       "      <th>boxscore</th>\n",
       "      <th>away_name</th>\n",
       "      <th>away_abbr</th>\n",
       "      <th>away_score</th>\n",
       "      <th>home_name</th>\n",
       "      <th>home_abbr</th>\n",
       "      <th>home_score</th>\n",
       "      <th>winning_name</th>\n",
       "      <th>winning_abbr</th>\n",
       "      <th>losing_name</th>\n",
       "      <th>losing_abbr</th>\n",
       "      <th>season</th>\n",
       "    </tr>\n",
       "  </thead>\n",
       "  <tbody>\n",
       "    <tr>\n",
       "      <th>0</th>\n",
       "      <td>201810160BOS</td>\n",
       "      <td>Philadelphia</td>\n",
       "      <td>PHI</td>\n",
       "      <td>87.0</td>\n",
       "      <td>Boston</td>\n",
       "      <td>BOS</td>\n",
       "      <td>105.0</td>\n",
       "      <td>Boston</td>\n",
       "      <td>BOS</td>\n",
       "      <td>Philadelphia</td>\n",
       "      <td>PHI</td>\n",
       "      <td>2019.0</td>\n",
       "    </tr>\n",
       "    <tr>\n",
       "      <th>1</th>\n",
       "      <td>201810160GSW</td>\n",
       "      <td>Oklahoma City</td>\n",
       "      <td>OKC</td>\n",
       "      <td>100.0</td>\n",
       "      <td>Golden State</td>\n",
       "      <td>GSW</td>\n",
       "      <td>108.0</td>\n",
       "      <td>Golden State</td>\n",
       "      <td>GSW</td>\n",
       "      <td>Oklahoma City</td>\n",
       "      <td>OKC</td>\n",
       "      <td>2019.0</td>\n",
       "    </tr>\n",
       "    <tr>\n",
       "      <th>2</th>\n",
       "      <td>201810170CHO</td>\n",
       "      <td>Milwaukee</td>\n",
       "      <td>MIL</td>\n",
       "      <td>113.0</td>\n",
       "      <td>Charlotte</td>\n",
       "      <td>CHO</td>\n",
       "      <td>112.0</td>\n",
       "      <td>Milwaukee</td>\n",
       "      <td>MIL</td>\n",
       "      <td>Charlotte</td>\n",
       "      <td>CHO</td>\n",
       "      <td>2019.0</td>\n",
       "    </tr>\n",
       "    <tr>\n",
       "      <th>3</th>\n",
       "      <td>201810170DET</td>\n",
       "      <td>Brooklyn</td>\n",
       "      <td>BRK</td>\n",
       "      <td>100.0</td>\n",
       "      <td>Detroit</td>\n",
       "      <td>DET</td>\n",
       "      <td>103.0</td>\n",
       "      <td>Detroit</td>\n",
       "      <td>DET</td>\n",
       "      <td>Brooklyn</td>\n",
       "      <td>BRK</td>\n",
       "      <td>2019.0</td>\n",
       "    </tr>\n",
       "    <tr>\n",
       "      <th>4</th>\n",
       "      <td>201810170HOU</td>\n",
       "      <td>New Orleans</td>\n",
       "      <td>NOP</td>\n",
       "      <td>131.0</td>\n",
       "      <td>Houston</td>\n",
       "      <td>HOU</td>\n",
       "      <td>112.0</td>\n",
       "      <td>New Orleans</td>\n",
       "      <td>NOP</td>\n",
       "      <td>Houston</td>\n",
       "      <td>HOU</td>\n",
       "      <td>2019.0</td>\n",
       "    </tr>\n",
       "  </tbody>\n",
       "</table>\n",
       "</div>"
      ],
      "text/plain": [
       "       boxscore      away_name away_abbr  away_score     home_name home_abbr  \\\n",
       "0  201810160BOS   Philadelphia       PHI        87.0        Boston       BOS   \n",
       "1  201810160GSW  Oklahoma City       OKC       100.0  Golden State       GSW   \n",
       "2  201810170CHO      Milwaukee       MIL       113.0     Charlotte       CHO   \n",
       "3  201810170DET       Brooklyn       BRK       100.0       Detroit       DET   \n",
       "4  201810170HOU    New Orleans       NOP       131.0       Houston       HOU   \n",
       "\n",
       "   home_score  winning_name winning_abbr    losing_name losing_abbr  season  \n",
       "0       105.0        Boston          BOS   Philadelphia         PHI  2019.0  \n",
       "1       108.0  Golden State          GSW  Oklahoma City         OKC  2019.0  \n",
       "2       112.0     Milwaukee          MIL      Charlotte         CHO  2019.0  \n",
       "3       103.0       Detroit          DET       Brooklyn         BRK  2019.0  \n",
       "4       112.0   New Orleans          NOP        Houston         HOU  2019.0  "
      ]
     },
     "execution_count": 3,
     "metadata": {},
     "output_type": "execute_result"
    }
   ],
   "source": [
    "nba_simple_box = pd.read_sql_query(\"\"\"\n",
    "SELECT\n",
    "    *\n",
    "FROM nba_simple_boxscores\n",
    "\"\"\", con = conn)\n",
    "nba_simple_box.head()"
   ]
  },
  {
   "cell_type": "markdown",
   "metadata": {},
   "source": [
    "Look at the descriptive statistics for our numerical columns"
   ]
  },
  {
   "cell_type": "code",
   "execution_count": 4,
   "metadata": {},
   "outputs": [
    {
     "data": {
      "text/html": [
       "<div>\n",
       "<style scoped>\n",
       "    .dataframe tbody tr th:only-of-type {\n",
       "        vertical-align: middle;\n",
       "    }\n",
       "\n",
       "    .dataframe tbody tr th {\n",
       "        vertical-align: top;\n",
       "    }\n",
       "\n",
       "    .dataframe thead th {\n",
       "        text-align: right;\n",
       "    }\n",
       "</style>\n",
       "<table border=\"1\" class=\"dataframe\">\n",
       "  <thead>\n",
       "    <tr style=\"text-align: right;\">\n",
       "      <th></th>\n",
       "      <th>away_score</th>\n",
       "      <th>home_score</th>\n",
       "      <th>season</th>\n",
       "    </tr>\n",
       "  </thead>\n",
       "  <tbody>\n",
       "    <tr>\n",
       "      <th>count</th>\n",
       "      <td>69145.000000</td>\n",
       "      <td>69145.000000</td>\n",
       "      <td>69145.000000</td>\n",
       "    </tr>\n",
       "    <tr>\n",
       "      <th>mean</th>\n",
       "      <td>101.262000</td>\n",
       "      <td>104.919922</td>\n",
       "      <td>1990.764394</td>\n",
       "    </tr>\n",
       "    <tr>\n",
       "      <th>std</th>\n",
       "      <td>14.305584</td>\n",
       "      <td>14.831307</td>\n",
       "      <td>18.757994</td>\n",
       "    </tr>\n",
       "    <tr>\n",
       "      <th>min</th>\n",
       "      <td>0.000000</td>\n",
       "      <td>2.000000</td>\n",
       "      <td>1947.000000</td>\n",
       "    </tr>\n",
       "    <tr>\n",
       "      <th>25%</th>\n",
       "      <td>92.000000</td>\n",
       "      <td>95.000000</td>\n",
       "      <td>1976.000000</td>\n",
       "    </tr>\n",
       "    <tr>\n",
       "      <th>50%</th>\n",
       "      <td>101.000000</td>\n",
       "      <td>105.000000</td>\n",
       "      <td>1993.000000</td>\n",
       "    </tr>\n",
       "    <tr>\n",
       "      <th>75%</th>\n",
       "      <td>111.000000</td>\n",
       "      <td>115.000000</td>\n",
       "      <td>2007.000000</td>\n",
       "    </tr>\n",
       "    <tr>\n",
       "      <th>max</th>\n",
       "      <td>186.000000</td>\n",
       "      <td>184.000000</td>\n",
       "      <td>2020.000000</td>\n",
       "    </tr>\n",
       "  </tbody>\n",
       "</table>\n",
       "</div>"
      ],
      "text/plain": [
       "         away_score    home_score        season\n",
       "count  69145.000000  69145.000000  69145.000000\n",
       "mean     101.262000    104.919922   1990.764394\n",
       "std       14.305584     14.831307     18.757994\n",
       "min        0.000000      2.000000   1947.000000\n",
       "25%       92.000000     95.000000   1976.000000\n",
       "50%      101.000000    105.000000   1993.000000\n",
       "75%      111.000000    115.000000   2007.000000\n",
       "max      186.000000    184.000000   2020.000000"
      ]
     },
     "execution_count": 4,
     "metadata": {},
     "output_type": "execute_result"
    }
   ],
   "source": [
    "nba_simple_box.describe()"
   ]
  },
  {
   "cell_type": "markdown",
   "metadata": {},
   "source": [
    "Get an idea of how many seasons each team has been playing for"
   ]
  },
  {
   "cell_type": "code",
   "execution_count": 16,
   "metadata": {},
   "outputs": [
    {
     "data": {
      "image/png": "[encoded data removed]",
      "text/plain": [
       "<Figure size 432x288 with 1 Axes>"
      ]
     },
     "metadata": {
      "needs_background": "light"
     },
     "output_type": "display_data"
    }
   ],
   "source": [
    "data = nba_simple_box.groupby(['home_name']).season.nunique().reset_index().sort_values(by = 'season', ascending = False)\n",
    "sns.barplot(x = 'home_name',\n",
    "            y = 'season',\n",
    "            data = data)\n",
    "plt.xticks(rotation = 90);"
   ]
  },
  {
   "cell_type": "markdown",
   "metadata": {},
   "source": [
    "Look at average score scored by a team on the road"
   ]
  },
  {
   "cell_type": "code",
   "execution_count": 20,
   "metadata": {},
   "outputs": [
    {
     "data": {
      "text/plain": [
       "away_name\n",
       "Texas                        119.113636\n",
       "Oakland                      118.406977\n",
       "Cincinnati                   112.853659\n",
       "San Francisco                112.035377\n",
       "LA Stars                     111.811111\n",
       "Virginia                     111.178439\n",
       "Anaheim                      111.135135\n",
       "Carolina                     111.121495\n",
       "Floridians                   109.719101\n",
       "Kentucky                     109.130120\n",
       "San Diego                    108.410488\n",
       "Kansas City                  106.698824\n",
       "Pittsburgh                   106.500000\n",
       "LA Lakers                    105.854559\n",
       "Phoenix                      105.044375\n",
       "Denver                       104.878390\n",
       "Buffalo                      104.861446\n",
       "Golden State                 104.549952\n",
       "Oklahoma City                104.021113\n",
       "Seattle                      103.219866\n",
       "St. Louis                    102.960621\n",
       "Houston                      102.520833\n",
       "Boston                       102.472008\n",
       "Portland                     102.338462\n",
       "Brooklyn                     102.288344\n",
       "Indiana                      102.256156\n",
       "San Antonio                  102.220952\n",
       "Kansas City-Omaha            101.992063\n",
       "Dallas                       101.844864\n",
       "Detroit                      101.718773\n",
       "Philadelphia                 100.944322\n",
       "Milwaukee                    100.912474\n",
       "Capital                      100.733333\n",
       "Utah                         100.572628\n",
       "Sacramento                   100.548432\n",
       "New York                     100.395269\n",
       "New Orleans                  100.362725\n",
       "Atlanta                       99.908719\n",
       "Syracuse                      99.709062\n",
       "LA Clippers                   99.694595\n",
       "Baltimore                     99.585237\n",
       "Chicago                       99.365408\n",
       "Minnesota                     99.150817\n",
       "New Jersey                    98.803974\n",
       "Washington                    98.740637\n",
       "Memphis                       98.532673\n",
       "Orlando                       98.326121\n",
       "Cleveland                     98.151881\n",
       "Charlotte                     97.756933\n",
       "Toronto                       96.896067\n",
       "Miami                         96.490785\n",
       "New Orleans/Oklahoma City     92.890244\n",
       "Minneapolis                   91.629630\n",
       "Vancouver                     91.160870\n",
       "Rochester                     84.014205\n",
       "Anderson                      83.088235\n",
       "Fort Wayne                    81.814189\n",
       "Tri-Cities                    80.000000\n",
       "Indianapolis                  79.512658\n",
       "Waterloo                      79.096774\n",
       "Sheboygan                     74.818182\n",
       "Providence                    72.386364\n",
       "Name: away_score, dtype: float64"
      ]
     },
     "execution_count": 20,
     "metadata": {},
     "output_type": "execute_result"
    }
   ],
   "source": [
    "data = nba_simple_box.groupby('away_name')['away_score'].mean().sort_values(ascending = False)\n",
    "data"
   ]
  },
  {
   "cell_type": "markdown",
   "metadata": {},
   "source": [
    "Look at average score scored by a team at home"
   ]
  },
  {
   "cell_type": "code",
   "execution_count": 16,
   "metadata": {
    "scrolled": true
   },
   "outputs": [
    {
     "data": {
      "text/plain": [
       "home_name\n",
       "Providence       75.025000\n",
       "Waterloo         79.645161\n",
       "Indianapolis     80.342391\n",
       "Tri-Cities       86.782609\n",
       "Fort Wayne       87.000000\n",
       "                   ...    \n",
       "Cincinnati      115.408537\n",
       "Floridians      116.696629\n",
       "LA Stars        116.741573\n",
       "Oakland         120.023256\n",
       "Texas           122.466667\n",
       "Name: home_score, Length: 62, dtype: float64"
      ]
     },
     "execution_count": 16,
     "metadata": {},
     "output_type": "execute_result"
    }
   ],
   "source": [
    "nba_simple_box.groupby('home_name')['home_score'].mean().sort_values()"
   ]
  },
  {
   "cell_type": "markdown",
   "metadata": {},
   "source": [
    "Look to see if we have any anomalies in away scores in the data set by using a histogram"
   ]
  },
  {
   "cell_type": "code",
   "execution_count": 18,
   "metadata": {},
   "outputs": [
    {
     "data": {
      "text/plain": [
       "<matplotlib.axes._subplots.AxesSubplot at 0x7fcca6d42048>"
      ]
     },
     "execution_count": 18,
     "metadata": {},
     "output_type": "execute_result"
    },
    {
     "data": {
      "image/png": "[encoded data removed]",
      "text/plain": [
       "<Figure size 432x288 with 1 Axes>"
      ]
     },
     "metadata": {
      "needs_background": "light"
     },
     "output_type": "display_data"
    }
   ],
   "source": [
    "nba_simple_box['away_score'].plot.hist()"
   ]
  },
  {
   "cell_type": "markdown",
   "metadata": {},
   "source": [
    "Look to see if we have any anomalies in home scores in the data set by using a histogram"
   ]
  },
  {
   "cell_type": "code",
   "execution_count": 26,
   "metadata": {},
   "outputs": [
    {
     "data": {
      "text/plain": [
       "<matplotlib.axes._subplots.AxesSubplot at 0x7fcca6afa0f0>"
      ]
     },
     "execution_count": 26,
     "metadata": {},
     "output_type": "execute_result"
    },
    {
     "data": {
      "image/png": "[encoded data removed]",
      "text/plain": [
       "<Figure size 432x288 with 1 Axes>"
      ]
     },
     "metadata": {
      "needs_background": "light"
     },
     "output_type": "display_data"
    }
   ],
   "source": [
    "nba_simple_box['home_score'].plot.hist()"
   ]
  },
  {
   "cell_type": "markdown",
   "metadata": {},
   "source": [
    "Remove password from memory"
   ]
  },
  {
   "cell_type": "code",
   "execution_count": 27,
   "metadata": {},
   "outputs": [],
   "source": [
    "del mypasswd"
   ]
  },
  {
   "cell_type": "markdown",
   "metadata": {},
   "source": [
    "Takeaway: The nba simple box scores do not contain any player data that could be useful in building our model. However, it is a pretty normal dataset, so if we need to work with it in the future, minimal work is needed to prepare it for usage."
   ]
  }
 ],
 "metadata": {
  "kernelspec": {
   "display_name": "Python 3",
   "language": "python",
   "name": "python3"
  },
  "language_info": {
   "codemirror_mode": {
    "name": "ipython",
    "version": 3
   },
   "file_extension": ".py",
   "mimetype": "text/x-python",
   "name": "python",
   "nbconvert_exporter": "python",
   "pygments_lexer": "ipython3",
   "version": "3.7.3"
  }
 },
 "nbformat": 4,
 "nbformat_minor": 2
}
