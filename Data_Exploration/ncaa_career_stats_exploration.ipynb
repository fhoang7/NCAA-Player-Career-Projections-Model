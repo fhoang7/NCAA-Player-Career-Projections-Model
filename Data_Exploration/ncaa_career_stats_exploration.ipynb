{
 "cells": [
  {
   "cell_type": "markdown",
   "metadata": {},
   "source": [
    "<h1>Goal:</h1>\n",
    "\n",
    "In this milestone we are tasked to look at our data and try to understand its structure better. To do this with our NCAA career data we begin to look at the descriptive statistics and basic visualizations. Note this notebook focuses on the aggregated stats over a NCAA player's career, not season by season data which is done in the `ncaa_box_score_data_exploration` notebook."
   ]
  },
  {
   "cell_type": "markdown",
   "metadata": {},
   "source": [
    "Begin by importing the needed libraries. Seaborn and matplotlib are used for ploting."
   ]
  },
  {
   "cell_type": "code",
   "execution_count": 1,
   "metadata": {},
   "outputs": [
    {
     "data": {
      "text/plain": [
       "<Figure size 864x576 with 0 Axes>"
      ]
     },
     "metadata": {},
     "output_type": "display_data"
    }
   ],
   "source": [
    "import pandas as pd\n",
    "import numpy as np\n",
    "import seaborn as sns\n",
    "import matplotlib.pyplot as plt\n",
    "%matplotlib inline\n",
    "import getpass\n",
    "import psycopg2\n",
    "pd.set_option('display.max_columns', 500)\n",
    "sns.set()\n",
    "plt.figure(figsize=(12,8));"
   ]
  },
  {
   "cell_type": "markdown",
   "metadata": {},
   "source": [
    "Connect to our database."
   ]
  },
  {
   "cell_type": "code",
   "execution_count": 2,
   "metadata": {},
   "outputs": [
    {
     "name": "stdout",
     "output_type": "stream",
     "text": [
      "········\n"
     ]
    }
   ],
   "source": [
    "mypasswd = getpass.getpass()\n",
    "conn = psycopg2.connect(database = 'cs20_group4',\n",
    "                              user = 'fhfrf',#replace with pawprint\n",
    "                              host = 'pgsql.dsa.lan',\n",
    "                              password = mypasswd)\n",
    "cursor = conn.cursor()"
   ]
  },
  {
   "cell_type": "markdown",
   "metadata": {},
   "source": [
    "We load in the data from the `ncaa_player_career_stats2` table. Using this function in pandas we are able to load our database table directly into a dataframe. We begin our exploration by looking at the shape and structure of our newly created dataframe. "
   ]
  },
  {
   "cell_type": "code",
   "execution_count": 4,
   "metadata": {},
   "outputs": [
    {
     "name": "stdout",
     "output_type": "stream",
     "text": [
      "(91364, 56)\n"
     ]
    },
    {
     "data": {
      "text/html": [
       "<div>\n",
       "<style scoped>\n",
       "    .dataframe tbody tr th:only-of-type {\n",
       "        vertical-align: middle;\n",
       "    }\n",
       "\n",
       "    .dataframe tbody tr th {\n",
       "        vertical-align: top;\n",
       "    }\n",
       "\n",
       "    .dataframe thead th {\n",
       "        text-align: right;\n",
       "    }\n",
       "</style>\n",
       "<table border=\"1\" class=\"dataframe\">\n",
       "  <thead>\n",
       "    <tr style=\"text-align: right;\">\n",
       "      <th></th>\n",
       "      <th>index</th>\n",
       "      <th>assist_percentage</th>\n",
       "      <th>assists</th>\n",
       "      <th>block_percentage</th>\n",
       "      <th>blocks</th>\n",
       "      <th>box_plus_minus</th>\n",
       "      <th>conference</th>\n",
       "      <th>defensive_box_plus_minus</th>\n",
       "      <th>defensive_rebound_percentage</th>\n",
       "      <th>defensive_rebounds</th>\n",
       "      <th>defensive_win_shares</th>\n",
       "      <th>effective_field_goal_percentage</th>\n",
       "      <th>field_goal_attempts</th>\n",
       "      <th>field_goal_percentage</th>\n",
       "      <th>field_goals</th>\n",
       "      <th>free_throw_attempt_rate</th>\n",
       "      <th>free_throw_attempts</th>\n",
       "      <th>free_throw_percentage</th>\n",
       "      <th>free_throws</th>\n",
       "      <th>games_played</th>\n",
       "      <th>games_started</th>\n",
       "      <th>height</th>\n",
       "      <th>minutes_played</th>\n",
       "      <th>offensive_box_plus_minus</th>\n",
       "      <th>offensive_rebound_percentage</th>\n",
       "      <th>offensive_rebounds</th>\n",
       "      <th>offensive_win_shares</th>\n",
       "      <th>personal_fouls</th>\n",
       "      <th>player_efficiency_rating</th>\n",
       "      <th>player_id</th>\n",
       "      <th>player_name</th>\n",
       "      <th>points</th>\n",
       "      <th>points_produced</th>\n",
       "      <th>position</th>\n",
       "      <th>season</th>\n",
       "      <th>steal_percentage</th>\n",
       "      <th>steals</th>\n",
       "      <th>team_abbreviation</th>\n",
       "      <th>three_point_attempt_rate</th>\n",
       "      <th>three_point_attempts</th>\n",
       "      <th>three_point_percentage</th>\n",
       "      <th>three_pointers</th>\n",
       "      <th>total_rebound_percentage</th>\n",
       "      <th>total_rebounds</th>\n",
       "      <th>true_shooting_percentage</th>\n",
       "      <th>turnover_percentage</th>\n",
       "      <th>turnovers</th>\n",
       "      <th>two_point_attempts</th>\n",
       "      <th>two_point_percentage</th>\n",
       "      <th>two_pointers</th>\n",
       "      <th>usage_percentage</th>\n",
       "      <th>weight</th>\n",
       "      <th>win_shares</th>\n",
       "      <th>win_shares_per_40_minutes</th>\n",
       "      <th>player_season_number</th>\n",
       "      <th>avg_conf_rank</th>\n",
       "    </tr>\n",
       "  </thead>\n",
       "  <tbody>\n",
       "    <tr>\n",
       "      <th>0</th>\n",
       "      <td>0</td>\n",
       "      <td>0.049</td>\n",
       "      <td>20.0</td>\n",
       "      <td>0.006</td>\n",
       "      <td>7.0</td>\n",
       "      <td>NaN</td>\n",
       "      <td>atlantic-sun</td>\n",
       "      <td>NaN</td>\n",
       "      <td>NaN</td>\n",
       "      <td>79.0</td>\n",
       "      <td>0.3</td>\n",
       "      <td>0.573</td>\n",
       "      <td>245.0</td>\n",
       "      <td>0.478</td>\n",
       "      <td>117.0</td>\n",
       "      <td>0.269</td>\n",
       "      <td>66.0</td>\n",
       "      <td>0.697</td>\n",
       "      <td>46.0</td>\n",
       "      <td>29.0</td>\n",
       "      <td>29.0</td>\n",
       "      <td>76.0</td>\n",
       "      <td>845.0</td>\n",
       "      <td>NaN</td>\n",
       "      <td>NaN</td>\n",
       "      <td>33.0</td>\n",
       "      <td>1.9</td>\n",
       "      <td>35.0</td>\n",
       "      <td>NaN</td>\n",
       "      <td>antonio-cool-1</td>\n",
       "      <td>Antonio Cool</td>\n",
       "      <td>327.0</td>\n",
       "      <td>NaN</td>\n",
       "      <td>Forward</td>\n",
       "      <td>2005.0</td>\n",
       "      <td>NaN</td>\n",
       "      <td>24.0</td>\n",
       "      <td>jacksonville</td>\n",
       "      <td>0.473</td>\n",
       "      <td>116.0</td>\n",
       "      <td>0.405</td>\n",
       "      <td>47.0</td>\n",
       "      <td>0.073</td>\n",
       "      <td>112.0</td>\n",
       "      <td>0.592</td>\n",
       "      <td>0.173</td>\n",
       "      <td>58.0</td>\n",
       "      <td>129.0</td>\n",
       "      <td>0.543</td>\n",
       "      <td>70.0</td>\n",
       "      <td>0.190</td>\n",
       "      <td>190.0</td>\n",
       "      <td>2.2</td>\n",
       "      <td>0.104</td>\n",
       "      <td>1.0</td>\n",
       "      <td>25.0</td>\n",
       "    </tr>\n",
       "    <tr>\n",
       "      <th>1</th>\n",
       "      <td>1</td>\n",
       "      <td>NaN</td>\n",
       "      <td>41.0</td>\n",
       "      <td>NaN</td>\n",
       "      <td>5.0</td>\n",
       "      <td>NaN</td>\n",
       "      <td>atlantic-sun</td>\n",
       "      <td>NaN</td>\n",
       "      <td>NaN</td>\n",
       "      <td>75.0</td>\n",
       "      <td>-0.1</td>\n",
       "      <td>0.537</td>\n",
       "      <td>349.0</td>\n",
       "      <td>0.458</td>\n",
       "      <td>160.0</td>\n",
       "      <td>0.155</td>\n",
       "      <td>54.0</td>\n",
       "      <td>0.741</td>\n",
       "      <td>40.0</td>\n",
       "      <td>27.0</td>\n",
       "      <td>27.0</td>\n",
       "      <td>76.0</td>\n",
       "      <td>832.0</td>\n",
       "      <td>NaN</td>\n",
       "      <td>NaN</td>\n",
       "      <td>23.0</td>\n",
       "      <td>1.6</td>\n",
       "      <td>35.0</td>\n",
       "      <td>NaN</td>\n",
       "      <td>antonio-cool-1</td>\n",
       "      <td>Antonio Cool</td>\n",
       "      <td>415.0</td>\n",
       "      <td>NaN</td>\n",
       "      <td>Forward</td>\n",
       "      <td>2006.0</td>\n",
       "      <td>NaN</td>\n",
       "      <td>24.0</td>\n",
       "      <td>jacksonville</td>\n",
       "      <td>0.453</td>\n",
       "      <td>158.0</td>\n",
       "      <td>0.348</td>\n",
       "      <td>55.0</td>\n",
       "      <td>NaN</td>\n",
       "      <td>98.0</td>\n",
       "      <td>0.554</td>\n",
       "      <td>0.090</td>\n",
       "      <td>37.0</td>\n",
       "      <td>191.0</td>\n",
       "      <td>0.550</td>\n",
       "      <td>105.0</td>\n",
       "      <td>NaN</td>\n",
       "      <td>190.0</td>\n",
       "      <td>1.5</td>\n",
       "      <td>0.072</td>\n",
       "      <td>2.0</td>\n",
       "      <td>25.0</td>\n",
       "    </tr>\n",
       "    <tr>\n",
       "      <th>2</th>\n",
       "      <td>2</td>\n",
       "      <td>0.043</td>\n",
       "      <td>2.0</td>\n",
       "      <td>0.025</td>\n",
       "      <td>2.0</td>\n",
       "      <td>-5.3</td>\n",
       "      <td>atlantic-10</td>\n",
       "      <td>-3.5</td>\n",
       "      <td>0.078</td>\n",
       "      <td>6.0</td>\n",
       "      <td>0.0</td>\n",
       "      <td>0.404</td>\n",
       "      <td>26.0</td>\n",
       "      <td>0.269</td>\n",
       "      <td>7.0</td>\n",
       "      <td>0.154</td>\n",
       "      <td>4.0</td>\n",
       "      <td>0.750</td>\n",
       "      <td>3.0</td>\n",
       "      <td>15.0</td>\n",
       "      <td>0.0</td>\n",
       "      <td>78.0</td>\n",
       "      <td>87.0</td>\n",
       "      <td>-1.8</td>\n",
       "      <td>0.057</td>\n",
       "      <td>5.0</td>\n",
       "      <td>0.0</td>\n",
       "      <td>19.0</td>\n",
       "      <td>4.8</td>\n",
       "      <td>jake-fay-1</td>\n",
       "      <td>Jake Fay</td>\n",
       "      <td>24.0</td>\n",
       "      <td>23.0</td>\n",
       "      <td>Guard</td>\n",
       "      <td>2014.0</td>\n",
       "      <td>0.013</td>\n",
       "      <td>2.0</td>\n",
       "      <td>hartford</td>\n",
       "      <td>0.808</td>\n",
       "      <td>21.0</td>\n",
       "      <td>0.333</td>\n",
       "      <td>7.0</td>\n",
       "      <td>0.067</td>\n",
       "      <td>11.0</td>\n",
       "      <td>0.430</td>\n",
       "      <td>0.152</td>\n",
       "      <td>5.0</td>\n",
       "      <td>5.0</td>\n",
       "      <td>0.000</td>\n",
       "      <td>0.0</td>\n",
       "      <td>0.181</td>\n",
       "      <td>195.0</td>\n",
       "      <td>0.0</td>\n",
       "      <td>0.003</td>\n",
       "      <td>1.0</td>\n",
       "      <td>8.0</td>\n",
       "    </tr>\n",
       "    <tr>\n",
       "      <th>3</th>\n",
       "      <td>3</td>\n",
       "      <td>0.079</td>\n",
       "      <td>1.0</td>\n",
       "      <td>0.000</td>\n",
       "      <td>0.0</td>\n",
       "      <td>-24.5</td>\n",
       "      <td>america-east</td>\n",
       "      <td>-5.4</td>\n",
       "      <td>0.052</td>\n",
       "      <td>1.0</td>\n",
       "      <td>0.0</td>\n",
       "      <td>0.000</td>\n",
       "      <td>9.0</td>\n",
       "      <td>0.000</td>\n",
       "      <td>0.0</td>\n",
       "      <td>0.000</td>\n",
       "      <td>0.0</td>\n",
       "      <td>NaN</td>\n",
       "      <td>0.0</td>\n",
       "      <td>10.0</td>\n",
       "      <td>0.0</td>\n",
       "      <td>78.0</td>\n",
       "      <td>22.0</td>\n",
       "      <td>-19.1</td>\n",
       "      <td>0.051</td>\n",
       "      <td>1.0</td>\n",
       "      <td>-0.2</td>\n",
       "      <td>0.0</td>\n",
       "      <td>-16.1</td>\n",
       "      <td>jake-fay-1</td>\n",
       "      <td>Jake Fay</td>\n",
       "      <td>0.0</td>\n",
       "      <td>1.0</td>\n",
       "      <td>Guard</td>\n",
       "      <td>2016.0</td>\n",
       "      <td>0.026</td>\n",
       "      <td>1.0</td>\n",
       "      <td>hartford</td>\n",
       "      <td>0.667</td>\n",
       "      <td>6.0</td>\n",
       "      <td>0.000</td>\n",
       "      <td>0.0</td>\n",
       "      <td>0.051</td>\n",
       "      <td>2.0</td>\n",
       "      <td>0.000</td>\n",
       "      <td>0.182</td>\n",
       "      <td>2.0</td>\n",
       "      <td>3.0</td>\n",
       "      <td>0.000</td>\n",
       "      <td>0.0</td>\n",
       "      <td>0.260</td>\n",
       "      <td>195.0</td>\n",
       "      <td>-0.2</td>\n",
       "      <td>-0.365</td>\n",
       "      <td>2.0</td>\n",
       "      <td>21.0</td>\n",
       "    </tr>\n",
       "    <tr>\n",
       "      <th>4</th>\n",
       "      <td>4</td>\n",
       "      <td>0.000</td>\n",
       "      <td>0.0</td>\n",
       "      <td>0.067</td>\n",
       "      <td>1.0</td>\n",
       "      <td>-20.2</td>\n",
       "      <td>america-east</td>\n",
       "      <td>-1.6</td>\n",
       "      <td>0.000</td>\n",
       "      <td>0.0</td>\n",
       "      <td>0.0</td>\n",
       "      <td>0.000</td>\n",
       "      <td>6.0</td>\n",
       "      <td>0.000</td>\n",
       "      <td>0.0</td>\n",
       "      <td>0.000</td>\n",
       "      <td>0.0</td>\n",
       "      <td>NaN</td>\n",
       "      <td>0.0</td>\n",
       "      <td>8.0</td>\n",
       "      <td>0.0</td>\n",
       "      <td>78.0</td>\n",
       "      <td>15.0</td>\n",
       "      <td>-18.7</td>\n",
       "      <td>0.073</td>\n",
       "      <td>1.0</td>\n",
       "      <td>-0.1</td>\n",
       "      <td>0.0</td>\n",
       "      <td>-11.8</td>\n",
       "      <td>jake-fay-1</td>\n",
       "      <td>Jake Fay</td>\n",
       "      <td>0.0</td>\n",
       "      <td>1.0</td>\n",
       "      <td>Guard</td>\n",
       "      <td>2017.0</td>\n",
       "      <td>0.038</td>\n",
       "      <td>1.0</td>\n",
       "      <td>hartford</td>\n",
       "      <td>0.667</td>\n",
       "      <td>4.0</td>\n",
       "      <td>0.000</td>\n",
       "      <td>0.0</td>\n",
       "      <td>0.037</td>\n",
       "      <td>1.0</td>\n",
       "      <td>0.000</td>\n",
       "      <td>0.143</td>\n",
       "      <td>1.0</td>\n",
       "      <td>2.0</td>\n",
       "      <td>0.000</td>\n",
       "      <td>0.0</td>\n",
       "      <td>0.236</td>\n",
       "      <td>195.0</td>\n",
       "      <td>-0.1</td>\n",
       "      <td>-0.308</td>\n",
       "      <td>3.0</td>\n",
       "      <td>21.0</td>\n",
       "    </tr>\n",
       "  </tbody>\n",
       "</table>\n",
       "</div>"
      ],
      "text/plain": [
       "   index  assist_percentage  assists  block_percentage  blocks  \\\n",
       "0      0              0.049     20.0             0.006     7.0   \n",
       "1      1                NaN     41.0               NaN     5.0   \n",
       "2      2              0.043      2.0             0.025     2.0   \n",
       "3      3              0.079      1.0             0.000     0.0   \n",
       "4      4              0.000      0.0             0.067     1.0   \n",
       "\n",
       "   box_plus_minus    conference  defensive_box_plus_minus  \\\n",
       "0             NaN  atlantic-sun                       NaN   \n",
       "1             NaN  atlantic-sun                       NaN   \n",
       "2            -5.3   atlantic-10                      -3.5   \n",
       "3           -24.5  america-east                      -5.4   \n",
       "4           -20.2  america-east                      -1.6   \n",
       "\n",
       "   defensive_rebound_percentage  defensive_rebounds  defensive_win_shares  \\\n",
       "0                           NaN                79.0                   0.3   \n",
       "1                           NaN                75.0                  -0.1   \n",
       "2                         0.078                 6.0                   0.0   \n",
       "3                         0.052                 1.0                   0.0   \n",
       "4                         0.000                 0.0                   0.0   \n",
       "\n",
       "   effective_field_goal_percentage  field_goal_attempts  \\\n",
       "0                            0.573                245.0   \n",
       "1                            0.537                349.0   \n",
       "2                            0.404                 26.0   \n",
       "3                            0.000                  9.0   \n",
       "4                            0.000                  6.0   \n",
       "\n",
       "   field_goal_percentage  field_goals  free_throw_attempt_rate  \\\n",
       "0                  0.478        117.0                    0.269   \n",
       "1                  0.458        160.0                    0.155   \n",
       "2                  0.269          7.0                    0.154   \n",
       "3                  0.000          0.0                    0.000   \n",
       "4                  0.000          0.0                    0.000   \n",
       "\n",
       "   free_throw_attempts  free_throw_percentage  free_throws  games_played  \\\n",
       "0                 66.0                  0.697         46.0          29.0   \n",
       "1                 54.0                  0.741         40.0          27.0   \n",
       "2                  4.0                  0.750          3.0          15.0   \n",
       "3                  0.0                    NaN          0.0          10.0   \n",
       "4                  0.0                    NaN          0.0           8.0   \n",
       "\n",
       "   games_started  height  minutes_played  offensive_box_plus_minus  \\\n",
       "0           29.0    76.0           845.0                       NaN   \n",
       "1           27.0    76.0           832.0                       NaN   \n",
       "2            0.0    78.0            87.0                      -1.8   \n",
       "3            0.0    78.0            22.0                     -19.1   \n",
       "4            0.0    78.0            15.0                     -18.7   \n",
       "\n",
       "   offensive_rebound_percentage  offensive_rebounds  offensive_win_shares  \\\n",
       "0                           NaN                33.0                   1.9   \n",
       "1                           NaN                23.0                   1.6   \n",
       "2                         0.057                 5.0                   0.0   \n",
       "3                         0.051                 1.0                  -0.2   \n",
       "4                         0.073                 1.0                  -0.1   \n",
       "\n",
       "   personal_fouls  player_efficiency_rating       player_id   player_name  \\\n",
       "0            35.0                       NaN  antonio-cool-1  Antonio Cool   \n",
       "1            35.0                       NaN  antonio-cool-1  Antonio Cool   \n",
       "2            19.0                       4.8      jake-fay-1      Jake Fay   \n",
       "3             0.0                     -16.1      jake-fay-1      Jake Fay   \n",
       "4             0.0                     -11.8      jake-fay-1      Jake Fay   \n",
       "\n",
       "   points  points_produced position  season  steal_percentage  steals  \\\n",
       "0   327.0              NaN  Forward  2005.0               NaN    24.0   \n",
       "1   415.0              NaN  Forward  2006.0               NaN    24.0   \n",
       "2    24.0             23.0    Guard  2014.0             0.013     2.0   \n",
       "3     0.0              1.0    Guard  2016.0             0.026     1.0   \n",
       "4     0.0              1.0    Guard  2017.0             0.038     1.0   \n",
       "\n",
       "  team_abbreviation  three_point_attempt_rate  three_point_attempts  \\\n",
       "0      jacksonville                     0.473                 116.0   \n",
       "1      jacksonville                     0.453                 158.0   \n",
       "2          hartford                     0.808                  21.0   \n",
       "3          hartford                     0.667                   6.0   \n",
       "4          hartford                     0.667                   4.0   \n",
       "\n",
       "   three_point_percentage  three_pointers  total_rebound_percentage  \\\n",
       "0                   0.405            47.0                     0.073   \n",
       "1                   0.348            55.0                       NaN   \n",
       "2                   0.333             7.0                     0.067   \n",
       "3                   0.000             0.0                     0.051   \n",
       "4                   0.000             0.0                     0.037   \n",
       "\n",
       "   total_rebounds  true_shooting_percentage  turnover_percentage  turnovers  \\\n",
       "0           112.0                     0.592                0.173       58.0   \n",
       "1            98.0                     0.554                0.090       37.0   \n",
       "2            11.0                     0.430                0.152        5.0   \n",
       "3             2.0                     0.000                0.182        2.0   \n",
       "4             1.0                     0.000                0.143        1.0   \n",
       "\n",
       "   two_point_attempts  two_point_percentage  two_pointers  usage_percentage  \\\n",
       "0               129.0                 0.543          70.0             0.190   \n",
       "1               191.0                 0.550         105.0               NaN   \n",
       "2                 5.0                 0.000           0.0             0.181   \n",
       "3                 3.0                 0.000           0.0             0.260   \n",
       "4                 2.0                 0.000           0.0             0.236   \n",
       "\n",
       "   weight  win_shares  win_shares_per_40_minutes  player_season_number  \\\n",
       "0   190.0         2.2                      0.104                   1.0   \n",
       "1   190.0         1.5                      0.072                   2.0   \n",
       "2   195.0         0.0                      0.003                   1.0   \n",
       "3   195.0        -0.2                     -0.365                   2.0   \n",
       "4   195.0        -0.1                     -0.308                   3.0   \n",
       "\n",
       "   avg_conf_rank  \n",
       "0           25.0  \n",
       "1           25.0  \n",
       "2            8.0  \n",
       "3           21.0  \n",
       "4           21.0  "
      ]
     },
     "execution_count": 4,
     "metadata": {},
     "output_type": "execute_result"
    }
   ],
   "source": [
    "data = pd.read_sql_query(\"\"\"\n",
    "SELECT\n",
    "    *\n",
    "FROM ncaa_player_career_stats2 ncaa\n",
    "WHERE ncaa.games_played IS NOT NULL\n",
    "\"\"\", con = conn)\n",
    "print(data.shape)\n",
    "data.head()"
   ]
  },
  {
   "cell_type": "markdown",
   "metadata": {},
   "source": [
    "The next step in our exploration journey is to examine what data we have. We look at the sum of null values in each of our columns. We list them by how many rows are missing. We can see that we are missing a lot of the data in our advanced statistics. "
   ]
  },
  {
   "cell_type": "code",
   "execution_count": 5,
   "metadata": {},
   "outputs": [
    {
     "data": {
      "text/plain": [
       "offensive_box_plus_minus           48997\n",
       "box_plus_minus                     48997\n",
       "defensive_box_plus_minus           48997\n",
       "player_efficiency_rating           46315\n",
       "defensive_rebound_percentage       44589\n",
       "points_produced                    44587\n",
       "offensive_rebound_percentage       44498\n",
       "steal_percentage                   44461\n",
       "usage_percentage                   24299\n",
       "block_percentage                   24279\n",
       "total_rebound_percentage           24279\n",
       "assist_percentage                  24277\n",
       "three_point_percentage             19158\n",
       "win_shares_per_40_minutes           9454\n",
       "minutes_played                      8737\n",
       "free_throw_percentage               8325\n",
       "turnover_percentage                 6123\n",
       "offensive_rebounds                  5942\n",
       "defensive_rebounds                  5942\n",
       "games_started                       5387\n",
       "turnovers                           4751\n",
       "avg_conf_rank                       4273\n",
       "personal_fouls                      4072\n",
       "two_point_percentage                3966\n",
       "effective_field_goal_percentage     2260\n",
       "free_throw_attempt_rate             2260\n",
       "three_point_attempt_rate            2260\n",
       "field_goal_percentage               2259\n",
       "true_shooting_percentage            1889\n",
       "defensive_win_shares                 563\n",
       "win_shares                           563\n",
       "offensive_win_shares                 563\n",
       "blocks                                 3\n",
       "steals                                 3\n",
       "two_point_attempts                     2\n",
       "free_throws                            2\n",
       "free_throw_attempts                    2\n",
       "three_pointers                         2\n",
       "three_point_attempts                   2\n",
       "two_pointers                           2\n",
       "total_rebounds                         1\n",
       "field_goals                            1\n",
       "field_goal_attempts                    1\n",
       "assists                                1\n",
       "weight                                 0\n",
       "conference                             0\n",
       "position                               0\n",
       "points                                 0\n",
       "games_played                           0\n",
       "height                                 0\n",
       "team_abbreviation                      0\n",
       "player_season_number                   0\n",
       "season                                 0\n",
       "player_id                              0\n",
       "player_name                            0\n",
       "index                                  0\n",
       "dtype: int64"
      ]
     },
     "execution_count": 5,
     "metadata": {},
     "output_type": "execute_result"
    }
   ],
   "source": [
    "(data.isnull().sum()).sort_values(ascending = False)"
   ]
  },
  {
   "cell_type": "markdown",
   "metadata": {},
   "source": [
    "Next let's look when our data is from. We plot the number of players we have in each season. From the graph we can see the majority of our data begins in the 2001 season, with some data dating back to 1993."
   ]
  },
  {
   "cell_type": "code",
   "execution_count": 6,
   "metadata": {},
   "outputs": [],
   "source": [
    "colors = []\n",
    "for year in list(set(data['season'])):\n",
    "    if(year == 2001):\n",
    "        colors.append('darkorange')\n",
    "    else:\n",
    "        colors.append('cornflowerblue')"
   ]
  },
  {
   "cell_type": "code",
   "execution_count": 7,
   "metadata": {
    "scrolled": false
   },
   "outputs": [
    {
     "data": {
      "image/png": "[encoded data removed]",
      "text/plain": [
       "<Figure size 432x288 with 1 Axes>"
      ]
     },
     "metadata": {},
     "output_type": "display_data"
    }
   ],
   "source": [
    "sns.set_style(\"darkgrid\")\n",
    "sns.barplot(x = 'season',\n",
    "           y = 'player_id',\n",
    "            palette = colors,\n",
    "           data = data.groupby(['season']).player_id.nunique().reset_index())\n",
    "plt.xticks(rotation = 90)\n",
    "plt.xlabel('Season')\n",
    "plt.ylabel('Player Count')\n",
    "plt.title('NCAA Player Counts by Season');"
   ]
  },
  {
   "cell_type": "markdown",
   "metadata": {},
   "source": [
    "Next we want to start looking at some our data. The graph below is looking at the average height of players for every season. Based on the previous graph we know that this data is baised with not much data from the 90's. We can see the results of this in there being a downward slope in average height. Once we hit 2001 the heights level out, this is from the amount of players in our data also leveling off. "
   ]
  },
  {
   "cell_type": "code",
   "execution_count": 8,
   "metadata": {},
   "outputs": [
    {
     "data": {
      "image/png": "[encoded data removed]",
      "text/plain": [
       "<Figure size 432x288 with 1 Axes>"
      ]
     },
     "metadata": {
      "needs_background": "light"
     },
     "output_type": "display_data"
    }
   ],
   "source": [
    "sns.barplot(x = 'season',\n",
    "            y = 'height',\n",
    "            data = data.groupby(['season']).height.mean().reset_index())\n",
    "plt.xticks(rotation = 90);"
   ]
  },
  {
   "cell_type": "markdown",
   "metadata": {},
   "source": [
    "Now we look at the average weight for a NCAA player. Again, there is high varience with the data before 2001. But we do notice an interesting trend in the data once the full data kicks in. The weight goes down in the seasons following 2001."
   ]
  },
  {
   "cell_type": "code",
   "execution_count": 9,
   "metadata": {},
   "outputs": [
    {
     "data": {
      "image/png": "[encoded data removed]",
      "text/plain": [
       "<Figure size 432x288 with 1 Axes>"
      ]
     },
     "metadata": {
      "needs_background": "light"
     },
     "output_type": "display_data"
    }
   ],
   "source": [
    "sns.barplot(x = 'season',\n",
    "            y = 'weight',\n",
    "            data = data.groupby(['season']).weight.mean().reset_index())\n",
    "plt.xticks(rotation = 90);"
   ]
  },
  {
   "cell_type": "markdown",
   "metadata": {},
   "source": [
    "We can explore this a little bit more by creating a height to weight ratio per season. When plotted, we can see the clear trend in the positive direction for height to weight ratio. "
   ]
  },
  {
   "cell_type": "code",
   "execution_count": 9,
   "metadata": {},
   "outputs": [],
   "source": [
    "data['height_to_weight'] = data.height / data.weight"
   ]
  },
  {
   "cell_type": "code",
   "execution_count": 11,
   "metadata": {},
   "outputs": [
    {
     "data": {
      "image/png": "[encoded data removed]",
      "text/plain": [
       "<Figure size 432x288 with 1 Axes>"
      ]
     },
     "metadata": {
      "needs_background": "light"
     },
     "output_type": "display_data"
    }
   ],
   "source": [
    "sns.barplot(x = 'season',\n",
    "           y = 'height_to_weight',\n",
    "           data = data.groupby(['season']).height_to_weight.mean().reset_index())\n",
    "plt.xticks(rotation = 90);"
   ]
  },
  {
   "cell_type": "markdown",
   "metadata": {},
   "source": [
    "We now look back at our advances statistics. We try to find where our data is missing in the early years. 'box_plus_minus', 'player_efficiency_rating', and 'win_shares_per_40_minutes' are much more missing than  'win_shares'. We look at where this is missing in our seasons. "
   ]
  },
  {
   "cell_type": "code",
   "execution_count": 10,
   "metadata": {
    "scrolled": true
   },
   "outputs": [
    {
     "data": {
      "text/plain": [
       "box_plus_minus               48997\n",
       "player_efficiency_rating     46315\n",
       "win_shares                     563\n",
       "win_shares_per_40_minutes     9454\n",
       "dtype: int64"
      ]
     },
     "execution_count": 10,
     "metadata": {},
     "output_type": "execute_result"
    }
   ],
   "source": [
    "data[['box_plus_minus', 'player_efficiency_rating', 'win_shares', 'win_shares_per_40_minutes']].isnull().sum()"
   ]
  },
  {
   "cell_type": "code",
   "execution_count": 11,
   "metadata": {},
   "outputs": [
    {
     "data": {
      "text/plain": [
       "season\n",
       "1992.0      5\n",
       "1993.0     40\n",
       "1994.0    105\n",
       "1995.0    192\n",
       "2004.0      1\n",
       "2005.0      4\n",
       "2006.0      5\n",
       "2007.0     17\n",
       "2008.0     46\n",
       "2009.0     57\n",
       "2010.0     90\n",
       "2014.0      1\n",
       "Name: player_id, dtype: int64"
      ]
     },
     "execution_count": 11,
     "metadata": {},
     "output_type": "execute_result"
    }
   ],
   "source": [
    "data.loc[data.win_shares.isnull()].groupby(['season']).player_id.nunique()"
   ]
  },
  {
   "cell_type": "markdown",
   "metadata": {},
   "source": [
    "Next we look at what columns contain numbers. This will allow us to know where to look for statistics."
   ]
  },
  {
   "cell_type": "code",
   "execution_count": 12,
   "metadata": {
    "scrolled": false
   },
   "outputs": [
    {
     "data": {
      "text/plain": [
       "Index(['index', 'assist_percentage', 'assists', 'block_percentage', 'blocks',\n",
       "       'box_plus_minus', 'defensive_box_plus_minus',\n",
       "       'defensive_rebound_percentage', 'defensive_rebounds',\n",
       "       'defensive_win_shares', 'effective_field_goal_percentage',\n",
       "       'field_goal_attempts', 'field_goal_percentage', 'field_goals',\n",
       "       'free_throw_attempt_rate', 'free_throw_attempts',\n",
       "       'free_throw_percentage', 'free_throws', 'games_played', 'games_started',\n",
       "       'height', 'minutes_played', 'offensive_box_plus_minus',\n",
       "       'offensive_rebound_percentage', 'offensive_rebounds',\n",
       "       'offensive_win_shares', 'personal_fouls', 'player_efficiency_rating',\n",
       "       'points', 'points_produced', 'season', 'steal_percentage', 'steals',\n",
       "       'three_point_attempt_rate', 'three_point_attempts',\n",
       "       'three_point_percentage', 'three_pointers', 'total_rebound_percentage',\n",
       "       'total_rebounds', 'true_shooting_percentage', 'turnover_percentage',\n",
       "       'turnovers', 'two_point_attempts', 'two_point_percentage',\n",
       "       'two_pointers', 'usage_percentage', 'weight', 'win_shares',\n",
       "       'win_shares_per_40_minutes', 'player_season_number', 'avg_conf_rank',\n",
       "       'height_to_weight'],\n",
       "      dtype='object')"
      ]
     },
     "execution_count": 12,
     "metadata": {},
     "output_type": "execute_result"
    }
   ],
   "source": [
    "data.select_dtypes([float, int]).columns"
   ]
  },
  {
   "cell_type": "markdown",
   "metadata": {},
   "source": [
    "Now we begin to create per minute stats. This allows us to evaluate players more effectivly. "
   ]
  },
  {
   "cell_type": "code",
   "execution_count": 13,
   "metadata": {},
   "outputs": [],
   "source": [
    "data['assists_per_minute'] = data.assists / data.minutes_played\n",
    "data['blocks_per_minute'] = data['blocks'] / data.minutes_played\n",
    "data['drb_per_minute'] = data.defensive_rebounds / data.minutes_played\n",
    "data['fga_per_minute'] = data.field_goal_attempts / data.minutes_played\n",
    "data['fg_per_minute'] = data.field_goals / data.minutes_played\n",
    "data['starting_rate'] = data.games_started / data.games_played\n",
    "data['points_per_minute'] = data.points / data.minutes_played\n",
    "data['minutes_per_game'] = data.minutes_played / data.games_played\n",
    "data['orb_per_minute'] = data.offensive_rebounds / data.minutes_played\n",
    "data['fouls_per_minute'] = data.personal_fouls / data.minutes_played\n",
    "data['steals_per_minute'] = data.steals / data.minutes_played\n",
    "data['3pa_per_minute'] = data.three_point_attempts / data.minutes_played\n",
    "data['3pm_per_minute'] = data.three_pointers / data.minutes_played\n",
    "data['rebounds_per_minute'] = data.total_rebounds / data.minutes_played\n",
    "data['turnovers_per_minute'] = data.turnovers / data.minutes_played\n",
    "data['2pa_per_minute'] = data.two_point_attempts / data.minutes_played\n",
    "data['2pm_per_minute'] = data.two_pointers / data.minutes_played"
   ]
  },
  {
   "cell_type": "markdown",
   "metadata": {},
   "source": [
    "The plot below is a look at how many minutes the players play in their career. We can see a peak at 0, which sadly means that a lot of players never see any playing time in their careers. "
   ]
  },
  {
   "cell_type": "code",
   "execution_count": 32,
   "metadata": {
    "scrolled": false
   },
   "outputs": [
    {
     "data": {
      "text/plain": [
       "Text(0.5, 1.0, 'NCAA Player Minutes Distribution')"
      ]
     },
     "execution_count": 32,
     "metadata": {},
     "output_type": "execute_result"
    },
    {
     "data": {
      "image/png": "[encoded data removed]",
      "text/plain": [
       "<Figure size 432x288 with 1 Axes>"
      ]
     },
     "metadata": {},
     "output_type": "display_data"
    }
   ],
   "source": [
    "sns.set_style(\"darkgrid\")\n",
    "fig = sns.distplot(data.minutes_played.dropna(), color = \"cornflowerblue\");\n",
    "plt.xlabel('Minutes Played')\n",
    "plt.title('NCAA Player Minutes Distribution')"
   ]
  },
  {
   "cell_type": "markdown",
   "metadata": {},
   "source": [
    "We look were our per minute stats are infinite. This is a divide by zero issue in the creation of these columns."
   ]
  },
  {
   "cell_type": "code",
   "execution_count": 18,
   "metadata": {
    "scrolled": true
   },
   "outputs": [
    {
     "data": {
      "text/html": [
       "<div>\n",
       "<style scoped>\n",
       "    .dataframe tbody tr th:only-of-type {\n",
       "        vertical-align: middle;\n",
       "    }\n",
       "\n",
       "    .dataframe tbody tr th {\n",
       "        vertical-align: top;\n",
       "    }\n",
       "\n",
       "    .dataframe thead th {\n",
       "        text-align: right;\n",
       "    }\n",
       "</style>\n",
       "<table border=\"1\" class=\"dataframe\">\n",
       "  <thead>\n",
       "    <tr style=\"text-align: right;\">\n",
       "      <th></th>\n",
       "      <th>assist_percentage</th>\n",
       "      <th>assists</th>\n",
       "      <th>block_percentage</th>\n",
       "      <th>blocks</th>\n",
       "      <th>box_plus_minus</th>\n",
       "      <th>conference</th>\n",
       "      <th>defensive_box_plus_minus</th>\n",
       "      <th>defensive_rebound_percentage</th>\n",
       "      <th>defensive_rebounds</th>\n",
       "      <th>defensive_win_shares</th>\n",
       "      <th>effective_field_goal_percentage</th>\n",
       "      <th>field_goal_attempts</th>\n",
       "      <th>field_goal_percentage</th>\n",
       "      <th>field_goals</th>\n",
       "      <th>free_throw_attempt_rate</th>\n",
       "      <th>free_throw_attempts</th>\n",
       "      <th>free_throw_percentage</th>\n",
       "      <th>free_throws</th>\n",
       "      <th>games_played</th>\n",
       "      <th>games_started</th>\n",
       "      <th>height</th>\n",
       "      <th>minutes_played</th>\n",
       "      <th>offensive_box_plus_minus</th>\n",
       "      <th>offensive_rebound_percentage</th>\n",
       "      <th>offensive_rebounds</th>\n",
       "      <th>offensive_win_shares</th>\n",
       "      <th>personal_fouls</th>\n",
       "      <th>player_efficiency_rating</th>\n",
       "      <th>player_id</th>\n",
       "      <th>player_name</th>\n",
       "      <th>points</th>\n",
       "      <th>points_produced</th>\n",
       "      <th>position</th>\n",
       "      <th>season</th>\n",
       "      <th>steal_percentage</th>\n",
       "      <th>steals</th>\n",
       "      <th>team_abbreviation</th>\n",
       "      <th>three_point_attempt_rate</th>\n",
       "      <th>three_point_attempts</th>\n",
       "      <th>three_point_percentage</th>\n",
       "      <th>three_pointers</th>\n",
       "      <th>total_rebound_percentage</th>\n",
       "      <th>total_rebounds</th>\n",
       "      <th>true_shooting_percentage</th>\n",
       "      <th>turnover_percentage</th>\n",
       "      <th>turnovers</th>\n",
       "      <th>two_point_attempts</th>\n",
       "      <th>two_point_percentage</th>\n",
       "      <th>two_pointers</th>\n",
       "      <th>usage_percentage</th>\n",
       "      <th>weight</th>\n",
       "      <th>win_shares</th>\n",
       "      <th>win_shares_per_40_minutes</th>\n",
       "      <th>player_season_number</th>\n",
       "      <th>height_to_weight</th>\n",
       "      <th>assists_per_minute</th>\n",
       "      <th>blocks_per_minute</th>\n",
       "      <th>drb_per_minute</th>\n",
       "      <th>fga_per_minute</th>\n",
       "      <th>fg_per_minute</th>\n",
       "      <th>starting_rate</th>\n",
       "      <th>points_per_minute</th>\n",
       "      <th>minutes_per_game</th>\n",
       "      <th>orb_per_minute</th>\n",
       "      <th>fouls_per_minute</th>\n",
       "      <th>steals_per_minute</th>\n",
       "      <th>3pa_per_minute</th>\n",
       "      <th>3pm_per_minute</th>\n",
       "      <th>rebounds_per_minute</th>\n",
       "      <th>turnovers_per_minute</th>\n",
       "      <th>2pa_per_minute</th>\n",
       "      <th>2pm_per_minute</th>\n",
       "    </tr>\n",
       "  </thead>\n",
       "  <tbody>\n",
       "    <tr>\n",
       "      <th>11685</th>\n",
       "      <td>NaN</td>\n",
       "      <td>0.0</td>\n",
       "      <td>NaN</td>\n",
       "      <td>0.0</td>\n",
       "      <td>-7.2</td>\n",
       "      <td>big-sky</td>\n",
       "      <td>-2.0</td>\n",
       "      <td>NaN</td>\n",
       "      <td>0.0</td>\n",
       "      <td>0.0</td>\n",
       "      <td>NaN</td>\n",
       "      <td>0.0</td>\n",
       "      <td>NaN</td>\n",
       "      <td>0.0</td>\n",
       "      <td>NaN</td>\n",
       "      <td>1.0</td>\n",
       "      <td>1.0</td>\n",
       "      <td>1.0</td>\n",
       "      <td>1.0</td>\n",
       "      <td>0.0</td>\n",
       "      <td>81.0</td>\n",
       "      <td>0.0</td>\n",
       "      <td>-5.2</td>\n",
       "      <td>NaN</td>\n",
       "      <td>0.0</td>\n",
       "      <td>0.0</td>\n",
       "      <td>0.0</td>\n",
       "      <td>NaN</td>\n",
       "      <td>tanner-morgan-1</td>\n",
       "      <td>Tanner Morgan</td>\n",
       "      <td>1.0</td>\n",
       "      <td>NaN</td>\n",
       "      <td>Forward</td>\n",
       "      <td>2017.0</td>\n",
       "      <td>NaN</td>\n",
       "      <td>0.0</td>\n",
       "      <td>northern-colorado</td>\n",
       "      <td>NaN</td>\n",
       "      <td>0.0</td>\n",
       "      <td>NaN</td>\n",
       "      <td>0.0</td>\n",
       "      <td>NaN</td>\n",
       "      <td>0.0</td>\n",
       "      <td>1.053</td>\n",
       "      <td>0.0</td>\n",
       "      <td>0.0</td>\n",
       "      <td>0.0</td>\n",
       "      <td>NaN</td>\n",
       "      <td>0.0</td>\n",
       "      <td>NaN</td>\n",
       "      <td>230.0</td>\n",
       "      <td>0.0</td>\n",
       "      <td>NaN</td>\n",
       "      <td>2.0</td>\n",
       "      <td>0.352174</td>\n",
       "      <td>NaN</td>\n",
       "      <td>NaN</td>\n",
       "      <td>NaN</td>\n",
       "      <td>NaN</td>\n",
       "      <td>NaN</td>\n",
       "      <td>0.0</td>\n",
       "      <td>inf</td>\n",
       "      <td>0.0</td>\n",
       "      <td>NaN</td>\n",
       "      <td>NaN</td>\n",
       "      <td>NaN</td>\n",
       "      <td>NaN</td>\n",
       "      <td>NaN</td>\n",
       "      <td>NaN</td>\n",
       "      <td>NaN</td>\n",
       "      <td>NaN</td>\n",
       "      <td>NaN</td>\n",
       "    </tr>\n",
       "    <tr>\n",
       "      <th>64767</th>\n",
       "      <td>0.0</td>\n",
       "      <td>0.0</td>\n",
       "      <td>NaN</td>\n",
       "      <td>0.0</td>\n",
       "      <td>NaN</td>\n",
       "      <td>big-east</td>\n",
       "      <td>NaN</td>\n",
       "      <td>NaN</td>\n",
       "      <td>0.0</td>\n",
       "      <td>0.0</td>\n",
       "      <td>1.00</td>\n",
       "      <td>1.0</td>\n",
       "      <td>1.0</td>\n",
       "      <td>1.0</td>\n",
       "      <td>0.0</td>\n",
       "      <td>0.0</td>\n",
       "      <td>NaN</td>\n",
       "      <td>0.0</td>\n",
       "      <td>1.0</td>\n",
       "      <td>1.0</td>\n",
       "      <td>81.0</td>\n",
       "      <td>0.0</td>\n",
       "      <td>NaN</td>\n",
       "      <td>NaN</td>\n",
       "      <td>0.0</td>\n",
       "      <td>0.0</td>\n",
       "      <td>1.0</td>\n",
       "      <td>NaN</td>\n",
       "      <td>tyler-adams-1</td>\n",
       "      <td>Tyler Adams</td>\n",
       "      <td>2.0</td>\n",
       "      <td>NaN</td>\n",
       "      <td>Center</td>\n",
       "      <td>2015.0</td>\n",
       "      <td>NaN</td>\n",
       "      <td>0.0</td>\n",
       "      <td>georgetown</td>\n",
       "      <td>0.0</td>\n",
       "      <td>0.0</td>\n",
       "      <td>NaN</td>\n",
       "      <td>0.0</td>\n",
       "      <td>NaN</td>\n",
       "      <td>0.0</td>\n",
       "      <td>1.000</td>\n",
       "      <td>0.0</td>\n",
       "      <td>0.0</td>\n",
       "      <td>1.0</td>\n",
       "      <td>1.0</td>\n",
       "      <td>1.0</td>\n",
       "      <td>NaN</td>\n",
       "      <td>254.0</td>\n",
       "      <td>0.0</td>\n",
       "      <td>NaN</td>\n",
       "      <td>2.0</td>\n",
       "      <td>0.318898</td>\n",
       "      <td>NaN</td>\n",
       "      <td>NaN</td>\n",
       "      <td>NaN</td>\n",
       "      <td>inf</td>\n",
       "      <td>inf</td>\n",
       "      <td>1.0</td>\n",
       "      <td>inf</td>\n",
       "      <td>0.0</td>\n",
       "      <td>NaN</td>\n",
       "      <td>inf</td>\n",
       "      <td>NaN</td>\n",
       "      <td>NaN</td>\n",
       "      <td>NaN</td>\n",
       "      <td>NaN</td>\n",
       "      <td>NaN</td>\n",
       "      <td>inf</td>\n",
       "      <td>inf</td>\n",
       "    </tr>\n",
       "    <tr>\n",
       "      <th>74045</th>\n",
       "      <td>0.0</td>\n",
       "      <td>0.0</td>\n",
       "      <td>NaN</td>\n",
       "      <td>0.0</td>\n",
       "      <td>0.0</td>\n",
       "      <td>wcc</td>\n",
       "      <td>0.1</td>\n",
       "      <td>NaN</td>\n",
       "      <td>0.0</td>\n",
       "      <td>0.0</td>\n",
       "      <td>0.75</td>\n",
       "      <td>2.0</td>\n",
       "      <td>0.5</td>\n",
       "      <td>1.0</td>\n",
       "      <td>0.0</td>\n",
       "      <td>0.0</td>\n",
       "      <td>NaN</td>\n",
       "      <td>0.0</td>\n",
       "      <td>1.0</td>\n",
       "      <td>0.0</td>\n",
       "      <td>81.0</td>\n",
       "      <td>0.0</td>\n",
       "      <td>0.0</td>\n",
       "      <td>NaN</td>\n",
       "      <td>0.0</td>\n",
       "      <td>0.0</td>\n",
       "      <td>0.0</td>\n",
       "      <td>NaN</td>\n",
       "      <td>tim-williams-2</td>\n",
       "      <td>Tim Williams</td>\n",
       "      <td>3.0</td>\n",
       "      <td>NaN</td>\n",
       "      <td>Forward</td>\n",
       "      <td>2013.0</td>\n",
       "      <td>NaN</td>\n",
       "      <td>0.0</td>\n",
       "      <td>saint-marys-ca</td>\n",
       "      <td>1.0</td>\n",
       "      <td>2.0</td>\n",
       "      <td>0.5</td>\n",
       "      <td>1.0</td>\n",
       "      <td>NaN</td>\n",
       "      <td>0.0</td>\n",
       "      <td>0.750</td>\n",
       "      <td>0.0</td>\n",
       "      <td>0.0</td>\n",
       "      <td>0.0</td>\n",
       "      <td>NaN</td>\n",
       "      <td>0.0</td>\n",
       "      <td>NaN</td>\n",
       "      <td>235.0</td>\n",
       "      <td>0.0</td>\n",
       "      <td>NaN</td>\n",
       "      <td>4.0</td>\n",
       "      <td>0.344681</td>\n",
       "      <td>NaN</td>\n",
       "      <td>NaN</td>\n",
       "      <td>NaN</td>\n",
       "      <td>inf</td>\n",
       "      <td>inf</td>\n",
       "      <td>0.0</td>\n",
       "      <td>inf</td>\n",
       "      <td>0.0</td>\n",
       "      <td>NaN</td>\n",
       "      <td>NaN</td>\n",
       "      <td>NaN</td>\n",
       "      <td>inf</td>\n",
       "      <td>inf</td>\n",
       "      <td>NaN</td>\n",
       "      <td>NaN</td>\n",
       "      <td>NaN</td>\n",
       "      <td>NaN</td>\n",
       "    </tr>\n",
       "  </tbody>\n",
       "</table>\n",
       "</div>"
      ],
      "text/plain": [
       "       assist_percentage  assists  block_percentage  blocks  box_plus_minus  \\\n",
       "11685                NaN      0.0               NaN     0.0            -7.2   \n",
       "64767                0.0      0.0               NaN     0.0             NaN   \n",
       "74045                0.0      0.0               NaN     0.0             0.0   \n",
       "\n",
       "      conference  defensive_box_plus_minus  defensive_rebound_percentage  \\\n",
       "11685    big-sky                      -2.0                           NaN   \n",
       "64767   big-east                       NaN                           NaN   \n",
       "74045        wcc                       0.1                           NaN   \n",
       "\n",
       "       defensive_rebounds  defensive_win_shares  \\\n",
       "11685                 0.0                   0.0   \n",
       "64767                 0.0                   0.0   \n",
       "74045                 0.0                   0.0   \n",
       "\n",
       "       effective_field_goal_percentage  field_goal_attempts  \\\n",
       "11685                              NaN                  0.0   \n",
       "64767                             1.00                  1.0   \n",
       "74045                             0.75                  2.0   \n",
       "\n",
       "       field_goal_percentage  field_goals  free_throw_attempt_rate  \\\n",
       "11685                    NaN          0.0                      NaN   \n",
       "64767                    1.0          1.0                      0.0   \n",
       "74045                    0.5          1.0                      0.0   \n",
       "\n",
       "       free_throw_attempts  free_throw_percentage  free_throws  games_played  \\\n",
       "11685                  1.0                    1.0          1.0           1.0   \n",
       "64767                  0.0                    NaN          0.0           1.0   \n",
       "74045                  0.0                    NaN          0.0           1.0   \n",
       "\n",
       "       games_started  height  minutes_played  offensive_box_plus_minus  \\\n",
       "11685            0.0    81.0             0.0                      -5.2   \n",
       "64767            1.0    81.0             0.0                       NaN   \n",
       "74045            0.0    81.0             0.0                       0.0   \n",
       "\n",
       "       offensive_rebound_percentage  offensive_rebounds  offensive_win_shares  \\\n",
       "11685                           NaN                 0.0                   0.0   \n",
       "64767                           NaN                 0.0                   0.0   \n",
       "74045                           NaN                 0.0                   0.0   \n",
       "\n",
       "       personal_fouls  player_efficiency_rating        player_id  \\\n",
       "11685             0.0                       NaN  tanner-morgan-1   \n",
       "64767             1.0                       NaN    tyler-adams-1   \n",
       "74045             0.0                       NaN   tim-williams-2   \n",
       "\n",
       "         player_name  points  points_produced position  season  \\\n",
       "11685  Tanner Morgan     1.0              NaN  Forward  2017.0   \n",
       "64767    Tyler Adams     2.0              NaN   Center  2015.0   \n",
       "74045   Tim Williams     3.0              NaN  Forward  2013.0   \n",
       "\n",
       "       steal_percentage  steals  team_abbreviation  three_point_attempt_rate  \\\n",
       "11685               NaN     0.0  northern-colorado                       NaN   \n",
       "64767               NaN     0.0         georgetown                       0.0   \n",
       "74045               NaN     0.0     saint-marys-ca                       1.0   \n",
       "\n",
       "       three_point_attempts  three_point_percentage  three_pointers  \\\n",
       "11685                   0.0                     NaN             0.0   \n",
       "64767                   0.0                     NaN             0.0   \n",
       "74045                   2.0                     0.5             1.0   \n",
       "\n",
       "       total_rebound_percentage  total_rebounds  true_shooting_percentage  \\\n",
       "11685                       NaN             0.0                     1.053   \n",
       "64767                       NaN             0.0                     1.000   \n",
       "74045                       NaN             0.0                     0.750   \n",
       "\n",
       "       turnover_percentage  turnovers  two_point_attempts  \\\n",
       "11685                  0.0        0.0                 0.0   \n",
       "64767                  0.0        0.0                 1.0   \n",
       "74045                  0.0        0.0                 0.0   \n",
       "\n",
       "       two_point_percentage  two_pointers  usage_percentage  weight  \\\n",
       "11685                   NaN           0.0               NaN   230.0   \n",
       "64767                   1.0           1.0               NaN   254.0   \n",
       "74045                   NaN           0.0               NaN   235.0   \n",
       "\n",
       "       win_shares  win_shares_per_40_minutes  player_season_number  \\\n",
       "11685         0.0                        NaN                   2.0   \n",
       "64767         0.0                        NaN                   2.0   \n",
       "74045         0.0                        NaN                   4.0   \n",
       "\n",
       "       height_to_weight  assists_per_minute  blocks_per_minute  \\\n",
       "11685          0.352174                 NaN                NaN   \n",
       "64767          0.318898                 NaN                NaN   \n",
       "74045          0.344681                 NaN                NaN   \n",
       "\n",
       "       drb_per_minute  fga_per_minute  fg_per_minute  starting_rate  \\\n",
       "11685             NaN             NaN            NaN            0.0   \n",
       "64767             NaN             inf            inf            1.0   \n",
       "74045             NaN             inf            inf            0.0   \n",
       "\n",
       "       points_per_minute  minutes_per_game  orb_per_minute  fouls_per_minute  \\\n",
       "11685                inf               0.0             NaN               NaN   \n",
       "64767                inf               0.0             NaN               inf   \n",
       "74045                inf               0.0             NaN               NaN   \n",
       "\n",
       "       steals_per_minute  3pa_per_minute  3pm_per_minute  rebounds_per_minute  \\\n",
       "11685                NaN             NaN             NaN                  NaN   \n",
       "64767                NaN             NaN             NaN                  NaN   \n",
       "74045                NaN             inf             inf                  NaN   \n",
       "\n",
       "       turnovers_per_minute  2pa_per_minute  2pm_per_minute  \n",
       "11685                   NaN             NaN             NaN  \n",
       "64767                   NaN             inf             inf  \n",
       "74045                   NaN             NaN             NaN  "
      ]
     },
     "execution_count": 18,
     "metadata": {},
     "output_type": "execute_result"
    }
   ],
   "source": [
    "data.loc[data.points_per_minute == np.inf]"
   ]
  },
  {
   "cell_type": "markdown",
   "metadata": {},
   "source": [
    "Plot the points per minute, and drop were they are infinite or na."
   ]
  },
  {
   "cell_type": "code",
   "execution_count": 19,
   "metadata": {
    "scrolled": true
   },
   "outputs": [
    {
     "data": {
      "image/png": "[encoded data removed]",
      "text/plain": [
       "<Figure size 432x288 with 1 Axes>"
      ]
     },
     "metadata": {
      "needs_background": "light"
     },
     "output_type": "display_data"
    }
   ],
   "source": [
    "sns.distplot(data.loc[data.points_per_minute != np.inf].points_per_minute.dropna());"
   ]
  },
  {
   "cell_type": "markdown",
   "metadata": {},
   "source": [
    "We next want to see who scored the most points per minutes when they have played over the median amount of minutes played. This will show us the most efficent scorers. Which is something we can verify with our domain knowledge."
   ]
  },
  {
   "cell_type": "code",
   "execution_count": 20,
   "metadata": {
    "scrolled": true
   },
   "outputs": [
    {
     "data": {
      "text/html": [
       "<div>\n",
       "<style scoped>\n",
       "    .dataframe tbody tr th:only-of-type {\n",
       "        vertical-align: middle;\n",
       "    }\n",
       "\n",
       "    .dataframe tbody tr th {\n",
       "        vertical-align: top;\n",
       "    }\n",
       "\n",
       "    .dataframe thead th {\n",
       "        text-align: right;\n",
       "    }\n",
       "</style>\n",
       "<table border=\"1\" class=\"dataframe\">\n",
       "  <thead>\n",
       "    <tr style=\"text-align: right;\">\n",
       "      <th></th>\n",
       "      <th>player_name</th>\n",
       "      <th>season</th>\n",
       "      <th>team_abbreviation</th>\n",
       "      <th>points_per_minute</th>\n",
       "    </tr>\n",
       "  </thead>\n",
       "  <tbody>\n",
       "    <tr>\n",
       "      <th>40306</th>\n",
       "      <td>Bubba Wells</td>\n",
       "      <td>1997.0</td>\n",
       "      <td>austin-peay</td>\n",
       "      <td>0.880292</td>\n",
       "    </tr>\n",
       "    <tr>\n",
       "      <th>78794</th>\n",
       "      <td>Reggie Williams</td>\n",
       "      <td>2007.0</td>\n",
       "      <td>virginia-military-institute</td>\n",
       "      <td>0.867290</td>\n",
       "    </tr>\n",
       "    <tr>\n",
       "      <th>8512</th>\n",
       "      <td>Jason Conley</td>\n",
       "      <td>2002.0</td>\n",
       "      <td>missouri</td>\n",
       "      <td>0.855057</td>\n",
       "    </tr>\n",
       "    <tr>\n",
       "      <th>10165</th>\n",
       "      <td>Stephen Curry</td>\n",
       "      <td>2009.0</td>\n",
       "      <td>davidson</td>\n",
       "      <td>0.850655</td>\n",
       "    </tr>\n",
       "    <tr>\n",
       "      <th>56080</th>\n",
       "      <td>Michael Beasley</td>\n",
       "      <td>2008.0</td>\n",
       "      <td>kansas-state</td>\n",
       "      <td>0.831892</td>\n",
       "    </tr>\n",
       "    <tr>\n",
       "      <th>...</th>\n",
       "      <td>...</td>\n",
       "      <td>...</td>\n",
       "      <td>...</td>\n",
       "      <td>...</td>\n",
       "    </tr>\n",
       "    <tr>\n",
       "      <th>75341</th>\n",
       "      <td>Aras Baskauskas</td>\n",
       "      <td>2002.0</td>\n",
       "      <td>california-irvine</td>\n",
       "      <td>0.059581</td>\n",
       "    </tr>\n",
       "    <tr>\n",
       "      <th>47514</th>\n",
       "      <td>Brandon Edwards</td>\n",
       "      <td>2006.0</td>\n",
       "      <td>bethune-cookman</td>\n",
       "      <td>0.054432</td>\n",
       "    </tr>\n",
       "    <tr>\n",
       "      <th>61657</th>\n",
       "      <td>John Glaser</td>\n",
       "      <td>2003.0</td>\n",
       "      <td>portland-state</td>\n",
       "      <td>0.052854</td>\n",
       "    </tr>\n",
       "    <tr>\n",
       "      <th>25904</th>\n",
       "      <td>Patrick McCloskey</td>\n",
       "      <td>2007.0</td>\n",
       "      <td>oakland</td>\n",
       "      <td>0.044000</td>\n",
       "    </tr>\n",
       "    <tr>\n",
       "      <th>30336</th>\n",
       "      <td>Mike Horn</td>\n",
       "      <td>2013.0</td>\n",
       "      <td>binghamton</td>\n",
       "      <td>0.042683</td>\n",
       "    </tr>\n",
       "  </tbody>\n",
       "</table>\n",
       "<p>41325 rows × 4 columns</p>\n",
       "</div>"
      ],
      "text/plain": [
       "             player_name  season            team_abbreviation  \\\n",
       "40306        Bubba Wells  1997.0                  austin-peay   \n",
       "78794    Reggie Williams  2007.0  virginia-military-institute   \n",
       "8512        Jason Conley  2002.0                     missouri   \n",
       "10165      Stephen Curry  2009.0                     davidson   \n",
       "56080    Michael Beasley  2008.0                 kansas-state   \n",
       "...                  ...     ...                          ...   \n",
       "75341    Aras Baskauskas  2002.0            california-irvine   \n",
       "47514    Brandon Edwards  2006.0              bethune-cookman   \n",
       "61657        John Glaser  2003.0               portland-state   \n",
       "25904  Patrick McCloskey  2007.0                      oakland   \n",
       "30336          Mike Horn  2013.0                   binghamton   \n",
       "\n",
       "       points_per_minute  \n",
       "40306           0.880292  \n",
       "78794           0.867290  \n",
       "8512            0.855057  \n",
       "10165           0.850655  \n",
       "56080           0.831892  \n",
       "...                  ...  \n",
       "75341           0.059581  \n",
       "47514           0.054432  \n",
       "61657           0.052854  \n",
       "25904           0.044000  \n",
       "30336           0.042683  \n",
       "\n",
       "[41325 rows x 4 columns]"
      ]
     },
     "execution_count": 20,
     "metadata": {},
     "output_type": "execute_result"
    }
   ],
   "source": [
    "data.loc[data.minutes_played >= data.minutes_played.median()][['player_name', 'season', 'team_abbreviation', 'points_per_minute']].sort_values(by = 'points_per_minute', ascending = False)\n"
   ]
  },
  {
   "cell_type": "markdown",
   "metadata": {},
   "source": [
    "Look at more descriptive stats on minutes played"
   ]
  },
  {
   "cell_type": "code",
   "execution_count": 21,
   "metadata": {},
   "outputs": [
    {
     "data": {
      "text/plain": [
       "483.3630367429927"
      ]
     },
     "execution_count": 21,
     "metadata": {},
     "output_type": "execute_result"
    }
   ],
   "source": [
    "data.minutes_played.mean()"
   ]
  },
  {
   "cell_type": "code",
   "execution_count": 22,
   "metadata": {},
   "outputs": [
    {
     "data": {
      "text/plain": [
       "18.0"
      ]
     },
     "execution_count": 22,
     "metadata": {},
     "output_type": "execute_result"
    }
   ],
   "source": [
    "data.minutes_played.quantile(0.10)"
   ]
  },
  {
   "cell_type": "code",
   "execution_count": 23,
   "metadata": {},
   "outputs": [
    {
     "data": {
      "text/plain": [
       "781.0"
      ]
     },
     "execution_count": 23,
     "metadata": {},
     "output_type": "execute_result"
    }
   ],
   "source": [
    "data.loc[data.starting_rate >= 0.25].minutes_played.median()"
   ]
  },
  {
   "cell_type": "markdown",
   "metadata": {},
   "source": [
    "We look at the distrubution of rebounds per minute when the player had played minutes."
   ]
  },
  {
   "cell_type": "code",
   "execution_count": 24,
   "metadata": {
    "scrolled": true
   },
   "outputs": [
    {
     "data": {
      "image/png": "[encoded data removed]",
      "text/plain": [
       "<Figure size 432x288 with 1 Axes>"
      ]
     },
     "metadata": {
      "needs_background": "light"
     },
     "output_type": "display_data"
    }
   ],
   "source": [
    "sns.distplot(data.loc[data.rebounds_per_minute != np.inf].rebounds_per_minute.dropna());"
   ]
  },
  {
   "cell_type": "markdown",
   "metadata": {},
   "source": [
    "We look at the distrubution of feild goal attempts per minute when the player had played minutes."
   ]
  },
  {
   "cell_type": "code",
   "execution_count": 25,
   "metadata": {
    "scrolled": true
   },
   "outputs": [
    {
     "data": {
      "image/png": "[encoded data removed]",
      "text/plain": [
       "<Figure size 432x288 with 1 Axes>"
      ]
     },
     "metadata": {
      "needs_background": "light"
     },
     "output_type": "display_data"
    }
   ],
   "source": [
    "sns.distplot(data.loc[data.fga_per_minute != np.inf].fga_per_minute.dropna(),\n",
    "            bins = 50);"
   ]
  },
  {
   "cell_type": "markdown",
   "metadata": {},
   "source": [
    "Finally we look at a correlation plot of all of columns. "
   ]
  },
  {
   "cell_type": "code",
   "execution_count": 26,
   "metadata": {
    "scrolled": true
   },
   "outputs": [
    {
     "data": {
      "image/png": "[encoded data removed]",
      "text/plain": [
       "<Figure size 792x648 with 2 Axes>"
      ]
     },
     "metadata": {
      "needs_background": "light"
     },
     "output_type": "display_data"
    }
   ],
   "source": [
    "f, ax = plt.subplots(figsize = (11, 9))\n",
    "\n",
    "sns.heatmap(data.corr(),\n",
    "           #mask = np.triu(np.ones_like(data.corr(), dtype=np.bool)),\n",
    "           cmap = sns.diverging_palette(220, 10, as_cmap=True),\n",
    "           vmax = 0.3,\n",
    "           center = 0,\n",
    "           square = True,\n",
    "           linewidths = 0.5);"
   ]
  },
  {
   "cell_type": "markdown",
   "metadata": {},
   "source": [
    "And list the correlation values for one of our advanced statistics that tell us the quality of a player, win shares. The most important values are the counting offensive stats. Which is important to note because those values can be inflated if a player plays a lot of minutes. This is why creating the per minute number is important!"
   ]
  },
  {
   "cell_type": "code",
   "execution_count": 27,
   "metadata": {
    "scrolled": true
   },
   "outputs": [
    {
     "data": {
      "text/plain": [
       "offensive_win_shares               0.929831\n",
       "points_produced                    0.897144\n",
       "points                             0.882491\n",
       "field_goals                        0.881319\n",
       "defensive_win_shares               0.849554\n",
       "two_pointers                       0.824841\n",
       "free_throws                        0.824381\n",
       "field_goal_attempts                0.821304\n",
       "minutes_played                     0.818974\n",
       "free_throw_attempts                0.816926\n",
       "defensive_rebounds                 0.815433\n",
       "total_rebounds                     0.797124\n",
       "two_point_attempts                 0.796424\n",
       "games_started                      0.760963\n",
       "minutes_per_game                   0.759125\n",
       "steals                             0.703268\n",
       "starting_rate                      0.699382\n",
       "turnovers                          0.697021\n",
       "personal_fouls                     0.687412\n",
       "offensive_rebounds                 0.662197\n",
       "games_played                       0.601876\n",
       "assists                            0.592169\n",
       "box_plus_minus                     0.558247\n",
       "three_pointers                     0.550647\n",
       "offensive_box_plus_minus           0.536988\n",
       "three_point_attempts               0.530248\n",
       "player_efficiency_rating           0.512350\n",
       "blocks                             0.506767\n",
       "points_per_minute                  0.505494\n",
       "win_shares_per_40_minutes          0.478161\n",
       "fg_per_minute                      0.472539\n",
       "2pm_per_minute                     0.394839\n",
       "true_shooting_percentage           0.379301\n",
       "player_season_number               0.347509\n",
       "effective_field_goal_percentage    0.334961\n",
       "field_goal_percentage              0.327136\n",
       "free_throw_percentage              0.309753\n",
       "defensive_box_plus_minus           0.292671\n",
       "2pa_per_minute                     0.287925\n",
       "fga_per_minute                     0.282122\n",
       "two_point_percentage               0.264472\n",
       "usage_percentage                   0.260418\n",
       "three_point_percentage             0.220404\n",
       "assist_percentage                  0.209256\n",
       "3pm_per_minute                     0.164002\n",
       "assists_per_minute                 0.148220\n",
       "drb_per_minute                     0.139259\n",
       "defensive_rebound_percentage       0.128690\n",
       "rebounds_per_minute                0.126528\n",
       "Name: win_shares, dtype: float64"
      ]
     },
     "execution_count": 27,
     "metadata": {},
     "output_type": "execute_result"
    }
   ],
   "source": [
    "data.corr()['win_shares'].sort_values(ascending = False).head(50)[1:50]"
   ]
  }
 ],
 "metadata": {
  "kernelspec": {
   "display_name": "Python 3",
   "language": "python",
   "name": "python3"
  },
  "language_info": {
   "codemirror_mode": {
    "name": "ipython",
    "version": 3
   },
   "file_extension": ".py",
   "mimetype": "text/x-python",
   "name": "python",
   "nbconvert_exporter": "python",
   "pygments_lexer": "ipython3",
   "version": "3.7.3"
  }
 },
 "nbformat": 4,
 "nbformat_minor": 2
}
