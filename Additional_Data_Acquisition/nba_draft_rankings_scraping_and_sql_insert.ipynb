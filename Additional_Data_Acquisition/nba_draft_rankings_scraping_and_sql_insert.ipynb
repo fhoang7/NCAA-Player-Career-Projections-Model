{
 "cells": [
  {
   "cell_type": "markdown",
   "metadata": {},
   "source": [
    "# Goal: \n",
    "Scrapped NBA top 100 prospect rankings from nbadraft.net from 2009-2020 which is all the data currently available. \n",
    "Note: Please execute the `nba_draft_college_renaming` notebook prior to this one so you understand where the manual college renaming comes from."
   ]
  },
  {
   "cell_type": "markdown",
   "metadata": {},
   "source": [
    "Import libraries in order to scrape HTML data, manipulate the dataframes, and upload into our database."
   ]
  },
  {
   "cell_type": "code",
   "execution_count": 8,
   "metadata": {},
   "outputs": [
    {
     "name": "stdout",
     "output_type": "stream",
     "text": [
      "Requirement already satisfied: lxml in /opt/conda/lib/python3.7/site-packages (4.5.0)\r\n"
     ]
    }
   ],
   "source": [
    "! pip install lxml\n",
    "from urllib.request import Request, urlopen\n",
    "from bs4 import BeautifulSoup \n",
    "import pandas as pd\n",
    "import re\n",
    "import getpass\n",
    "import psycopg2\n",
    "import numpy as np\n",
    "import seaborn as sns\n",
    "from psycopg2.extensions import adapt, register_adapter, AsIs\n",
    "pd.set_option('display.max_rows', 500)\n",
    "pd.set_option('display.max_columns', 500)\n",
    "pd.set_option('display.width', 1000)"
   ]
  },
  {
   "cell_type": "markdown",
   "metadata": {},
   "source": [
    "Create the dataframe where we can append annual NBA prospect rankings data into. Scrape column headers from the webpage and add Rank as a column header which is blank on the website."
   ]
  },
  {
   "cell_type": "code",
   "execution_count": 2,
   "metadata": {},
   "outputs": [],
   "source": [
    "url = \"https://www.nbadraft.net/ranking/bigboard/?year-ranking=2009.html\"\n",
    "req = Request(url, headers={'User-Agent': 'Mozilla/5.0'})\n",
    "webpage = urlopen(req).read()\n",
    "soup = BeautifulSoup(webpage)\n",
    "headers = [th.getText() for th in soup.findAll('tr', limit=1)[0].findAll('th')]\n",
    "headers.append('Year')\n",
    "headers[0] = 'Rank'\n",
    "\n",
    "ranking_df = pd.DataFrame([], columns = headers)"
   ]
  },
  {
   "cell_type": "markdown",
   "metadata": {},
   "source": [
    "In the for loop, we want to scrape the ranking dataset into a dataframe. We specifically need to scrape for the span tags since this is where all the first and last names are stored. The names are scraped into a list and then merged to form complete names. We then add a column for the year. "
   ]
  },
  {
   "cell_type": "code",
   "execution_count": 3,
   "metadata": {},
   "outputs": [
    {
     "name": "stdout",
     "output_type": "stream",
     "text": [
      "Now adding in year 2009\n"
     ]
    },
    {
     "name": "stderr",
     "output_type": "stream",
     "text": [
      "/opt/conda/lib/python3.7/site-packages/pandas/core/frame.py:7138: FutureWarning: Sorting because non-concatenation axis is not aligned. A future version\n",
      "of pandas will change to not sort by default.\n",
      "\n",
      "To accept the future behavior, pass 'sort=False'.\n",
      "\n",
      "To retain the current behavior and silence the warning, pass 'sort=True'.\n",
      "\n",
      "  sort=sort,\n"
     ]
    },
    {
     "name": "stdout",
     "output_type": "stream",
     "text": [
      "Now adding in year 2010\n",
      "Now adding in year 2011\n",
      "Now adding in year 2012\n",
      "Now adding in year 2013\n",
      "Now adding in year 2014\n",
      "Now adding in year 2015\n",
      "Now adding in year 2016\n",
      "Now adding in year 2017\n",
      "Now adding in year 2018\n",
      "Now adding in year 2019\n",
      "Now adding in year 2020\n"
     ]
    }
   ],
   "source": [
    "merged_names = []\n",
    "for i in range(2009, 2021, 1):\n",
    "    print('Now adding in year {}'.format(i))\n",
    "    url = \"https://www.nbadraft.net/ranking/bigboard/?year-ranking={}.html\".format(i)\n",
    "    req = Request(url, headers={'User-Agent': 'Mozilla/5.0'})\n",
    "    webpage = urlopen(req).read()\n",
    "    \n",
    "    ranking_stats = pd.read_html(webpage)[0]\n",
    "    \n",
    "    soup = BeautifulSoup(webpage)\n",
    "    rows = soup.findAll('tr')[1:]    \n",
    "    names = []\n",
    "    for i in range(len(rows)):\n",
    "        for td in rows[i].findAll('td'):\n",
    "            for span in td.findAll('span'):\n",
    "                names.append(span.getText())\n",
    " \n",
    "    for x,y in zip(np.arange(0,len(names),2), np.arange(1,len(names),2)):\n",
    "        firstName = names[x] \n",
    "        lastName = names[y]\n",
    "        merged_names.append(' '.join([firstName, lastName]))\n",
    "        \n",
    "    ranking_df = ranking_df.append(ranking_stats,ignore_index=True)\n",
    "    ranking_df['Player'] = merged_names\n",
    "\n",
    "ranking_df.head()\n",
    "ranking_df['Year'] = 0"
   ]
  },
  {
   "cell_type": "markdown",
   "metadata": {},
   "source": [
    "The rank column we intended to read data into was not able to so we need to drop our rank column that has nulls and renamed the unnamed column with the rank data to be our rank column. We also need to rename the School/Team column to remove the slashes so it can be loaded into our database. "
   ]
  },
  {
   "cell_type": "code",
   "execution_count": 4,
   "metadata": {},
   "outputs": [
    {
     "data": {
      "text/html": [
       "<div>\n",
       "<style scoped>\n",
       "    .dataframe tbody tr th:only-of-type {\n",
       "        vertical-align: middle;\n",
       "    }\n",
       "\n",
       "    .dataframe tbody tr th {\n",
       "        vertical-align: top;\n",
       "    }\n",
       "\n",
       "    .dataframe thead th {\n",
       "        text-align: right;\n",
       "    }\n",
       "</style>\n",
       "<table border=\"1\" class=\"dataframe\">\n",
       "  <thead>\n",
       "    <tr style=\"text-align: right;\">\n",
       "      <th></th>\n",
       "      <th>Change</th>\n",
       "      <th>Class</th>\n",
       "      <th>Height</th>\n",
       "      <th>Player</th>\n",
       "      <th>Pos</th>\n",
       "      <th>School_or_Team</th>\n",
       "      <th>Rank</th>\n",
       "      <th>Weight</th>\n",
       "      <th>Year</th>\n",
       "    </tr>\n",
       "  </thead>\n",
       "  <tbody>\n",
       "    <tr>\n",
       "      <th>0</th>\n",
       "      <td>1</td>\n",
       "      <td>So.</td>\n",
       "      <td>6-10</td>\n",
       "      <td>Blake Griffin</td>\n",
       "      <td>PF</td>\n",
       "      <td>Oklahoma</td>\n",
       "      <td>1.0</td>\n",
       "      <td>248</td>\n",
       "      <td>0</td>\n",
       "    </tr>\n",
       "    <tr>\n",
       "      <th>1</th>\n",
       "      <td>1</td>\n",
       "      <td>So.</td>\n",
       "      <td>6-5</td>\n",
       "      <td>James Harden</td>\n",
       "      <td>SG</td>\n",
       "      <td>Arizona St.</td>\n",
       "      <td>2.0</td>\n",
       "      <td>222</td>\n",
       "      <td>0</td>\n",
       "    </tr>\n",
       "    <tr>\n",
       "      <th>2</th>\n",
       "      <td>1</td>\n",
       "      <td>1990</td>\n",
       "      <td>6-4</td>\n",
       "      <td>Ricky Rubio</td>\n",
       "      <td>PG</td>\n",
       "      <td>FC Barcelona</td>\n",
       "      <td>3.0</td>\n",
       "      <td>180</td>\n",
       "      <td>0</td>\n",
       "    </tr>\n",
       "    <tr>\n",
       "      <th>3</th>\n",
       "      <td>1</td>\n",
       "      <td>Jr.</td>\n",
       "      <td>6-10</td>\n",
       "      <td>Jordan Hill</td>\n",
       "      <td>PF</td>\n",
       "      <td>Arizona</td>\n",
       "      <td>4.0</td>\n",
       "      <td>232</td>\n",
       "      <td>0</td>\n",
       "    </tr>\n",
       "    <tr>\n",
       "      <th>4</th>\n",
       "      <td>1</td>\n",
       "      <td>1989</td>\n",
       "      <td>6-1</td>\n",
       "      <td>Brandon Jennings</td>\n",
       "      <td>PG</td>\n",
       "      <td>Virtus Roma</td>\n",
       "      <td>5.0</td>\n",
       "      <td>170</td>\n",
       "      <td>0</td>\n",
       "    </tr>\n",
       "  </tbody>\n",
       "</table>\n",
       "</div>"
      ],
      "text/plain": [
       "  Change Class Height            Player Pos School_or_Team  Rank Weight  Year\n",
       "0      1   So.   6-10     Blake Griffin  PF       Oklahoma   1.0    248     0\n",
       "1      1   So.    6-5      James Harden  SG    Arizona St.   2.0    222     0\n",
       "2      1  1990    6-4       Ricky Rubio  PG   FC Barcelona   3.0    180     0\n",
       "3      1   Jr.   6-10       Jordan Hill  PF        Arizona   4.0    232     0\n",
       "4      1  1989    6-1  Brandon Jennings  PG    Virtus Roma   5.0    170     0"
      ]
     },
     "execution_count": 4,
     "metadata": {},
     "output_type": "execute_result"
    }
   ],
   "source": [
    "ranking_df.drop(columns = ['Rank'], inplace = True)\n",
    "ranking_df.rename({'Unnamed: 0': 'Rank', 'School/Team':'School_or_Team'}, axis = 1, inplace = True)\n",
    "ranking_df.head()"
   ]
  },
  {
   "cell_type": "markdown",
   "metadata": {},
   "source": [
    "Let's look at our changes. We have issues with height and year so let's fix that."
   ]
  },
  {
   "cell_type": "code",
   "execution_count": 5,
   "metadata": {},
   "outputs": [
    {
     "data": {
      "text/html": [
       "<div>\n",
       "<style scoped>\n",
       "    .dataframe tbody tr th:only-of-type {\n",
       "        vertical-align: middle;\n",
       "    }\n",
       "\n",
       "    .dataframe tbody tr th {\n",
       "        vertical-align: top;\n",
       "    }\n",
       "\n",
       "    .dataframe thead th {\n",
       "        text-align: right;\n",
       "    }\n",
       "</style>\n",
       "<table border=\"1\" class=\"dataframe\">\n",
       "  <thead>\n",
       "    <tr style=\"text-align: right;\">\n",
       "      <th></th>\n",
       "      <th>Change</th>\n",
       "      <th>Class</th>\n",
       "      <th>Height</th>\n",
       "      <th>Player</th>\n",
       "      <th>Pos</th>\n",
       "      <th>School_or_Team</th>\n",
       "      <th>Rank</th>\n",
       "      <th>Weight</th>\n",
       "      <th>Year</th>\n",
       "    </tr>\n",
       "  </thead>\n",
       "  <tbody>\n",
       "    <tr>\n",
       "      <th>0</th>\n",
       "      <td>1</td>\n",
       "      <td>So.</td>\n",
       "      <td>6-10</td>\n",
       "      <td>Blake Griffin</td>\n",
       "      <td>PF</td>\n",
       "      <td>Oklahoma</td>\n",
       "      <td>1.0</td>\n",
       "      <td>248</td>\n",
       "      <td>0</td>\n",
       "    </tr>\n",
       "    <tr>\n",
       "      <th>1</th>\n",
       "      <td>1</td>\n",
       "      <td>So.</td>\n",
       "      <td>6-5</td>\n",
       "      <td>James Harden</td>\n",
       "      <td>SG</td>\n",
       "      <td>Arizona St.</td>\n",
       "      <td>2.0</td>\n",
       "      <td>222</td>\n",
       "      <td>0</td>\n",
       "    </tr>\n",
       "    <tr>\n",
       "      <th>2</th>\n",
       "      <td>1</td>\n",
       "      <td>1990</td>\n",
       "      <td>6-4</td>\n",
       "      <td>Ricky Rubio</td>\n",
       "      <td>PG</td>\n",
       "      <td>FC Barcelona</td>\n",
       "      <td>3.0</td>\n",
       "      <td>180</td>\n",
       "      <td>0</td>\n",
       "    </tr>\n",
       "    <tr>\n",
       "      <th>3</th>\n",
       "      <td>1</td>\n",
       "      <td>Jr.</td>\n",
       "      <td>6-10</td>\n",
       "      <td>Jordan Hill</td>\n",
       "      <td>PF</td>\n",
       "      <td>Arizona</td>\n",
       "      <td>4.0</td>\n",
       "      <td>232</td>\n",
       "      <td>0</td>\n",
       "    </tr>\n",
       "    <tr>\n",
       "      <th>4</th>\n",
       "      <td>1</td>\n",
       "      <td>1989</td>\n",
       "      <td>6-1</td>\n",
       "      <td>Brandon Jennings</td>\n",
       "      <td>PG</td>\n",
       "      <td>Virtus Roma</td>\n",
       "      <td>5.0</td>\n",
       "      <td>170</td>\n",
       "      <td>0</td>\n",
       "    </tr>\n",
       "  </tbody>\n",
       "</table>\n",
       "</div>"
      ],
      "text/plain": [
       "  Change Class Height            Player Pos School_or_Team  Rank Weight  Year\n",
       "0      1   So.   6-10     Blake Griffin  PF       Oklahoma   1.0    248     0\n",
       "1      1   So.    6-5      James Harden  SG    Arizona St.   2.0    222     0\n",
       "2      1  1990    6-4       Ricky Rubio  PG   FC Barcelona   3.0    180     0\n",
       "3      1   Jr.   6-10       Jordan Hill  PF        Arizona   4.0    232     0\n",
       "4      1  1989    6-1  Brandon Jennings  PG    Virtus Roma   5.0    170     0"
      ]
     },
     "execution_count": 5,
     "metadata": {},
     "output_type": "execute_result"
    }
   ],
   "source": [
    "ranking_df.head()"
   ]
  },
  {
   "cell_type": "markdown",
   "metadata": {},
   "source": [
    "We can split the height and convert it into inches."
   ]
  },
  {
   "cell_type": "code",
   "execution_count": 6,
   "metadata": {},
   "outputs": [],
   "source": [
    "heights=[]\n",
    "for index, row in ranking_df.iterrows():\n",
    "    foot_inch_height = row['Height'].split('-')\n",
    "    foot_inch_height = list(map(int, foot_inch_height))\n",
    "    inches_height = foot_inch_height[0]*12 + foot_inch_height[1]\n",
    "    heights.append(inches_height)\n",
    "ranking_df['Height'] = heights"
   ]
  },
  {
   "cell_type": "markdown",
   "metadata": {},
   "source": [
    "Since there are a 100 prospects per year, we can manually input the year into the Year column."
   ]
  },
  {
   "cell_type": "code",
   "execution_count": 7,
   "metadata": {},
   "outputs": [],
   "source": [
    "ranking_df.loc[0:100, 'Year'] = 2009\n",
    "ranking_df.loc[100:200, 'Year'] = 2010\n",
    "ranking_df.loc[200:300, 'Year'] = 2011\n",
    "ranking_df.loc[300:400, 'Year'] = 2012\n",
    "ranking_df.loc[400:500, 'Year'] = 2013\n",
    "ranking_df.loc[500:600, 'Year'] = 2014\n",
    "ranking_df.loc[600:700, 'Year'] = 2015\n",
    "ranking_df.loc[700:800, 'Year'] = 2016\n",
    "ranking_df.loc[800:900, 'Year'] = 2017\n",
    "ranking_df.loc[900:1000, 'Year'] = 2018\n",
    "ranking_df.loc[1000:1100, 'Year'] = 2019\n",
    "ranking_df.loc[1100:1200, 'Year'] = 2020"
   ]
  },
  {
   "cell_type": "markdown",
   "metadata": {},
   "source": [
    "Drop change column from rankings. Not relevant to our analysis since we want and already have the finalized prospect rankings."
   ]
  },
  {
   "cell_type": "code",
   "execution_count": 8,
   "metadata": {},
   "outputs": [],
   "source": [
    "ranking_df.drop(columns = ['Change'], inplace = True)"
   ]
  },
  {
   "cell_type": "markdown",
   "metadata": {},
   "source": [
    "Change School Names so they match with our current dataset. We identify the names that need to be changed for proper joining in our database based on the `nba_draft_college_renaming` notebook."
   ]
  },
  {
   "cell_type": "code",
   "execution_count": 9,
   "metadata": {},
   "outputs": [],
   "source": [
    "ranking_df.replace('Arizona St.', 'Arizona State', inplace = True)\n",
    "ranking_df.replace('Augusta St.', 'Augusta State', inplace = True)\n",
    "ranking_df.replace('Bowling Green', 'Bowling Green State', inplace = True)\n",
    "ranking_df.replace('Cleveland St.', 'Cleveland State', inplace = True)\n",
    "ranking_df.replace('Colorado St.', 'Colorado State', inplace = True)\n",
    "ranking_df.replace('Florida St.', 'Florida State', inplace = True)\n",
    "ranking_df.replace('Fresno St.', 'Fresno State', inplace = True)\n",
    "ranking_df.replace('Georgia St.', 'Georgia State', inplace = True)\n",
    "ranking_df.replace('Illinois-Chicago', 'Illinois at Chicago', inplace = True)\n",
    "ranking_df.replace('Iowa St.', 'Iowa State', inplace = True)\n",
    "ranking_df.replace('Louisiana Lafayette', 'LA-Lafayette', inplace = True)\n",
    "ranking_df.replace('Miami', 'Miami (FL)', inplace = True)\n",
    "ranking_df.replace('Michigan St.', 'Michigan State', inplace = True)\n",
    "ranking_df.replace('Mississippi St.', 'Mississippi State', inplace = True)\n",
    "ranking_df.replace('Morehead St.', 'Morehead State', inplace = True)\n",
    "ranking_df.replace('Murray St.', 'Murray State', inplace = True)\n",
    "ranking_df.replace('New Mexico St.', 'New Mexico State', inplace = True)\n",
    "ranking_df.replace('Norfolk St.', 'Norfolk State', inplace = True)\n",
    "ranking_df.replace('Ohio St.', 'Ohio State', inplace = True)\n",
    "ranking_df.replace('Oregon St.', 'Oregon State', inplace = True)\n",
    "ranking_df.replace('San Diego St.', 'San Diego State', inplace = True)\n",
    "ranking_df.replace('South Dakota St.', 'South Dakota State', inplace = True)\n",
    "ranking_df.replace('Southern Miss.', 'Southern Mississippi', inplace = True)\n",
    "ranking_df.replace(\"St. Johns\", \"St. John's (NY)\", inplace = True)\n",
    "ranking_df.replace(\"St. Louis\", \"Saint Louis\", inplace = True)\n",
    "ranking_df.replace(\"Tennessee-Martin\", \"Tennessee at Martin\", inplace = True)\n",
    "ranking_df.replace(\"Texas A&M Corpus Christi\", \"Texas A&M-Corpus Christi\", inplace = True)\n",
    "ranking_df.replace(\"Texas Arlington\", \"Texas-Arlington\", inplace = True)\n",
    "ranking_df.replace(\"UAB\", \"Alabama at Birmingham\", inplace = True)\n",
    "ranking_df.replace(\"UC Davis\", \"California, Davis\", inplace = True)\n",
    "ranking_df.replace(\"Wisconsin Green Bay\", \"Green Bay\", inplace = True)"
   ]
  },
  {
   "cell_type": "markdown",
   "metadata": {},
   "source": [
    "Log into our database and establish a connection"
   ]
  },
  {
   "cell_type": "code",
   "execution_count": 11,
   "metadata": {
    "scrolled": true
   },
   "outputs": [
    {
     "data": {
      "text/html": [
       "<div>\n",
       "<style scoped>\n",
       "    .dataframe tbody tr th:only-of-type {\n",
       "        vertical-align: middle;\n",
       "    }\n",
       "\n",
       "    .dataframe tbody tr th {\n",
       "        vertical-align: top;\n",
       "    }\n",
       "\n",
       "    .dataframe thead th {\n",
       "        text-align: right;\n",
       "    }\n",
       "</style>\n",
       "<table border=\"1\" class=\"dataframe\">\n",
       "  <thead>\n",
       "    <tr style=\"text-align: right;\">\n",
       "      <th></th>\n",
       "      <th>Class</th>\n",
       "      <th>Height</th>\n",
       "      <th>Player</th>\n",
       "      <th>Pos</th>\n",
       "      <th>School_or_Team</th>\n",
       "      <th>Rank</th>\n",
       "      <th>Weight</th>\n",
       "      <th>Year</th>\n",
       "    </tr>\n",
       "  </thead>\n",
       "  <tbody>\n",
       "    <tr>\n",
       "      <th>1195</th>\n",
       "      <td>So.</td>\n",
       "      <td>81</td>\n",
       "      <td>Kaleb Wesson</td>\n",
       "      <td>C</td>\n",
       "      <td>Ohio State</td>\n",
       "      <td>96.0</td>\n",
       "      <td>270</td>\n",
       "      <td>2020</td>\n",
       "    </tr>\n",
       "    <tr>\n",
       "      <th>1196</th>\n",
       "      <td>1998</td>\n",
       "      <td>83</td>\n",
       "      <td>Borisa Simanic</td>\n",
       "      <td>PF</td>\n",
       "      <td>Crvena Zvezda</td>\n",
       "      <td>97.0</td>\n",
       "      <td>205</td>\n",
       "      <td>2020</td>\n",
       "    </tr>\n",
       "    <tr>\n",
       "      <th>1197</th>\n",
       "      <td>2000</td>\n",
       "      <td>81</td>\n",
       "      <td>Biram Faye</td>\n",
       "      <td>SF/PF</td>\n",
       "      <td>0</td>\n",
       "      <td>98.0</td>\n",
       "      <td>225</td>\n",
       "      <td>2020</td>\n",
       "    </tr>\n",
       "    <tr>\n",
       "      <th>1198</th>\n",
       "      <td>Jr.</td>\n",
       "      <td>81</td>\n",
       "      <td>Garrison Brooks</td>\n",
       "      <td>PF/C</td>\n",
       "      <td>North Carolina</td>\n",
       "      <td>99.0</td>\n",
       "      <td>230</td>\n",
       "      <td>2020</td>\n",
       "    </tr>\n",
       "    <tr>\n",
       "      <th>1199</th>\n",
       "      <td>Jr.</td>\n",
       "      <td>86</td>\n",
       "      <td>Matt Haarms</td>\n",
       "      <td>C</td>\n",
       "      <td>Purdue</td>\n",
       "      <td>100.0</td>\n",
       "      <td>250</td>\n",
       "      <td>2020</td>\n",
       "    </tr>\n",
       "  </tbody>\n",
       "</table>\n",
       "</div>"
      ],
      "text/plain": [
       "     Class  Height           Player    Pos  School_or_Team   Rank  Weight  Year\n",
       "1195   So.      81     Kaleb Wesson      C      Ohio State   96.0     270  2020\n",
       "1196  1998      83   Borisa Simanic     PF   Crvena Zvezda   97.0     205  2020\n",
       "1197  2000      81       Biram Faye  SF/PF               0   98.0     225  2020\n",
       "1198   Jr.      81  Garrison Brooks   PF/C  North Carolina   99.0     230  2020\n",
       "1199   Jr.      86      Matt Haarms      C          Purdue  100.0     250  2020"
      ]
     },
     "execution_count": 11,
     "metadata": {},
     "output_type": "execute_result"
    }
   ],
   "source": [
    "ranking_df.tail()"
   ]
  },
  {
   "cell_type": "markdown",
   "metadata": {},
   "source": [
    "We do not need a float data type in our rankings so we convert the column into an int data type."
   ]
  },
  {
   "cell_type": "code",
   "execution_count": 12,
   "metadata": {},
   "outputs": [
    {
     "data": {
      "text/plain": [
       "Class             object\n",
       "Height             int64\n",
       "Player            object\n",
       "Pos               object\n",
       "School_or_Team    object\n",
       "Rank               int64\n",
       "Weight             int64\n",
       "Year               int64\n",
       "dtype: object"
      ]
     },
     "execution_count": 12,
     "metadata": {},
     "output_type": "execute_result"
    }
   ],
   "source": [
    "ranking_df['Rank'] = ranking_df['Rank'].astype(int)\n",
    "ranking_df.dtypes"
   ]
  },
  {
   "cell_type": "markdown",
   "metadata": {},
   "source": [
    "Connect to our database with provided credentials"
   ]
  },
  {
   "cell_type": "code",
   "execution_count": 2,
   "metadata": {},
   "outputs": [
    {
     "name": "stdout",
     "output_type": "stream",
     "text": [
      "········\n"
     ]
    }
   ],
   "source": [
    "mypasswd = getpass.getpass()\n",
    "conn = psycopg2.connect(database = 'cs20_group4',\n",
    "                              user = 'fhfrf',#replace with pawprint\n",
    "                              host = 'pgsql.dsa.lan',\n",
    "                              password = mypasswd)"
   ]
  },
  {
   "cell_type": "markdown",
   "metadata": {},
   "source": [
    "Create our table to match our dataframe data types"
   ]
  },
  {
   "cell_type": "code",
   "execution_count": 14,
   "metadata": {},
   "outputs": [],
   "source": [
    "c_table = []\n",
    "for c in ranking_df.columns:\n",
    "    if ranking_df[c].dtype in [int]:\n",
    "        c_table.append('{} numeric'.format(c))\n",
    "    else:\n",
    "        c_table.append('{} varchar({})'.format(c, 100))"
   ]
  },
  {
   "cell_type": "markdown",
   "metadata": {},
   "source": [
    "Drop table if it already exists."
   ]
  },
  {
   "cell_type": "code",
   "execution_count": 15,
   "metadata": {},
   "outputs": [],
   "source": [
    "cursor = conn.cursor()\n",
    "create_table = 'DROP TABLE IF EXISTS nba_top100_prospect_rankings;'\n",
    "create_table += 'CREATE TABLE nba_top100_prospect_rankings ({})'.format(', '.join(c for c in c_table))\n",
    "cursor.execute(create_table)\n",
    "conn.commit()"
   ]
  },
  {
   "cell_type": "markdown",
   "metadata": {},
   "source": [
    "Insert our dataframe into the nba_top100_prospect_rankings table"
   ]
  },
  {
   "cell_type": "code",
   "execution_count": 16,
   "metadata": {},
   "outputs": [],
   "source": [
    "df = ranking_df.where(pd.notnull(ranking_df), None)\n",
    "cursor = conn.cursor()\n",
    "INSERT_SQL = 'INSERT INTO nba_top100_prospect_rankings'\n",
    "INSERT_SQL += '({}) VALUES'.format(', '.join([x for x in df.columns]))\n",
    "INSERT_SQL += '({})'.format(''.join(['%s,' * len(df.columns)])[:-1])\n",
    "with conn, conn.cursor() as cursor:\n",
    "    for row in df.itertuples(index=False, name=None):\n",
    "        cursor.execute(INSERT_SQL, row)"
   ]
  },
  {
   "cell_type": "markdown",
   "metadata": {},
   "source": [
    "Test our database to see if the data is present in our new table."
   ]
  },
  {
   "cell_type": "code",
   "execution_count": 5,
   "metadata": {},
   "outputs": [
    {
     "data": {
      "text/html": [
       "<div>\n",
       "<style scoped>\n",
       "    .dataframe tbody tr th:only-of-type {\n",
       "        vertical-align: middle;\n",
       "    }\n",
       "\n",
       "    .dataframe tbody tr th {\n",
       "        vertical-align: top;\n",
       "    }\n",
       "\n",
       "    .dataframe thead th {\n",
       "        text-align: right;\n",
       "    }\n",
       "</style>\n",
       "<table border=\"1\" class=\"dataframe\">\n",
       "  <thead>\n",
       "    <tr style=\"text-align: right;\">\n",
       "      <th></th>\n",
       "      <th>class</th>\n",
       "      <th>height</th>\n",
       "      <th>player</th>\n",
       "      <th>pos</th>\n",
       "      <th>school_or_team</th>\n",
       "      <th>rank</th>\n",
       "      <th>weight</th>\n",
       "      <th>year</th>\n",
       "    </tr>\n",
       "  </thead>\n",
       "  <tbody>\n",
       "    <tr>\n",
       "      <th>0</th>\n",
       "      <td>So.</td>\n",
       "      <td>82.0</td>\n",
       "      <td>Blake Griffin</td>\n",
       "      <td>PF</td>\n",
       "      <td>Oklahoma</td>\n",
       "      <td>1.0</td>\n",
       "      <td>248.0</td>\n",
       "      <td>2009.0</td>\n",
       "    </tr>\n",
       "    <tr>\n",
       "      <th>1</th>\n",
       "      <td>So.</td>\n",
       "      <td>77.0</td>\n",
       "      <td>James Harden</td>\n",
       "      <td>SG</td>\n",
       "      <td>Arizona State</td>\n",
       "      <td>2.0</td>\n",
       "      <td>222.0</td>\n",
       "      <td>2009.0</td>\n",
       "    </tr>\n",
       "    <tr>\n",
       "      <th>2</th>\n",
       "      <td>1990</td>\n",
       "      <td>76.0</td>\n",
       "      <td>Ricky Rubio</td>\n",
       "      <td>PG</td>\n",
       "      <td>FC Barcelona</td>\n",
       "      <td>3.0</td>\n",
       "      <td>180.0</td>\n",
       "      <td>2009.0</td>\n",
       "    </tr>\n",
       "    <tr>\n",
       "      <th>3</th>\n",
       "      <td>Jr.</td>\n",
       "      <td>82.0</td>\n",
       "      <td>Jordan Hill</td>\n",
       "      <td>PF</td>\n",
       "      <td>Arizona</td>\n",
       "      <td>4.0</td>\n",
       "      <td>232.0</td>\n",
       "      <td>2009.0</td>\n",
       "    </tr>\n",
       "    <tr>\n",
       "      <th>4</th>\n",
       "      <td>1989</td>\n",
       "      <td>73.0</td>\n",
       "      <td>Brandon Jennings</td>\n",
       "      <td>PG</td>\n",
       "      <td>Virtus Roma</td>\n",
       "      <td>5.0</td>\n",
       "      <td>170.0</td>\n",
       "      <td>2009.0</td>\n",
       "    </tr>\n",
       "  </tbody>\n",
       "</table>\n",
       "</div>"
      ],
      "text/plain": [
       "  class  height            player pos school_or_team  rank  weight    year\n",
       "0   So.    82.0     Blake Griffin  PF       Oklahoma   1.0   248.0  2009.0\n",
       "1   So.    77.0      James Harden  SG  Arizona State   2.0   222.0  2009.0\n",
       "2  1990    76.0       Ricky Rubio  PG   FC Barcelona   3.0   180.0  2009.0\n",
       "3   Jr.    82.0       Jordan Hill  PF        Arizona   4.0   232.0  2009.0\n",
       "4  1989    73.0  Brandon Jennings  PG    Virtus Roma   5.0   170.0  2009.0"
      ]
     },
     "execution_count": 5,
     "metadata": {},
     "output_type": "execute_result"
    }
   ],
   "source": [
    "rankings = pd.read_sql_query('SELECT * from nba_top100_prospect_rankings', con = conn)\n",
    "rankings.head()"
   ]
  },
  {
   "cell_type": "markdown",
   "metadata": {},
   "source": [
    "Here are the basic statistics for our numerical values in our dataset. The ranges match what we would expect for these values."
   ]
  },
  {
   "cell_type": "code",
   "execution_count": 10,
   "metadata": {},
   "outputs": [
    {
     "data": {
      "text/html": [
       "<div>\n",
       "<style scoped>\n",
       "    .dataframe tbody tr th:only-of-type {\n",
       "        vertical-align: middle;\n",
       "    }\n",
       "\n",
       "    .dataframe tbody tr th {\n",
       "        vertical-align: top;\n",
       "    }\n",
       "\n",
       "    .dataframe thead th {\n",
       "        text-align: right;\n",
       "    }\n",
       "</style>\n",
       "<table border=\"1\" class=\"dataframe\">\n",
       "  <thead>\n",
       "    <tr style=\"text-align: right;\">\n",
       "      <th></th>\n",
       "      <th>height</th>\n",
       "      <th>rank</th>\n",
       "      <th>weight</th>\n",
       "      <th>year</th>\n",
       "    </tr>\n",
       "  </thead>\n",
       "  <tbody>\n",
       "    <tr>\n",
       "      <th>count</th>\n",
       "      <td>1200.000000</td>\n",
       "      <td>1200.000000</td>\n",
       "      <td>1200.000000</td>\n",
       "      <td>1200.000000</td>\n",
       "    </tr>\n",
       "    <tr>\n",
       "      <th>mean</th>\n",
       "      <td>78.785000</td>\n",
       "      <td>50.500000</td>\n",
       "      <td>214.350833</td>\n",
       "      <td>2014.500000</td>\n",
       "    </tr>\n",
       "    <tr>\n",
       "      <th>std</th>\n",
       "      <td>3.300179</td>\n",
       "      <td>28.878105</td>\n",
       "      <td>25.218301</td>\n",
       "      <td>3.453492</td>\n",
       "    </tr>\n",
       "    <tr>\n",
       "      <th>min</th>\n",
       "      <td>69.000000</td>\n",
       "      <td>1.000000</td>\n",
       "      <td>150.000000</td>\n",
       "      <td>2009.000000</td>\n",
       "    </tr>\n",
       "    <tr>\n",
       "      <th>25%</th>\n",
       "      <td>77.000000</td>\n",
       "      <td>25.750000</td>\n",
       "      <td>195.000000</td>\n",
       "      <td>2011.750000</td>\n",
       "    </tr>\n",
       "    <tr>\n",
       "      <th>50%</th>\n",
       "      <td>79.000000</td>\n",
       "      <td>50.500000</td>\n",
       "      <td>213.000000</td>\n",
       "      <td>2014.500000</td>\n",
       "    </tr>\n",
       "    <tr>\n",
       "      <th>75%</th>\n",
       "      <td>81.000000</td>\n",
       "      <td>75.250000</td>\n",
       "      <td>230.000000</td>\n",
       "      <td>2017.250000</td>\n",
       "    </tr>\n",
       "    <tr>\n",
       "      <th>max</th>\n",
       "      <td>90.000000</td>\n",
       "      <td>100.000000</td>\n",
       "      <td>360.000000</td>\n",
       "      <td>2020.000000</td>\n",
       "    </tr>\n",
       "  </tbody>\n",
       "</table>\n",
       "</div>"
      ],
      "text/plain": [
       "            height         rank       weight         year\n",
       "count  1200.000000  1200.000000  1200.000000  1200.000000\n",
       "mean     78.785000    50.500000   214.350833  2014.500000\n",
       "std       3.300179    28.878105    25.218301     3.453492\n",
       "min      69.000000     1.000000   150.000000  2009.000000\n",
       "25%      77.000000    25.750000   195.000000  2011.750000\n",
       "50%      79.000000    50.500000   213.000000  2014.500000\n",
       "75%      81.000000    75.250000   230.000000  2017.250000\n",
       "max      90.000000   100.000000   360.000000  2020.000000"
      ]
     },
     "execution_count": 10,
     "metadata": {},
     "output_type": "execute_result"
    }
   ],
   "source": [
    "rankings.describe()"
   ]
  },
  {
   "cell_type": "markdown",
   "metadata": {},
   "source": [
    "Here is a distribution plot of our top 100 prospects' heights."
   ]
  },
  {
   "cell_type": "code",
   "execution_count": 9,
   "metadata": {
    "scrolled": true
   },
   "outputs": [
    {
     "data": {
      "text/plain": [
       "<matplotlib.axes._subplots.AxesSubplot at 0x7f4c5705d320>"
      ]
     },
     "execution_count": 9,
     "metadata": {},
     "output_type": "execute_result"
    },
    {
     "data": {
      "image/png": "[encoded data removed]",
      "text/plain": [
       "<Figure size 432x288 with 1 Axes>"
      ]
     },
     "metadata": {
      "needs_background": "light"
     },
     "output_type": "display_data"
    }
   ],
   "source": [
    "sns.distplot(rankings['height'])"
   ]
  },
  {
   "cell_type": "markdown",
   "metadata": {},
   "source": [
    "Here is a distribution plot of our top 100 prospects' weights. "
   ]
  },
  {
   "cell_type": "code",
   "execution_count": 12,
   "metadata": {},
   "outputs": [
    {
     "data": {
      "text/plain": [
       "<matplotlib.axes._subplots.AxesSubplot at 0x7f4c30ce6710>"
      ]
     },
     "execution_count": 12,
     "metadata": {},
     "output_type": "execute_result"
    },
    {
     "data": {
      "image/png": "[encoded data removed]",
      "text/plain": [
       "<Figure size 432x288 with 1 Axes>"
      ]
     },
     "metadata": {
      "needs_background": "light"
     },
     "output_type": "display_data"
    }
   ],
   "source": [
    "sns.distplot(rankings['weight'])"
   ]
  },
  {
   "cell_type": "markdown",
   "metadata": {},
   "source": [
    "Let's look at the colleges/institutions that have produced the most \"ranked\" NBA prospects."
   ]
  },
  {
   "cell_type": "code",
   "execution_count": 37,
   "metadata": {},
   "outputs": [
    {
     "data": {
      "text/plain": [
       "school_or_team\n",
       "Kentucky          47\n",
       "Duke              34\n",
       "Kansas            30\n",
       "North Carolina    26\n",
       "Arizona           25\n",
       "Syracuse          24\n",
       "Gonzaga           22\n",
       "Texas             19\n",
       "Louisville        19\n",
       "Florida           17\n",
       "UCLA              17\n",
       "Michigan          17\n",
       "Washington        16\n",
       "Villanova         14\n",
       "Florida State     14\n",
       "Name: player, dtype: int64"
      ]
     },
     "execution_count": 37,
     "metadata": {},
     "output_type": "execute_result"
    }
   ],
   "source": [
    "rankings.groupby('school_or_team').agg('count')['player'].sort_values(ascending = False).head(15)"
   ]
  },
  {
   "cell_type": "markdown",
   "metadata": {},
   "source": [
    "Let's look at which colleges/institutions have produced the most lottery-position NBA prospects (ranked 14th or higher). "
   ]
  },
  {
   "cell_type": "code",
   "execution_count": 36,
   "metadata": {
    "scrolled": true
   },
   "outputs": [
    {
     "data": {
      "text/plain": [
       "school_or_team\n",
       "Kentucky            17\n",
       "Duke                15\n",
       "Arizona              7\n",
       "North Carolina       7\n",
       "Kansas               6\n",
       "Washington           5\n",
       "Texas                5\n",
       "UConn                4\n",
       "Michigan State       3\n",
       "Oklahoma             3\n",
       "Ohio State           3\n",
       "Indiana              3\n",
       "Gonzaga              3\n",
       "Florida State        3\n",
       "Maccabi Tel Aviv     2\n",
       "Name: player, dtype: int64"
      ]
     },
     "execution_count": 36,
     "metadata": {},
     "output_type": "execute_result"
    }
   ],
   "source": [
    "top_players = rankings.loc[rankings['rank'] < 14]\n",
    "top_players.groupby('school_or_team').agg('count')['player'].sort_values(ascending = False).head(15)"
   ]
  }
 ],
 "metadata": {
  "kernelspec": {
   "display_name": "Python 3",
   "language": "python",
   "name": "python3"
  },
  "language_info": {
   "codemirror_mode": {
    "name": "ipython",
    "version": 3
   },
   "file_extension": ".py",
   "mimetype": "text/x-python",
   "name": "python",
   "nbconvert_exporter": "python",
   "pygments_lexer": "ipython3",
   "version": "3.7.3"
  }
 },
 "nbformat": 4,
 "nbformat_minor": 2
}
