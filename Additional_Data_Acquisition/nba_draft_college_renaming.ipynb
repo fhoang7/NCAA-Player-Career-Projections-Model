{
 "cells": [
  {
   "cell_type": "markdown",
   "metadata": {},
   "source": [
    "# Goal:\n",
    "Identify which college names are different between the NBA draft dataset and the current data residing in our database to make joins work. This notebook should be executed before the `nba_draft_rankings_scraping_and_sql_insert` notebook. "
   ]
  },
  {
   "cell_type": "markdown",
   "metadata": {},
   "source": [
    "Import libraries for data manipulation and database connection"
   ]
  },
  {
   "cell_type": "code",
   "execution_count": 1,
   "metadata": {},
   "outputs": [],
   "source": [
    "import pandas as pd\n",
    "import getpass\n",
    "import psycopg2\n",
    "from psycopg2.extensions import adapt, register_adapter, AsIs"
   ]
  },
  {
   "cell_type": "markdown",
   "metadata": {},
   "source": [
    "Login into the database with credentials"
   ]
  },
  {
   "cell_type": "code",
   "execution_count": 2,
   "metadata": {},
   "outputs": [
    {
     "name": "stdout",
     "output_type": "stream",
     "text": [
      "········\n"
     ]
    }
   ],
   "source": [
    "mypasswd = getpass.getpass()\n",
    "conn = psycopg2.connect(database = 'cs20_group4',\n",
    "                              user = 'fhfrf', #replace with pawprint\n",
    "                              host = 'pgsql.dsa.lan',\n",
    "                              password = mypasswd)"
   ]
  },
  {
   "cell_type": "markdown",
   "metadata": {},
   "source": [
    "Grab unique list of college names from the current data and store in master_table_colleges and convert to list"
   ]
  },
  {
   "cell_type": "code",
   "execution_count": 3,
   "metadata": {},
   "outputs": [],
   "source": [
    "master_table_colleges = pd.read_sql_query('SELECT DISTINCT school FROM player_master_table', con = conn)"
   ]
  },
  {
   "cell_type": "code",
   "execution_count": 4,
   "metadata": {},
   "outputs": [],
   "source": [
    "master_table_colleges = master_table_colleges.school.tolist()"
   ]
  },
  {
   "cell_type": "markdown",
   "metadata": {},
   "source": [
    "Do the same for the college names in the NBA draft rankings dataset"
   ]
  },
  {
   "cell_type": "code",
   "execution_count": 5,
   "metadata": {},
   "outputs": [],
   "source": [
    "draft_table_colleges = pd.read_sql_query('SELECT DISTINCT school_or_team FROM nba_top100_prospect_rankings', con = conn)"
   ]
  },
  {
   "cell_type": "code",
   "execution_count": 6,
   "metadata": {},
   "outputs": [],
   "source": [
    "draft_table_colleges = draft_table_colleges.school_or_team.tolist()"
   ]
  },
  {
   "cell_type": "markdown",
   "metadata": {},
   "source": [
    "Compare the datasets and list the names that are present in the NBA draft dataset but not in our current master data table. After the work has been completed, we should only see NBA G-League teams and European teams. "
   ]
  },
  {
   "cell_type": "code",
   "execution_count": 7,
   "metadata": {},
   "outputs": [
    {
     "data": {
      "text/plain": [
       "{'',\n",
       " '0',\n",
       " 'ASVEL',\n",
       " 'ASVEL Villeubanne',\n",
       " 'Adelaide 36ers',\n",
       " 'Anadolu Efes',\n",
       " 'Angelico Biella',\n",
       " 'Asefa Estudiantes',\n",
       " 'Australia',\n",
       " 'Avtodor',\n",
       " 'BC Donetsk',\n",
       " 'BC Igokea',\n",
       " 'BC Kyiv',\n",
       " 'BC Triumph',\n",
       " 'BS DSN',\n",
       " 'Bahia Basket',\n",
       " 'Barcelona Regal',\n",
       " 'Baunach',\n",
       " 'Bayern Munich',\n",
       " 'Belgacom Spirou',\n",
       " 'Benetton Treviso',\n",
       " 'Bornova (Turkey)',\n",
       " 'Brose Bamberg',\n",
       " 'Brose Baskets',\n",
       " 'CB Granada',\n",
       " 'CB Murcia',\n",
       " 'Cajasol Sevilla',\n",
       " 'Cedevita Zagreb',\n",
       " 'Chalon',\n",
       " 'Cholet',\n",
       " 'Cholet Basket',\n",
       " 'Cibona Zagreb',\n",
       " 'Crvena Zvezda',\n",
       " 'DKV Joventut',\n",
       " 'Delaware 87ers',\n",
       " 'Denain',\n",
       " 'Dnipro Dnepropetrovsk (Ukraine)',\n",
       " 'Dnipro Dnipropetrovsk',\n",
       " 'Dynamo Moscow',\n",
       " 'EA7 Milano',\n",
       " 'Estudiantes',\n",
       " 'FC Barcelona',\n",
       " 'FMP Belgrade',\n",
       " 'FMP Zeleznik',\n",
       " 'Fenerbahce Ulker',\n",
       " 'Fenerbahe Ulke',\n",
       " 'Filathlitikos',\n",
       " 'Flamengo',\n",
       " 'Fraport Frankfurt',\n",
       " 'Fuenlabrada',\n",
       " 'Galatasaray',\n",
       " 'Gipuzkoa Basket',\n",
       " 'Gran Canaria',\n",
       " 'Guangdong',\n",
       " 'Hapoel Migdal Jerusalem',\n",
       " 'Hemofarm',\n",
       " 'JUCO',\n",
       " 'KK Partizan',\n",
       " 'Lagun Aro GBC',\n",
       " 'Le Mans',\n",
       " 'Leuven',\n",
       " 'Lietuvos Rytas',\n",
       " 'Limoges CSP',\n",
       " 'Lottomatica Virtus Roma',\n",
       " 'Maccabi Rishon Lezion',\n",
       " 'Maccabi Tel Aviv',\n",
       " 'Mali',\n",
       " 'Mega Bemax',\n",
       " 'Mega Leks',\n",
       " 'Mega Vizura',\n",
       " 'Mykolayiv',\n",
       " 'N/A',\n",
       " 'Nanterre',\n",
       " 'Nanterre 92',\n",
       " 'New Mexico Thunderbirds',\n",
       " 'New Yorker Phantoms Braunschweig',\n",
       " 'Olimpia Milano',\n",
       " 'Olympiacos',\n",
       " 'Pamesa Valencia',\n",
       " 'Panathinaikos',\n",
       " 'Partizan Belgrade',\n",
       " 'Pau-Lacq-Orthez',\n",
       " 'Paulistano',\n",
       " 'Ratiopharm Ulm',\n",
       " 'Real Madrid',\n",
       " 'Red Star',\n",
       " 'Regal FC Barcelona',\n",
       " 'Reggio Emilia',\n",
       " 'Roanne',\n",
       " 'SESI/Franca',\n",
       " 'SPO Rouen',\n",
       " 'Souffel',\n",
       " 'South Dragons',\n",
       " 'Spirou Charleroi (Belgium)',\n",
       " 'Stella Azzurra',\n",
       " 'Strasbourg',\n",
       " 'Sydney Kings',\n",
       " 'TBB Trier',\n",
       " 'Telekom Baskets Bonn',\n",
       " 'Tokyo Apache',\n",
       " 'Tulsa 66ers (D-League)',\n",
       " 'UCAM Murcia',\n",
       " 'USA',\n",
       " 'Undecided',\n",
       " 'Unicaja Malaga',\n",
       " 'Union Olimpija',\n",
       " 'Union Poitiers Basket 86',\n",
       " 'Valencia',\n",
       " 'Ventspils',\n",
       " 'Virtus Roma',\n",
       " 'Weber St.',\n",
       " 'Xinjiang',\n",
       " 'Zalgiris Kaunas'}"
      ]
     },
     "execution_count": 7,
     "metadata": {},
     "output_type": "execute_result"
    }
   ],
   "source": [
    "set(draft_table_colleges).difference(set(master_table_colleges))"
   ]
  }
 ],
 "metadata": {
  "kernelspec": {
   "display_name": "Python 3",
   "language": "python",
   "name": "python3"
  },
  "language_info": {
   "codemirror_mode": {
    "name": "ipython",
    "version": 3
   },
   "file_extension": ".py",
   "mimetype": "text/x-python",
   "name": "python",
   "nbconvert_exporter": "python",
   "pygments_lexer": "ipython3",
   "version": "3.7.3"
  }
 },
 "nbformat": 4,
 "nbformat_minor": 2
}
