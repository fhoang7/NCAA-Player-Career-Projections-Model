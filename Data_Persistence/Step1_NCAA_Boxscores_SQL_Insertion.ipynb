{
 "cells": [
  {
   "cell_type": "markdown",
   "metadata": {},
   "source": [
    "## Goal:\n",
    "Load `NCAA boxscore` data into a database table."
   ]
  },
  {
   "cell_type": "markdown",
   "metadata": {},
   "source": [
    "Import Libraries"
   ]
  },
  {
   "cell_type": "code",
   "execution_count": 8,
   "metadata": {},
   "outputs": [],
   "source": [
    "import pandas as pd\n",
    "import numpy as np\n",
    "import time\n",
    "from datetime import datetime\n",
    "import getpass\n",
    "import psycopg2\n",
    "from psycopg2.extensions import adapt, register_adapter, AsIs\n",
    "pd.set_option('display.max_columns', 500)"
   ]
  },
  {
   "cell_type": "markdown",
   "metadata": {},
   "source": [
    "Read in CSV"
   ]
  },
  {
   "cell_type": "code",
   "execution_count": 2,
   "metadata": {
    "ExecuteTime": {
     "end_time": "2019-08-29T01:44:24.477288Z",
     "start_time": "2019-08-29T01:44:23.314572Z"
    }
   },
   "outputs": [],
   "source": [
    "ncaa_boxes = pd.read_csv('../Data/ncaa_simple_boxscores.csv')"
   ]
  },
  {
   "cell_type": "markdown",
   "metadata": {},
   "source": [
    "Inspect the data"
   ]
  },
  {
   "cell_type": "code",
   "execution_count": 3,
   "metadata": {
    "ExecuteTime": {
     "end_time": "2019-08-29T01:44:24.515159Z",
     "start_time": "2019-08-29T01:44:24.492370Z"
    }
   },
   "outputs": [
    {
     "data": {
      "text/plain": [
       "(253918, 16)"
      ]
     },
     "execution_count": 3,
     "metadata": {},
     "output_type": "execute_result"
    }
   ],
   "source": [
    "ncaa_boxes.shape"
   ]
  },
  {
   "cell_type": "code",
   "execution_count": 4,
   "metadata": {
    "ExecuteTime": {
     "end_time": "2019-08-29T01:44:24.596937Z",
     "start_time": "2019-08-29T01:44:24.520141Z"
    }
   },
   "outputs": [
    {
     "data": {
      "text/html": [
       "<div>\n",
       "<style scoped>\n",
       "    .dataframe tbody tr th:only-of-type {\n",
       "        vertical-align: middle;\n",
       "    }\n",
       "\n",
       "    .dataframe tbody tr th {\n",
       "        vertical-align: top;\n",
       "    }\n",
       "\n",
       "    .dataframe thead th {\n",
       "        text-align: right;\n",
       "    }\n",
       "</style>\n",
       "<table border=\"1\" class=\"dataframe\">\n",
       "  <thead>\n",
       "    <tr style=\"text-align: right;\">\n",
       "      <th></th>\n",
       "      <th>boxscore</th>\n",
       "      <th>away_name</th>\n",
       "      <th>away_abbr</th>\n",
       "      <th>away_score</th>\n",
       "      <th>away_rank</th>\n",
       "      <th>home_name</th>\n",
       "      <th>home_abbr</th>\n",
       "      <th>home_score</th>\n",
       "      <th>home_rank</th>\n",
       "      <th>non_di</th>\n",
       "      <th>top_25</th>\n",
       "      <th>winning_name</th>\n",
       "      <th>winning_abbr</th>\n",
       "      <th>losing_name</th>\n",
       "      <th>losing_abbr</th>\n",
       "      <th>season</th>\n",
       "    </tr>\n",
       "  </thead>\n",
       "  <tbody>\n",
       "    <tr>\n",
       "      <th>0</th>\n",
       "      <td>2018-11-06-19-kansas</td>\n",
       "      <td>Michigan State</td>\n",
       "      <td>michigan-state</td>\n",
       "      <td>87</td>\n",
       "      <td>10.0</td>\n",
       "      <td>Kansas</td>\n",
       "      <td>kansas</td>\n",
       "      <td>92</td>\n",
       "      <td>1.0</td>\n",
       "      <td>False</td>\n",
       "      <td>True</td>\n",
       "      <td>Kansas</td>\n",
       "      <td>kansas</td>\n",
       "      <td>Michigan State</td>\n",
       "      <td>michigan-state</td>\n",
       "      <td>2019</td>\n",
       "    </tr>\n",
       "    <tr>\n",
       "      <th>1</th>\n",
       "      <td>2018-11-06-21-kentucky</td>\n",
       "      <td>Duke</td>\n",
       "      <td>duke</td>\n",
       "      <td>118</td>\n",
       "      <td>4.0</td>\n",
       "      <td>Kentucky</td>\n",
       "      <td>kentucky</td>\n",
       "      <td>84</td>\n",
       "      <td>2.0</td>\n",
       "      <td>False</td>\n",
       "      <td>True</td>\n",
       "      <td>Duke</td>\n",
       "      <td>duke</td>\n",
       "      <td>Kentucky</td>\n",
       "      <td>kentucky</td>\n",
       "      <td>2019</td>\n",
       "    </tr>\n",
       "    <tr>\n",
       "      <th>2</th>\n",
       "      <td>2018-11-06-21-gonzaga</td>\n",
       "      <td>Idaho State</td>\n",
       "      <td>idaho-state</td>\n",
       "      <td>79</td>\n",
       "      <td>NaN</td>\n",
       "      <td>Gonzaga</td>\n",
       "      <td>gonzaga</td>\n",
       "      <td>120</td>\n",
       "      <td>3.0</td>\n",
       "      <td>False</td>\n",
       "      <td>True</td>\n",
       "      <td>Gonzaga</td>\n",
       "      <td>gonzaga</td>\n",
       "      <td>Idaho State</td>\n",
       "      <td>idaho-state</td>\n",
       "      <td>2019</td>\n",
       "    </tr>\n",
       "    <tr>\n",
       "      <th>3</th>\n",
       "      <td>2018-11-06-19-virginia</td>\n",
       "      <td>Towson</td>\n",
       "      <td>towson</td>\n",
       "      <td>42</td>\n",
       "      <td>NaN</td>\n",
       "      <td>Virginia</td>\n",
       "      <td>virginia</td>\n",
       "      <td>73</td>\n",
       "      <td>5.0</td>\n",
       "      <td>False</td>\n",
       "      <td>True</td>\n",
       "      <td>Virginia</td>\n",
       "      <td>virginia</td>\n",
       "      <td>Towson</td>\n",
       "      <td>towson</td>\n",
       "      <td>2019</td>\n",
       "    </tr>\n",
       "    <tr>\n",
       "      <th>4</th>\n",
       "      <td>2018-11-06-19-tennessee</td>\n",
       "      <td>Lenoir-Rhyne</td>\n",
       "      <td>Lenoir-Rhyne</td>\n",
       "      <td>41</td>\n",
       "      <td>NaN</td>\n",
       "      <td>Tennessee</td>\n",
       "      <td>tennessee</td>\n",
       "      <td>86</td>\n",
       "      <td>6.0</td>\n",
       "      <td>True</td>\n",
       "      <td>True</td>\n",
       "      <td>Tennessee</td>\n",
       "      <td>tennessee</td>\n",
       "      <td>Lenoir-Rhyne</td>\n",
       "      <td>Lenoir-Rhyne</td>\n",
       "      <td>2019</td>\n",
       "    </tr>\n",
       "  </tbody>\n",
       "</table>\n",
       "</div>"
      ],
      "text/plain": [
       "                  boxscore       away_name       away_abbr  away_score  \\\n",
       "0     2018-11-06-19-kansas  Michigan State  michigan-state          87   \n",
       "1   2018-11-06-21-kentucky            Duke            duke         118   \n",
       "2    2018-11-06-21-gonzaga     Idaho State     idaho-state          79   \n",
       "3   2018-11-06-19-virginia          Towson          towson          42   \n",
       "4  2018-11-06-19-tennessee    Lenoir-Rhyne    Lenoir-Rhyne          41   \n",
       "\n",
       "   away_rank  home_name  home_abbr  home_score  home_rank  non_di  top_25  \\\n",
       "0       10.0     Kansas     kansas          92        1.0   False    True   \n",
       "1        4.0   Kentucky   kentucky          84        2.0   False    True   \n",
       "2        NaN    Gonzaga    gonzaga         120        3.0   False    True   \n",
       "3        NaN   Virginia   virginia          73        5.0   False    True   \n",
       "4        NaN  Tennessee  tennessee          86        6.0    True    True   \n",
       "\n",
       "  winning_name winning_abbr     losing_name     losing_abbr  season  \n",
       "0       Kansas       kansas  Michigan State  michigan-state    2019  \n",
       "1         Duke         duke        Kentucky        kentucky    2019  \n",
       "2      Gonzaga      gonzaga     Idaho State     idaho-state    2019  \n",
       "3     Virginia     virginia          Towson          towson    2019  \n",
       "4    Tennessee    tennessee    Lenoir-Rhyne    Lenoir-Rhyne    2019  "
      ]
     },
     "execution_count": 4,
     "metadata": {},
     "output_type": "execute_result"
    }
   ],
   "source": [
    "ncaa_boxes.head()"
   ]
  },
  {
   "cell_type": "code",
   "execution_count": 5,
   "metadata": {
    "ExecuteTime": {
     "end_time": "2019-08-29T01:44:24.647798Z",
     "start_time": "2019-08-29T01:44:24.600925Z"
    }
   },
   "outputs": [
    {
     "data": {
      "text/html": [
       "<div>\n",
       "<style scoped>\n",
       "    .dataframe tbody tr th:only-of-type {\n",
       "        vertical-align: middle;\n",
       "    }\n",
       "\n",
       "    .dataframe tbody tr th {\n",
       "        vertical-align: top;\n",
       "    }\n",
       "\n",
       "    .dataframe thead th {\n",
       "        text-align: right;\n",
       "    }\n",
       "</style>\n",
       "<table border=\"1\" class=\"dataframe\">\n",
       "  <thead>\n",
       "    <tr style=\"text-align: right;\">\n",
       "      <th></th>\n",
       "      <th>boxscore</th>\n",
       "      <th>away_name</th>\n",
       "      <th>away_abbr</th>\n",
       "      <th>away_score</th>\n",
       "      <th>away_rank</th>\n",
       "      <th>home_name</th>\n",
       "      <th>home_abbr</th>\n",
       "      <th>home_score</th>\n",
       "      <th>home_rank</th>\n",
       "      <th>non_di</th>\n",
       "      <th>top_25</th>\n",
       "      <th>winning_name</th>\n",
       "      <th>winning_abbr</th>\n",
       "      <th>losing_name</th>\n",
       "      <th>losing_abbr</th>\n",
       "      <th>season</th>\n",
       "    </tr>\n",
       "  </thead>\n",
       "  <tbody>\n",
       "    <tr>\n",
       "      <th>253913</th>\n",
       "      <td>NaN</td>\n",
       "      <td>Temple</td>\n",
       "      <td>temple</td>\n",
       "      <td>53</td>\n",
       "      <td>NaN</td>\n",
       "      <td>NaN</td>\n",
       "      <td>NaN</td>\n",
       "      <td>40</td>\n",
       "      <td>NaN</td>\n",
       "      <td>True</td>\n",
       "      <td>False</td>\n",
       "      <td>Temple</td>\n",
       "      <td>temple</td>\n",
       "      <td>NaN</td>\n",
       "      <td>NaN</td>\n",
       "      <td>1938</td>\n",
       "    </tr>\n",
       "    <tr>\n",
       "      <th>253914</th>\n",
       "      <td>NaN</td>\n",
       "      <td>Colorado</td>\n",
       "      <td>colorado</td>\n",
       "      <td>48</td>\n",
       "      <td>NaN</td>\n",
       "      <td>NaN</td>\n",
       "      <td>NaN</td>\n",
       "      <td>47</td>\n",
       "      <td>NaN</td>\n",
       "      <td>True</td>\n",
       "      <td>False</td>\n",
       "      <td>Colorado</td>\n",
       "      <td>colorado</td>\n",
       "      <td>NaN</td>\n",
       "      <td>NaN</td>\n",
       "      <td>1938</td>\n",
       "    </tr>\n",
       "    <tr>\n",
       "      <th>253915</th>\n",
       "      <td>NaN</td>\n",
       "      <td>Temple</td>\n",
       "      <td>temple</td>\n",
       "      <td>56</td>\n",
       "      <td>NaN</td>\n",
       "      <td>NaN</td>\n",
       "      <td>NaN</td>\n",
       "      <td>44</td>\n",
       "      <td>NaN</td>\n",
       "      <td>True</td>\n",
       "      <td>False</td>\n",
       "      <td>Temple</td>\n",
       "      <td>temple</td>\n",
       "      <td>NaN</td>\n",
       "      <td>NaN</td>\n",
       "      <td>1938</td>\n",
       "    </tr>\n",
       "    <tr>\n",
       "      <th>253916</th>\n",
       "      <td>NaN</td>\n",
       "      <td>Oklahoma State</td>\n",
       "      <td>oklahoma-state</td>\n",
       "      <td>37</td>\n",
       "      <td>NaN</td>\n",
       "      <td>NaN</td>\n",
       "      <td>NaN</td>\n",
       "      <td>24</td>\n",
       "      <td>NaN</td>\n",
       "      <td>True</td>\n",
       "      <td>False</td>\n",
       "      <td>Oklahoma State</td>\n",
       "      <td>oklahoma-state</td>\n",
       "      <td>NaN</td>\n",
       "      <td>NaN</td>\n",
       "      <td>1938</td>\n",
       "    </tr>\n",
       "    <tr>\n",
       "      <th>253917</th>\n",
       "      <td>NaN</td>\n",
       "      <td>Temple</td>\n",
       "      <td>temple</td>\n",
       "      <td>60</td>\n",
       "      <td>NaN</td>\n",
       "      <td>NaN</td>\n",
       "      <td>NaN</td>\n",
       "      <td>36</td>\n",
       "      <td>NaN</td>\n",
       "      <td>True</td>\n",
       "      <td>False</td>\n",
       "      <td>Temple</td>\n",
       "      <td>temple</td>\n",
       "      <td>NaN</td>\n",
       "      <td>NaN</td>\n",
       "      <td>1938</td>\n",
       "    </tr>\n",
       "  </tbody>\n",
       "</table>\n",
       "</div>"
      ],
      "text/plain": [
       "       boxscore       away_name       away_abbr  away_score  away_rank  \\\n",
       "253913      NaN          Temple          temple          53        NaN   \n",
       "253914      NaN        Colorado        colorado          48        NaN   \n",
       "253915      NaN          Temple          temple          56        NaN   \n",
       "253916      NaN  Oklahoma State  oklahoma-state          37        NaN   \n",
       "253917      NaN          Temple          temple          60        NaN   \n",
       "\n",
       "       home_name home_abbr  home_score  home_rank  non_di  top_25  \\\n",
       "253913       NaN       NaN          40        NaN    True   False   \n",
       "253914       NaN       NaN          47        NaN    True   False   \n",
       "253915       NaN       NaN          44        NaN    True   False   \n",
       "253916       NaN       NaN          24        NaN    True   False   \n",
       "253917       NaN       NaN          36        NaN    True   False   \n",
       "\n",
       "          winning_name    winning_abbr losing_name losing_abbr  season  \n",
       "253913          Temple          temple         NaN         NaN    1938  \n",
       "253914        Colorado        colorado         NaN         NaN    1938  \n",
       "253915          Temple          temple         NaN         NaN    1938  \n",
       "253916  Oklahoma State  oklahoma-state         NaN         NaN    1938  \n",
       "253917          Temple          temple         NaN         NaN    1938  "
      ]
     },
     "execution_count": 5,
     "metadata": {},
     "output_type": "execute_result"
    }
   ],
   "source": [
    "ncaa_boxes.tail()"
   ]
  },
  {
   "cell_type": "code",
   "execution_count": 6,
   "metadata": {
    "ExecuteTime": {
     "end_time": "2019-08-29T01:44:24.679714Z",
     "start_time": "2019-08-29T01:44:24.651788Z"
    }
   },
   "outputs": [
    {
     "data": {
      "text/plain": [
       "Index(['boxscore', 'away_name', 'away_abbr', 'away_score', 'away_rank',\n",
       "       'home_name', 'home_abbr', 'home_score', 'home_rank', 'non_di', 'top_25',\n",
       "       'winning_name', 'winning_abbr', 'losing_name', 'losing_abbr', 'season'],\n",
       "      dtype='object')"
      ]
     },
     "execution_count": 6,
     "metadata": {},
     "output_type": "execute_result"
    }
   ],
   "source": [
    "ncaa_boxes.columns"
   ]
  },
  {
   "cell_type": "markdown",
   "metadata": {},
   "source": [
    "Create the table with SQL code."
   ]
  },
  {
   "cell_type": "code",
   "execution_count": 7,
   "metadata": {
    "ExecuteTime": {
     "end_time": "2019-08-29T01:44:24.720125Z",
     "start_time": "2019-08-29T01:44:24.684028Z"
    }
   },
   "outputs": [],
   "source": [
    "create_table = \"\"\"\n",
    "DROP TABLE IF EXISTS ncaa_simple_boxscores;\n",
    "CREATE TABLE ncaa_simple_boxscores (\n",
    "boxscore varchar(50)\n",
    ", away_name varchar(100)\n",
    ", away_abbr varchar(100)\n",
    ", away_score numeric\n",
    ", away_rank numeric\n",
    ", home_name varchar(100)\n",
    ", home_abbr varchar(100)\n",
    ", home_score numeric\n",
    ", home_rank numeric\n",
    ", non_di boolean\n",
    ", top_25 boolean\n",
    ", winning_name varchar(100)\n",
    ", winning_abbr varchar(100)\n",
    ", losing_name varchar(100)\n",
    ", losing_abbr varchar(100)\n",
    ", season numeric\n",
    ")\n",
    "\"\"\""
   ]
  },
  {
   "cell_type": "markdown",
   "metadata": {},
   "source": [
    "Establish database connection"
   ]
  },
  {
   "cell_type": "code",
   "execution_count": 9,
   "metadata": {
    "ExecuteTime": {
     "end_time": "2019-08-29T01:44:24.839288Z",
     "start_time": "2019-08-29T01:44:24.726186Z"
    }
   },
   "outputs": [
    {
     "name": "stdout",
     "output_type": "stream",
     "text": [
      "········\n"
     ]
    }
   ],
   "source": [
    "mypasswd = getpass.getpass()\n",
    "conn = psycopg2.connect(database = 'cs20_group4',\n",
    "                              user = 'mwkmr',\n",
    "                              host = 'pgsql.dsa.lan',\n",
    "                              password = mypasswd)"
   ]
  },
  {
   "cell_type": "markdown",
   "metadata": {},
   "source": [
    "Define cursor that will be used to write to the database."
   ]
  },
  {
   "cell_type": "code",
   "execution_count": 10,
   "metadata": {
    "ExecuteTime": {
     "end_time": "2019-08-29T01:44:24.853260Z",
     "start_time": "2019-08-29T01:44:24.843751Z"
    }
   },
   "outputs": [],
   "source": [
    "cursor = conn.cursor()"
   ]
  },
  {
   "cell_type": "markdown",
   "metadata": {},
   "source": [
    "Execute the create SQL."
   ]
  },
  {
   "cell_type": "code",
   "execution_count": 11,
   "metadata": {
    "ExecuteTime": {
     "start_time": "2019-08-29T01:44:20.236Z"
    }
   },
   "outputs": [],
   "source": [
    "cursor.execute(create_table)"
   ]
  },
  {
   "cell_type": "code",
   "execution_count": 12,
   "metadata": {
    "ExecuteTime": {
     "start_time": "2019-08-29T01:44:20.240Z"
    }
   },
   "outputs": [],
   "source": [
    "conn.commit()"
   ]
  },
  {
   "cell_type": "markdown",
   "metadata": {},
   "source": [
    "Replace `NaN` with nones in the dataset, and then insert the dataset into the newly created table."
   ]
  },
  {
   "cell_type": "code",
   "execution_count": 13,
   "metadata": {
    "ExecuteTime": {
     "start_time": "2019-08-29T01:44:20.244Z"
    }
   },
   "outputs": [],
   "source": [
    "ncaa_boxes = ncaa_boxes.where(pd.notnull(ncaa_boxes), None)\n",
    "\n",
    "INSERT_SQL = 'INSERT INTO ncaa_simple_boxscores'\n",
    "INSERT_SQL += '(boxscore,away_name,away_abbr,away_score,away_rank,'\n",
    "INSERT_SQL += 'home_name,home_abbr,home_score,home_rank,non_di,top_25,winning_name,winning_abbr,'\n",
    "INSERT_SQL += 'losing_name,losing_abbr,season) VALUES '\n",
    "INSERT_SQL += '(%s,%s,%s,%s,%s,%s,%s,%s,%s,%s,%s,%s,%s,%s,%s,%s)'\n",
    "\n",
    "with conn, conn.cursor() as cursor:\n",
    "    for row in ncaa_boxes.itertuples(index=False, name=None):\n",
    "        cursor.execute(INSERT_SQL,row)"
   ]
  }
 ],
 "metadata": {
  "kernelspec": {
   "display_name": "Python 3",
   "language": "python",
   "name": "python3"
  },
  "language_info": {
   "codemirror_mode": {
    "name": "ipython",
    "version": 3
   },
   "file_extension": ".py",
   "mimetype": "text/x-python",
   "name": "python",
   "nbconvert_exporter": "python",
   "pygments_lexer": "ipython3",
   "version": "3.7.3"
  },
  "toc": {
   "base_numbering": 1,
   "nav_menu": {},
   "number_sections": true,
   "sideBar": true,
   "skip_h1_title": false,
   "title_cell": "Table of Contents",
   "title_sidebar": "Contents",
   "toc_cell": false,
   "toc_position": {},
   "toc_section_display": true,
   "toc_window_display": false
  }
 },
 "nbformat": 4,
 "nbformat_minor": 2
}
