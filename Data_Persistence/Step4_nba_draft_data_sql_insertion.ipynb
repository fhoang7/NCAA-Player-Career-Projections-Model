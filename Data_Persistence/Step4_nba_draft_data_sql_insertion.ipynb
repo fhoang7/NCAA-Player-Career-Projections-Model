{
 "cells": [
  {
   "cell_type": "markdown",
   "metadata": {},
   "source": [
    "## Goal:\n",
    "Store the NBA draft data in a sql data table.\n",
    "\n",
    "Import packages for reading in data from a csv, then loading it into our database."
   ]
  },
  {
   "cell_type": "code",
   "execution_count": 1,
   "metadata": {},
   "outputs": [],
   "source": [
    "import pandas as pd\n",
    "import numpy as np\n",
    "import getpass\n",
    "import psycopg2\n",
    "from psycopg2.extensions import adapt, register_adapter, AsIs"
   ]
  },
  {
   "cell_type": "markdown",
   "metadata": {},
   "source": [
    "Create connection to database"
   ]
  },
  {
   "cell_type": "code",
   "execution_count": 2,
   "metadata": {},
   "outputs": [
    {
     "name": "stdout",
     "output_type": "stream",
     "text": [
      "········\n"
     ]
    }
   ],
   "source": [
    "mypasswd = getpass.getpass()\n",
    "conn = psycopg2.connect(database = 'cs20_group4',\n",
    "                              user = 'jpcp73',\n",
    "                              host = 'pgsql.dsa.lan',\n",
    "                              password = mypasswd)"
   ]
  },
  {
   "cell_type": "markdown",
   "metadata": {},
   "source": [
    "Read in `NBA_draft_data` csv"
   ]
  },
  {
   "cell_type": "code",
   "execution_count": 3,
   "metadata": {},
   "outputs": [],
   "source": [
    "data = pd.read_csv('..//Data/nba_draft_data.csv')"
   ]
  },
  {
   "cell_type": "code",
   "execution_count": 4,
   "metadata": {},
   "outputs": [
    {
     "name": "stdout",
     "output_type": "stream",
     "text": [
      "(7755, 5)\n"
     ]
    },
    {
     "data": {
      "text/html": [
       "<div>\n",
       "<style scoped>\n",
       "    .dataframe tbody tr th:only-of-type {\n",
       "        vertical-align: middle;\n",
       "    }\n",
       "\n",
       "    .dataframe tbody tr th {\n",
       "        vertical-align: top;\n",
       "    }\n",
       "\n",
       "    .dataframe thead th {\n",
       "        text-align: right;\n",
       "    }\n",
       "</style>\n",
       "<table border=\"1\" class=\"dataframe\">\n",
       "  <thead>\n",
       "    <tr style=\"text-align: right;\">\n",
       "      <th></th>\n",
       "      <th>player_name</th>\n",
       "      <th>pick</th>\n",
       "      <th>school</th>\n",
       "      <th>team</th>\n",
       "      <th>year</th>\n",
       "    </tr>\n",
       "  </thead>\n",
       "  <tbody>\n",
       "    <tr>\n",
       "      <th>0</th>\n",
       "      <td>Paul Arizin</td>\n",
       "      <td>NaN</td>\n",
       "      <td>Villanova</td>\n",
       "      <td>PHW</td>\n",
       "      <td>1950</td>\n",
       "    </tr>\n",
       "    <tr>\n",
       "      <th>1</th>\n",
       "      <td>Chuck Share</td>\n",
       "      <td>1.0</td>\n",
       "      <td>Bowling Green State</td>\n",
       "      <td>BOS</td>\n",
       "      <td>1950</td>\n",
       "    </tr>\n",
       "    <tr>\n",
       "      <th>2</th>\n",
       "      <td>Don Rehfeldt</td>\n",
       "      <td>2.0</td>\n",
       "      <td>Wisconsin</td>\n",
       "      <td>BLB</td>\n",
       "      <td>1950</td>\n",
       "    </tr>\n",
       "    <tr>\n",
       "      <th>3</th>\n",
       "      <td>Bob Cousy</td>\n",
       "      <td>3.0</td>\n",
       "      <td>Holy Cross</td>\n",
       "      <td>TRI</td>\n",
       "      <td>1950</td>\n",
       "    </tr>\n",
       "    <tr>\n",
       "      <th>4</th>\n",
       "      <td>Dick Schnittker</td>\n",
       "      <td>4.0</td>\n",
       "      <td>Ohio State</td>\n",
       "      <td>WSC</td>\n",
       "      <td>1950</td>\n",
       "    </tr>\n",
       "  </tbody>\n",
       "</table>\n",
       "</div>"
      ],
      "text/plain": [
       "       player_name  pick               school team  year\n",
       "0      Paul Arizin   NaN            Villanova  PHW  1950\n",
       "1      Chuck Share   1.0  Bowling Green State  BOS  1950\n",
       "2     Don Rehfeldt   2.0            Wisconsin  BLB  1950\n",
       "3        Bob Cousy   3.0           Holy Cross  TRI  1950\n",
       "4  Dick Schnittker   4.0           Ohio State  WSC  1950"
      ]
     },
     "execution_count": 4,
     "metadata": {},
     "output_type": "execute_result"
    }
   ],
   "source": [
    "print(data.shape)\n",
    "data.head()"
   ]
  },
  {
   "cell_type": "markdown",
   "metadata": {},
   "source": [
    "Create table into which we will insert the data above"
   ]
  },
  {
   "cell_type": "code",
   "execution_count": 5,
   "metadata": {},
   "outputs": [],
   "source": [
    "cursor = conn.cursor()"
   ]
  },
  {
   "cell_type": "code",
   "execution_count": 6,
   "metadata": {},
   "outputs": [],
   "source": [
    "create_table = \"\"\"\n",
    "DROP TABLE IF EXISTS nba_draft_results;\n",
    "CREATE TABLE nba_draft_results (\n",
    "player_name varchar(100)\n",
    ", pick numeric\n",
    ", school varchar(250)\n",
    ", team varchar(100)\n",
    ", year numeric\n",
    ")\n",
    "\"\"\""
   ]
  },
  {
   "cell_type": "markdown",
   "metadata": {},
   "source": [
    "Commit newly created table to the database"
   ]
  },
  {
   "cell_type": "code",
   "execution_count": 7,
   "metadata": {},
   "outputs": [],
   "source": [
    "cursor.execute(create_table)"
   ]
  },
  {
   "cell_type": "code",
   "execution_count": 8,
   "metadata": {},
   "outputs": [],
   "source": [
    "conn.commit()"
   ]
  },
  {
   "cell_type": "markdown",
   "metadata": {},
   "source": [
    "Reconnect to database for insertion of data"
   ]
  },
  {
   "cell_type": "code",
   "execution_count": 9,
   "metadata": {},
   "outputs": [
    {
     "name": "stdout",
     "output_type": "stream",
     "text": [
      "········\n"
     ]
    }
   ],
   "source": [
    "mypasswd = getpass.getpass()\n",
    "conn = psycopg2.connect(database = 'cs20_group4',\n",
    "                              user = 'jpcp73',\n",
    "                              host = 'pgsql.dsa.lan',\n",
    "                              password = mypasswd)"
   ]
  },
  {
   "cell_type": "code",
   "execution_count": 10,
   "metadata": {},
   "outputs": [],
   "source": [
    "cursor = conn.cursor()"
   ]
  },
  {
   "cell_type": "markdown",
   "metadata": {},
   "source": [
    "Write data to database"
   ]
  },
  {
   "cell_type": "code",
   "execution_count": 11,
   "metadata": {},
   "outputs": [],
   "source": [
    "df = data.where(pd.notnull(data),None)\n",
    "\n",
    "INSERT_SQL = \"INSERT INTO nba_draft_results\"\n",
    "INSERT_SQL += \"(player_name\"\n",
    "INSERT_SQL += \", pick\"\n",
    "INSERT_SQL += \", school\"\n",
    "INSERT_SQL += \", team\"\n",
    "INSERT_SQL += \", year) VALUES\"\n",
    "INSERT_SQL += \"(%s,%s,%s,%s,%s)\"\n",
    "\n",
    "with conn, conn.cursor() as cursor:\n",
    "    for row in df.itertuples(index=False, name=None):\n",
    "        cursor.execute(INSERT_SQL,row)"
   ]
  },
  {
   "cell_type": "markdown",
   "metadata": {},
   "source": [
    "Pull data from database to verify that everything was loaded correctly"
   ]
  },
  {
   "cell_type": "code",
   "execution_count": 13,
   "metadata": {},
   "outputs": [
    {
     "name": "stdout",
     "output_type": "stream",
     "text": [
      "(7755, 5)\n"
     ]
    },
    {
     "data": {
      "text/html": [
       "<div>\n",
       "<style scoped>\n",
       "    .dataframe tbody tr th:only-of-type {\n",
       "        vertical-align: middle;\n",
       "    }\n",
       "\n",
       "    .dataframe tbody tr th {\n",
       "        vertical-align: top;\n",
       "    }\n",
       "\n",
       "    .dataframe thead th {\n",
       "        text-align: right;\n",
       "    }\n",
       "</style>\n",
       "<table border=\"1\" class=\"dataframe\">\n",
       "  <thead>\n",
       "    <tr style=\"text-align: right;\">\n",
       "      <th></th>\n",
       "      <th>player_name</th>\n",
       "      <th>pick</th>\n",
       "      <th>school</th>\n",
       "      <th>team</th>\n",
       "      <th>year</th>\n",
       "    </tr>\n",
       "  </thead>\n",
       "  <tbody>\n",
       "    <tr>\n",
       "      <th>0</th>\n",
       "      <td>Paul Arizin</td>\n",
       "      <td>NaN</td>\n",
       "      <td>Villanova</td>\n",
       "      <td>PHW</td>\n",
       "      <td>1950.0</td>\n",
       "    </tr>\n",
       "    <tr>\n",
       "      <th>1</th>\n",
       "      <td>Chuck Share</td>\n",
       "      <td>1.0</td>\n",
       "      <td>Bowling Green State</td>\n",
       "      <td>BOS</td>\n",
       "      <td>1950.0</td>\n",
       "    </tr>\n",
       "    <tr>\n",
       "      <th>2</th>\n",
       "      <td>Don Rehfeldt</td>\n",
       "      <td>2.0</td>\n",
       "      <td>Wisconsin</td>\n",
       "      <td>BLB</td>\n",
       "      <td>1950.0</td>\n",
       "    </tr>\n",
       "    <tr>\n",
       "      <th>3</th>\n",
       "      <td>Bob Cousy</td>\n",
       "      <td>3.0</td>\n",
       "      <td>Holy Cross</td>\n",
       "      <td>TRI</td>\n",
       "      <td>1950.0</td>\n",
       "    </tr>\n",
       "    <tr>\n",
       "      <th>4</th>\n",
       "      <td>Dick Schnittker</td>\n",
       "      <td>4.0</td>\n",
       "      <td>Ohio State</td>\n",
       "      <td>WSC</td>\n",
       "      <td>1950.0</td>\n",
       "    </tr>\n",
       "  </tbody>\n",
       "</table>\n",
       "</div>"
      ],
      "text/plain": [
       "       player_name  pick               school team    year\n",
       "0      Paul Arizin   NaN            Villanova  PHW  1950.0\n",
       "1      Chuck Share   1.0  Bowling Green State  BOS  1950.0\n",
       "2     Don Rehfeldt   2.0            Wisconsin  BLB  1950.0\n",
       "3        Bob Cousy   3.0           Holy Cross  TRI  1950.0\n",
       "4  Dick Schnittker   4.0           Ohio State  WSC  1950.0"
      ]
     },
     "execution_count": 13,
     "metadata": {},
     "output_type": "execute_result"
    }
   ],
   "source": [
    "test = pd.read_sql_query(\"\"\"\n",
    "SELECT\n",
    "    *\n",
    "FROM nba_draft_results\n",
    "\"\"\", con = conn)\n",
    "print(test.shape)\n",
    "test.head()"
   ]
  }
 ],
 "metadata": {
  "kernelspec": {
   "display_name": "Python 3",
   "language": "python",
   "name": "python3"
  },
  "language_info": {
   "codemirror_mode": {
    "name": "ipython",
    "version": 3
   },
   "file_extension": ".py",
   "mimetype": "text/x-python",
   "name": "python",
   "nbconvert_exporter": "python",
   "pygments_lexer": "ipython3",
   "version": "3.7.3"
  }
 },
 "nbformat": 4,
 "nbformat_minor": 2
}
