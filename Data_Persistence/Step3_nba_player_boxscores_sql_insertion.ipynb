{
 "cells": [
  {
   "cell_type": "markdown",
   "metadata": {},
   "source": [
    "# Goal:\n",
    "Perform data carpentry on our basic boxscore dataset and insert into our database"
   ]
  },
  {
   "cell_type": "markdown",
   "metadata": {},
   "source": [
    "Import libraries to support dataframe loading and manipulation as well as database design."
   ]
  },
  {
   "cell_type": "code",
   "execution_count": 1,
   "metadata": {
    "ExecuteTime": {
     "end_time": "2019-08-25T20:18:43.158625Z",
     "start_time": "2019-08-25T20:18:38.438070Z"
    }
   },
   "outputs": [],
   "source": [
    "import pandas as pd\n",
    "import getpass\n",
    "import numpy as np\n",
    "import time\n",
    "from datetime import datetime\n",
    "import psycopg2\n",
    "from psycopg2.extensions import adapt, register_adapter, AsIs\n",
    "pd.set_option('display.max_columns', 500)"
   ]
  },
  {
   "cell_type": "markdown",
   "metadata": {},
   "source": [
    "Reading in datasets"
   ]
  },
  {
   "cell_type": "code",
   "execution_count": 2,
   "metadata": {
    "ExecuteTime": {
     "end_time": "2019-08-25T20:18:52.159326Z",
     "start_time": "2019-08-25T20:18:43.162265Z"
    },
    "scrolled": false
   },
   "outputs": [],
   "source": [
    "data = pd.read_csv('../Data/nba_player_boxscores.csv')"
   ]
  },
  {
   "cell_type": "code",
   "execution_count": 3,
   "metadata": {
    "ExecuteTime": {
     "end_time": "2019-08-25T20:18:52.396654Z",
     "start_time": "2019-08-25T20:18:52.162280Z"
    }
   },
   "outputs": [],
   "source": [
    "boxscores = pd.read_csv('../Data/nba_boxscores.csv')"
   ]
  },
  {
   "cell_type": "code",
   "execution_count": 4,
   "metadata": {
    "ExecuteTime": {
     "end_time": "2019-08-25T20:18:54.711176Z",
     "start_time": "2019-08-25T20:18:52.399645Z"
    }
   },
   "outputs": [],
   "source": [
    "data = data.merge(boxscores[['boxscore','season']],on='boxscore')"
   ]
  },
  {
   "cell_type": "code",
   "execution_count": 7,
   "metadata": {},
   "outputs": [
    {
     "data": {
      "text/html": [
       "<div>\n",
       "<style scoped>\n",
       "    .dataframe tbody tr th:only-of-type {\n",
       "        vertical-align: middle;\n",
       "    }\n",
       "\n",
       "    .dataframe tbody tr th {\n",
       "        vertical-align: top;\n",
       "    }\n",
       "\n",
       "    .dataframe thead th {\n",
       "        text-align: right;\n",
       "    }\n",
       "</style>\n",
       "<table border=\"1\" class=\"dataframe\">\n",
       "  <thead>\n",
       "    <tr style=\"text-align: right;\">\n",
       "      <th></th>\n",
       "      <th>assist_percentage</th>\n",
       "      <th>assists</th>\n",
       "      <th>block_percentage</th>\n",
       "      <th>blocks</th>\n",
       "      <th>box_plus_minus</th>\n",
       "      <th>boxscore</th>\n",
       "      <th>defensive_rating</th>\n",
       "      <th>defensive_rebound_percentage</th>\n",
       "      <th>defensive_rebounds</th>\n",
       "      <th>effective_field_goal_percentage</th>\n",
       "      <th>field_goal_attempts</th>\n",
       "      <th>field_goal_percentage</th>\n",
       "      <th>field_goals</th>\n",
       "      <th>free_throw_attempt_rate</th>\n",
       "      <th>free_throw_attempts</th>\n",
       "      <th>free_throw_percentage</th>\n",
       "      <th>free_throws</th>\n",
       "      <th>minutes_played</th>\n",
       "      <th>offensive_rating</th>\n",
       "      <th>offensive_rebound_percentage</th>\n",
       "      <th>offensive_rebounds</th>\n",
       "      <th>personal_fouls</th>\n",
       "      <th>player_id</th>\n",
       "      <th>points</th>\n",
       "      <th>steal_percentage</th>\n",
       "      <th>steals</th>\n",
       "      <th>team_abbr</th>\n",
       "      <th>three_point_attempt_rate</th>\n",
       "      <th>three_point_attempts</th>\n",
       "      <th>three_point_percentage</th>\n",
       "      <th>three_pointers</th>\n",
       "      <th>total_rebound_percentage</th>\n",
       "      <th>total_rebounds</th>\n",
       "      <th>true_shooting_percentage</th>\n",
       "      <th>turnover_percentage</th>\n",
       "      <th>turnovers</th>\n",
       "      <th>two_point_attempts</th>\n",
       "      <th>two_point_percentage</th>\n",
       "      <th>two_pointers</th>\n",
       "      <th>usage_percentage</th>\n",
       "      <th>venue</th>\n",
       "      <th>season</th>\n",
       "    </tr>\n",
       "  </thead>\n",
       "  <tbody>\n",
       "    <tr>\n",
       "      <th>0</th>\n",
       "      <td>9.0</td>\n",
       "      <td>2.0</td>\n",
       "      <td>10.5</td>\n",
       "      <td>4.0</td>\n",
       "      <td>9.0</td>\n",
       "      <td>201810160BOS</td>\n",
       "      <td>80.0</td>\n",
       "      <td>13.1</td>\n",
       "      <td>4.0</td>\n",
       "      <td>0.571</td>\n",
       "      <td>7.0</td>\n",
       "      <td>0.571</td>\n",
       "      <td>4.0</td>\n",
       "      <td>0.143</td>\n",
       "      <td>1.0</td>\n",
       "      <td>1.0</td>\n",
       "      <td>1.0</td>\n",
       "      <td>29.950000</td>\n",
       "      <td>90.0</td>\n",
       "      <td>0.0</td>\n",
       "      <td>0.0</td>\n",
       "      <td>1.0</td>\n",
       "      <td>horfoal01</td>\n",
       "      <td>9.0</td>\n",
       "      <td>0.0</td>\n",
       "      <td>0.0</td>\n",
       "      <td>BOS</td>\n",
       "      <td>0.143</td>\n",
       "      <td>1.0</td>\n",
       "      <td>0.000</td>\n",
       "      <td>0.0</td>\n",
       "      <td>6.3</td>\n",
       "      <td>4.0</td>\n",
       "      <td>0.605</td>\n",
       "      <td>28.7</td>\n",
       "      <td>3.0</td>\n",
       "      <td>6.0</td>\n",
       "      <td>0.667</td>\n",
       "      <td>4.0</td>\n",
       "      <td>14.3</td>\n",
       "      <td>Home</td>\n",
       "      <td>2019</td>\n",
       "    </tr>\n",
       "    <tr>\n",
       "      <th>1</th>\n",
       "      <td>29.9</td>\n",
       "      <td>7.0</td>\n",
       "      <td>0.0</td>\n",
       "      <td>0.0</td>\n",
       "      <td>9.0</td>\n",
       "      <td>201810160BOS</td>\n",
       "      <td>89.0</td>\n",
       "      <td>13.5</td>\n",
       "      <td>4.0</td>\n",
       "      <td>0.179</td>\n",
       "      <td>14.0</td>\n",
       "      <td>0.143</td>\n",
       "      <td>2.0</td>\n",
       "      <td>0.143</td>\n",
       "      <td>2.0</td>\n",
       "      <td>1.0</td>\n",
       "      <td>2.0</td>\n",
       "      <td>29.000000</td>\n",
       "      <td>63.0</td>\n",
       "      <td>0.0</td>\n",
       "      <td>0.0</td>\n",
       "      <td>1.0</td>\n",
       "      <td>irvinky01</td>\n",
       "      <td>7.0</td>\n",
       "      <td>0.0</td>\n",
       "      <td>0.0</td>\n",
       "      <td>BOS</td>\n",
       "      <td>0.571</td>\n",
       "      <td>8.0</td>\n",
       "      <td>0.125</td>\n",
       "      <td>1.0</td>\n",
       "      <td>6.5</td>\n",
       "      <td>4.0</td>\n",
       "      <td>0.235</td>\n",
       "      <td>16.8</td>\n",
       "      <td>3.0</td>\n",
       "      <td>6.0</td>\n",
       "      <td>0.167</td>\n",
       "      <td>1.0</td>\n",
       "      <td>25.3</td>\n",
       "      <td>Home</td>\n",
       "      <td>2019</td>\n",
       "    </tr>\n",
       "    <tr>\n",
       "      <th>2</th>\n",
       "      <td>18.4</td>\n",
       "      <td>3.0</td>\n",
       "      <td>0.0</td>\n",
       "      <td>0.0</td>\n",
       "      <td>6.0</td>\n",
       "      <td>201810160BOS</td>\n",
       "      <td>83.0</td>\n",
       "      <td>23.7</td>\n",
       "      <td>7.0</td>\n",
       "      <td>0.559</td>\n",
       "      <td>17.0</td>\n",
       "      <td>0.529</td>\n",
       "      <td>9.0</td>\n",
       "      <td>0.294</td>\n",
       "      <td>5.0</td>\n",
       "      <td>0.8</td>\n",
       "      <td>4.0</td>\n",
       "      <td>28.933333</td>\n",
       "      <td>125.0</td>\n",
       "      <td>6.3</td>\n",
       "      <td>2.0</td>\n",
       "      <td>2.0</td>\n",
       "      <td>tatumja01</td>\n",
       "      <td>23.0</td>\n",
       "      <td>1.6</td>\n",
       "      <td>1.0</td>\n",
       "      <td>BOS</td>\n",
       "      <td>0.294</td>\n",
       "      <td>5.0</td>\n",
       "      <td>0.200</td>\n",
       "      <td>1.0</td>\n",
       "      <td>14.6</td>\n",
       "      <td>9.0</td>\n",
       "      <td>0.599</td>\n",
       "      <td>5.0</td>\n",
       "      <td>1.0</td>\n",
       "      <td>12.0</td>\n",
       "      <td>0.667</td>\n",
       "      <td>8.0</td>\n",
       "      <td>28.6</td>\n",
       "      <td>Home</td>\n",
       "      <td>2019</td>\n",
       "    </tr>\n",
       "    <tr>\n",
       "      <th>3</th>\n",
       "      <td>10.1</td>\n",
       "      <td>2.0</td>\n",
       "      <td>0.0</td>\n",
       "      <td>0.0</td>\n",
       "      <td>11.0</td>\n",
       "      <td>201810160BOS</td>\n",
       "      <td>89.0</td>\n",
       "      <td>6.9</td>\n",
       "      <td>2.0</td>\n",
       "      <td>0.423</td>\n",
       "      <td>13.0</td>\n",
       "      <td>0.385</td>\n",
       "      <td>5.0</td>\n",
       "      <td>0.154</td>\n",
       "      <td>2.0</td>\n",
       "      <td>0.5</td>\n",
       "      <td>1.0</td>\n",
       "      <td>28.383333</td>\n",
       "      <td>91.0</td>\n",
       "      <td>9.6</td>\n",
       "      <td>3.0</td>\n",
       "      <td>4.0</td>\n",
       "      <td>brownja02</td>\n",
       "      <td>12.0</td>\n",
       "      <td>0.0</td>\n",
       "      <td>0.0</td>\n",
       "      <td>BOS</td>\n",
       "      <td>0.231</td>\n",
       "      <td>3.0</td>\n",
       "      <td>0.333</td>\n",
       "      <td>1.0</td>\n",
       "      <td>8.3</td>\n",
       "      <td>5.0</td>\n",
       "      <td>0.432</td>\n",
       "      <td>12.6</td>\n",
       "      <td>2.0</td>\n",
       "      <td>10.0</td>\n",
       "      <td>0.400</td>\n",
       "      <td>4.0</td>\n",
       "      <td>22.9</td>\n",
       "      <td>Home</td>\n",
       "      <td>2019</td>\n",
       "    </tr>\n",
       "    <tr>\n",
       "      <th>4</th>\n",
       "      <td>0.0</td>\n",
       "      <td>0.0</td>\n",
       "      <td>0.0</td>\n",
       "      <td>0.0</td>\n",
       "      <td>10.0</td>\n",
       "      <td>201810160BOS</td>\n",
       "      <td>74.0</td>\n",
       "      <td>11.9</td>\n",
       "      <td>3.0</td>\n",
       "      <td>0.375</td>\n",
       "      <td>12.0</td>\n",
       "      <td>0.333</td>\n",
       "      <td>4.0</td>\n",
       "      <td>0.167</td>\n",
       "      <td>2.0</td>\n",
       "      <td>0.5</td>\n",
       "      <td>1.0</td>\n",
       "      <td>24.616667</td>\n",
       "      <td>90.0</td>\n",
       "      <td>7.4</td>\n",
       "      <td>2.0</td>\n",
       "      <td>1.0</td>\n",
       "      <td>haywago01</td>\n",
       "      <td>10.0</td>\n",
       "      <td>7.5</td>\n",
       "      <td>4.0</td>\n",
       "      <td>BOS</td>\n",
       "      <td>0.250</td>\n",
       "      <td>3.0</td>\n",
       "      <td>0.333</td>\n",
       "      <td>1.0</td>\n",
       "      <td>9.6</td>\n",
       "      <td>5.0</td>\n",
       "      <td>0.388</td>\n",
       "      <td>0.0</td>\n",
       "      <td>0.0</td>\n",
       "      <td>9.0</td>\n",
       "      <td>0.333</td>\n",
       "      <td>3.0</td>\n",
       "      <td>21.4</td>\n",
       "      <td>Home</td>\n",
       "      <td>2019</td>\n",
       "    </tr>\n",
       "  </tbody>\n",
       "</table>\n",
       "</div>"
      ],
      "text/plain": [
       "   assist_percentage  assists  block_percentage  blocks  box_plus_minus  \\\n",
       "0                9.0      2.0              10.5     4.0             9.0   \n",
       "1               29.9      7.0               0.0     0.0             9.0   \n",
       "2               18.4      3.0               0.0     0.0             6.0   \n",
       "3               10.1      2.0               0.0     0.0            11.0   \n",
       "4                0.0      0.0               0.0     0.0            10.0   \n",
       "\n",
       "       boxscore  defensive_rating  defensive_rebound_percentage  \\\n",
       "0  201810160BOS              80.0                          13.1   \n",
       "1  201810160BOS              89.0                          13.5   \n",
       "2  201810160BOS              83.0                          23.7   \n",
       "3  201810160BOS              89.0                           6.9   \n",
       "4  201810160BOS              74.0                          11.9   \n",
       "\n",
       "   defensive_rebounds  effective_field_goal_percentage  field_goal_attempts  \\\n",
       "0                 4.0                            0.571                  7.0   \n",
       "1                 4.0                            0.179                 14.0   \n",
       "2                 7.0                            0.559                 17.0   \n",
       "3                 2.0                            0.423                 13.0   \n",
       "4                 3.0                            0.375                 12.0   \n",
       "\n",
       "   field_goal_percentage  field_goals  free_throw_attempt_rate  \\\n",
       "0                  0.571          4.0                    0.143   \n",
       "1                  0.143          2.0                    0.143   \n",
       "2                  0.529          9.0                    0.294   \n",
       "3                  0.385          5.0                    0.154   \n",
       "4                  0.333          4.0                    0.167   \n",
       "\n",
       "   free_throw_attempts  free_throw_percentage  free_throws  minutes_played  \\\n",
       "0                  1.0                    1.0          1.0       29.950000   \n",
       "1                  2.0                    1.0          2.0       29.000000   \n",
       "2                  5.0                    0.8          4.0       28.933333   \n",
       "3                  2.0                    0.5          1.0       28.383333   \n",
       "4                  2.0                    0.5          1.0       24.616667   \n",
       "\n",
       "   offensive_rating  offensive_rebound_percentage  offensive_rebounds  \\\n",
       "0              90.0                           0.0                 0.0   \n",
       "1              63.0                           0.0                 0.0   \n",
       "2             125.0                           6.3                 2.0   \n",
       "3              91.0                           9.6                 3.0   \n",
       "4              90.0                           7.4                 2.0   \n",
       "\n",
       "   personal_fouls  player_id  points  steal_percentage  steals team_abbr  \\\n",
       "0             1.0  horfoal01     9.0               0.0     0.0       BOS   \n",
       "1             1.0  irvinky01     7.0               0.0     0.0       BOS   \n",
       "2             2.0  tatumja01    23.0               1.6     1.0       BOS   \n",
       "3             4.0  brownja02    12.0               0.0     0.0       BOS   \n",
       "4             1.0  haywago01    10.0               7.5     4.0       BOS   \n",
       "\n",
       "   three_point_attempt_rate  three_point_attempts  three_point_percentage  \\\n",
       "0                     0.143                   1.0                   0.000   \n",
       "1                     0.571                   8.0                   0.125   \n",
       "2                     0.294                   5.0                   0.200   \n",
       "3                     0.231                   3.0                   0.333   \n",
       "4                     0.250                   3.0                   0.333   \n",
       "\n",
       "   three_pointers  total_rebound_percentage  total_rebounds  \\\n",
       "0             0.0                       6.3             4.0   \n",
       "1             1.0                       6.5             4.0   \n",
       "2             1.0                      14.6             9.0   \n",
       "3             1.0                       8.3             5.0   \n",
       "4             1.0                       9.6             5.0   \n",
       "\n",
       "   true_shooting_percentage  turnover_percentage  turnovers  \\\n",
       "0                     0.605                 28.7        3.0   \n",
       "1                     0.235                 16.8        3.0   \n",
       "2                     0.599                  5.0        1.0   \n",
       "3                     0.432                 12.6        2.0   \n",
       "4                     0.388                  0.0        0.0   \n",
       "\n",
       "   two_point_attempts  two_point_percentage  two_pointers  usage_percentage  \\\n",
       "0                 6.0                 0.667           4.0              14.3   \n",
       "1                 6.0                 0.167           1.0              25.3   \n",
       "2                12.0                 0.667           8.0              28.6   \n",
       "3                10.0                 0.400           4.0              22.9   \n",
       "4                 9.0                 0.333           3.0              21.4   \n",
       "\n",
       "  venue  season  \n",
       "0  Home    2019  \n",
       "1  Home    2019  \n",
       "2  Home    2019  \n",
       "3  Home    2019  \n",
       "4  Home    2019  "
      ]
     },
     "execution_count": 7,
     "metadata": {},
     "output_type": "execute_result"
    }
   ],
   "source": [
    "data.head()"
   ]
  },
  {
   "cell_type": "code",
   "execution_count": 19,
   "metadata": {
    "ExecuteTime": {
     "end_time": "2019-08-25T20:18:55.182913Z",
     "start_time": "2019-08-25T20:18:54.713169Z"
    }
   },
   "outputs": [],
   "source": [
    "career = pd.read_csv('../Data/player_career_stats.csv')"
   ]
  },
  {
   "cell_type": "code",
   "execution_count": 20,
   "metadata": {},
   "outputs": [
    {
     "data": {
      "text/html": [
       "<div>\n",
       "<style scoped>\n",
       "    .dataframe tbody tr th:only-of-type {\n",
       "        vertical-align: middle;\n",
       "    }\n",
       "\n",
       "    .dataframe tbody tr th {\n",
       "        vertical-align: top;\n",
       "    }\n",
       "\n",
       "    .dataframe thead th {\n",
       "        text-align: right;\n",
       "    }\n",
       "</style>\n",
       "<table border=\"1\" class=\"dataframe\">\n",
       "  <thead>\n",
       "    <tr style=\"text-align: right;\">\n",
       "      <th></th>\n",
       "      <th>season</th>\n",
       "      <th>and_ones</th>\n",
       "      <th>assist_percentage</th>\n",
       "      <th>assists</th>\n",
       "      <th>block_percentage</th>\n",
       "      <th>blocking_fouls</th>\n",
       "      <th>blocks</th>\n",
       "      <th>box_plus_minus</th>\n",
       "      <th>center_percentage</th>\n",
       "      <th>defensive_box_plus_minus</th>\n",
       "      <th>defensive_rebound_percentage</th>\n",
       "      <th>defensive_rebounds</th>\n",
       "      <th>defensive_win_shares</th>\n",
       "      <th>dunks</th>\n",
       "      <th>effective_field_goal_percentage</th>\n",
       "      <th>field_goal_attempts</th>\n",
       "      <th>field_goal_perc_sixteen_foot_plus_two_pointers</th>\n",
       "      <th>field_goal_perc_ten_to_sixteen_feet</th>\n",
       "      <th>field_goal_perc_three_to_ten_feet</th>\n",
       "      <th>field_goal_perc_zero_to_three_feet</th>\n",
       "      <th>field_goal_percentage</th>\n",
       "      <th>field_goals</th>\n",
       "      <th>free_throw_attempt_rate</th>\n",
       "      <th>free_throw_attempts</th>\n",
       "      <th>free_throw_percentage</th>\n",
       "      <th>free_throws</th>\n",
       "      <th>games_played</th>\n",
       "      <th>games_started</th>\n",
       "      <th>half_court_heaves</th>\n",
       "      <th>half_court_heaves_made</th>\n",
       "      <th>height</th>\n",
       "      <th>lost_ball_turnovers</th>\n",
       "      <th>minutes_played</th>\n",
       "      <th>nationality</th>\n",
       "      <th>net_plus_minus</th>\n",
       "      <th>offensive_box_plus_minus</th>\n",
       "      <th>offensive_fouls</th>\n",
       "      <th>offensive_rebound_percentage</th>\n",
       "      <th>offensive_rebounds</th>\n",
       "      <th>offensive_win_shares</th>\n",
       "      <th>on_court_plus_minus</th>\n",
       "      <th>other_turnovers</th>\n",
       "      <th>passing_turnovers</th>\n",
       "      <th>percentage_field_goals_as_dunks</th>\n",
       "      <th>percentage_of_three_pointers_from_corner</th>\n",
       "      <th>percentage_shots_three_pointers</th>\n",
       "      <th>percentage_shots_two_pointers</th>\n",
       "      <th>percentage_sixteen_foot_plus_two_pointers</th>\n",
       "      <th>percentage_ten_to_sixteen_footers</th>\n",
       "      <th>percentage_three_to_ten_footers</th>\n",
       "      <th>percentage_zero_to_three_footers</th>\n",
       "      <th>personal_fouls</th>\n",
       "      <th>player_efficiency_rating</th>\n",
       "      <th>player_id</th>\n",
       "      <th>point_guard_percentage</th>\n",
       "      <th>points</th>\n",
       "      <th>points_generated_by_assists</th>\n",
       "      <th>position</th>\n",
       "      <th>power_forward_percentage</th>\n",
       "      <th>salary</th>\n",
       "      <th>shooting_distance</th>\n",
       "      <th>shooting_fouls</th>\n",
       "      <th>shooting_fouls_drawn</th>\n",
       "      <th>shooting_guard_percentage</th>\n",
       "      <th>shots_blocked</th>\n",
       "      <th>small_forward_percentage</th>\n",
       "      <th>steal_percentage</th>\n",
       "      <th>steals</th>\n",
       "      <th>take_fouls</th>\n",
       "      <th>team_abbreviation</th>\n",
       "      <th>three_point_attempt_rate</th>\n",
       "      <th>three_point_attempts</th>\n",
       "      <th>three_point_percentage</th>\n",
       "      <th>three_point_shot_percentage_from_corner</th>\n",
       "      <th>three_pointers</th>\n",
       "      <th>three_pointers_assisted_percentage</th>\n",
       "      <th>total_rebound_percentage</th>\n",
       "      <th>total_rebounds</th>\n",
       "      <th>true_shooting_percentage</th>\n",
       "      <th>turnover_percentage</th>\n",
       "      <th>turnovers</th>\n",
       "      <th>two_point_attempts</th>\n",
       "      <th>two_point_percentage</th>\n",
       "      <th>two_pointers</th>\n",
       "      <th>two_pointers_assisted_percentage</th>\n",
       "      <th>usage_percentage</th>\n",
       "      <th>value_over_replacement_player</th>\n",
       "      <th>weight</th>\n",
       "      <th>win_shares</th>\n",
       "      <th>win_shares_per_48_minutes</th>\n",
       "      <th>player_name</th>\n",
       "      <th>player_season_number</th>\n",
       "      <th>birth_date</th>\n",
       "      <th>age</th>\n",
       "    </tr>\n",
       "  </thead>\n",
       "  <tbody>\n",
       "    <tr>\n",
       "      <th>0</th>\n",
       "      <td>1976</td>\n",
       "      <td>NaN</td>\n",
       "      <td>0.104</td>\n",
       "      <td>4.0</td>\n",
       "      <td>0.000</td>\n",
       "      <td>NaN</td>\n",
       "      <td>0.0</td>\n",
       "      <td>-12.2</td>\n",
       "      <td>0.0</td>\n",
       "      <td>-6.2</td>\n",
       "      <td>0.114</td>\n",
       "      <td>7.0</td>\n",
       "      <td>0.0</td>\n",
       "      <td>NaN</td>\n",
       "      <td>NaN</td>\n",
       "      <td>46.0</td>\n",
       "      <td>NaN</td>\n",
       "      <td>NaN</td>\n",
       "      <td>NaN</td>\n",
       "      <td>NaN</td>\n",
       "      <td>0.370</td>\n",
       "      <td>17.0</td>\n",
       "      <td>0.065</td>\n",
       "      <td>3.0</td>\n",
       "      <td>1.000</td>\n",
       "      <td>3.0</td>\n",
       "      <td>13.0</td>\n",
       "      <td>NaN</td>\n",
       "      <td>NaN</td>\n",
       "      <td>NaN</td>\n",
       "      <td>74</td>\n",
       "      <td>NaN</td>\n",
       "      <td>64.0</td>\n",
       "      <td>United States of America</td>\n",
       "      <td>NaN</td>\n",
       "      <td>-6.0</td>\n",
       "      <td>NaN</td>\n",
       "      <td>0.016</td>\n",
       "      <td>1.0</td>\n",
       "      <td>-0.2</td>\n",
       "      <td>NaN</td>\n",
       "      <td>NaN</td>\n",
       "      <td>NaN</td>\n",
       "      <td>NaN</td>\n",
       "      <td>NaN</td>\n",
       "      <td>NaN</td>\n",
       "      <td>NaN</td>\n",
       "      <td>NaN</td>\n",
       "      <td>NaN</td>\n",
       "      <td>NaN</td>\n",
       "      <td>NaN</td>\n",
       "      <td>18.0</td>\n",
       "      <td>7.3</td>\n",
       "      <td>mayfike01</td>\n",
       "      <td>0.0</td>\n",
       "      <td>37.0</td>\n",
       "      <td>NaN</td>\n",
       "      <td>SG</td>\n",
       "      <td>0.0</td>\n",
       "      <td>NaN</td>\n",
       "      <td>NaN</td>\n",
       "      <td>NaN</td>\n",
       "      <td>NaN</td>\n",
       "      <td>0.0</td>\n",
       "      <td>NaN</td>\n",
       "      <td>0.0</td>\n",
       "      <td>0.000</td>\n",
       "      <td>0.0</td>\n",
       "      <td>NaN</td>\n",
       "      <td>NYK</td>\n",
       "      <td>NaN</td>\n",
       "      <td>NaN</td>\n",
       "      <td>NaN</td>\n",
       "      <td>NaN</td>\n",
       "      <td>NaN</td>\n",
       "      <td>NaN</td>\n",
       "      <td>0.064</td>\n",
       "      <td>8.0</td>\n",
       "      <td>0.391</td>\n",
       "      <td>NaN</td>\n",
       "      <td>NaN</td>\n",
       "      <td>NaN</td>\n",
       "      <td>NaN</td>\n",
       "      <td>NaN</td>\n",
       "      <td>NaN</td>\n",
       "      <td>NaN</td>\n",
       "      <td>-0.2</td>\n",
       "      <td>185</td>\n",
       "      <td>-0.2</td>\n",
       "      <td>-0.134</td>\n",
       "      <td>Ken Mayfield</td>\n",
       "      <td>1</td>\n",
       "      <td>1948-05-11</td>\n",
       "      <td>27.641909</td>\n",
       "    </tr>\n",
       "    <tr>\n",
       "      <th>1</th>\n",
       "      <td>2006</td>\n",
       "      <td>NaN</td>\n",
       "      <td>0.052</td>\n",
       "      <td>63.0</td>\n",
       "      <td>0.009</td>\n",
       "      <td>NaN</td>\n",
       "      <td>24.0</td>\n",
       "      <td>-3.7</td>\n",
       "      <td>0.0</td>\n",
       "      <td>-1.9</td>\n",
       "      <td>0.165</td>\n",
       "      <td>261.0</td>\n",
       "      <td>0.7</td>\n",
       "      <td>47.0</td>\n",
       "      <td>0.455</td>\n",
       "      <td>531.0</td>\n",
       "      <td>0.395</td>\n",
       "      <td>0.314</td>\n",
       "      <td>0.152</td>\n",
       "      <td>0.610</td>\n",
       "      <td>0.443</td>\n",
       "      <td>235.0</td>\n",
       "      <td>0.476</td>\n",
       "      <td>253.0</td>\n",
       "      <td>0.747</td>\n",
       "      <td>189.0</td>\n",
       "      <td>79.0</td>\n",
       "      <td>7.0</td>\n",
       "      <td>0.0</td>\n",
       "      <td>0.0</td>\n",
       "      <td>81</td>\n",
       "      <td>NaN</td>\n",
       "      <td>1952.0</td>\n",
       "      <td>United States of America</td>\n",
       "      <td>NaN</td>\n",
       "      <td>-1.7</td>\n",
       "      <td>NaN</td>\n",
       "      <td>0.073</td>\n",
       "      <td>122.0</td>\n",
       "      <td>2.1</td>\n",
       "      <td>NaN</td>\n",
       "      <td>NaN</td>\n",
       "      <td>NaN</td>\n",
       "      <td>0.100</td>\n",
       "      <td>0.208</td>\n",
       "      <td>0.100</td>\n",
       "      <td>0.900</td>\n",
       "      <td>0.386</td>\n",
       "      <td>0.066</td>\n",
       "      <td>0.062</td>\n",
       "      <td>0.386</td>\n",
       "      <td>227.0</td>\n",
       "      <td>12.2</td>\n",
       "      <td>willima02</td>\n",
       "      <td>0.0</td>\n",
       "      <td>672.0</td>\n",
       "      <td>NaN</td>\n",
       "      <td>PF</td>\n",
       "      <td>0.0</td>\n",
       "      <td>3883560.0</td>\n",
       "      <td>11.3</td>\n",
       "      <td>NaN</td>\n",
       "      <td>NaN</td>\n",
       "      <td>0.0</td>\n",
       "      <td>NaN</td>\n",
       "      <td>0.0</td>\n",
       "      <td>0.013</td>\n",
       "      <td>48.0</td>\n",
       "      <td>NaN</td>\n",
       "      <td>ATL</td>\n",
       "      <td>0.100</td>\n",
       "      <td>53.0</td>\n",
       "      <td>0.245</td>\n",
       "      <td>0.000</td>\n",
       "      <td>13.0</td>\n",
       "      <td>0.923</td>\n",
       "      <td>0.118</td>\n",
       "      <td>383.0</td>\n",
       "      <td>0.523</td>\n",
       "      <td>0.114</td>\n",
       "      <td>83.0</td>\n",
       "      <td>478.0</td>\n",
       "      <td>0.464</td>\n",
       "      <td>222.0</td>\n",
       "      <td>0.725</td>\n",
       "      <td>0.169</td>\n",
       "      <td>-0.8</td>\n",
       "      <td>237</td>\n",
       "      <td>2.8</td>\n",
       "      <td>0.069</td>\n",
       "      <td>Marvin Williams</td>\n",
       "      <td>1</td>\n",
       "      <td>1986-06-19</td>\n",
       "      <td>19.537704</td>\n",
       "    </tr>\n",
       "    <tr>\n",
       "      <th>2</th>\n",
       "      <td>2007</td>\n",
       "      <td>NaN</td>\n",
       "      <td>0.097</td>\n",
       "      <td>121.0</td>\n",
       "      <td>0.011</td>\n",
       "      <td>NaN</td>\n",
       "      <td>30.0</td>\n",
       "      <td>-2.7</td>\n",
       "      <td>0.0</td>\n",
       "      <td>-0.7</td>\n",
       "      <td>0.142</td>\n",
       "      <td>253.0</td>\n",
       "      <td>1.4</td>\n",
       "      <td>25.0</td>\n",
       "      <td>0.441</td>\n",
       "      <td>706.0</td>\n",
       "      <td>0.427</td>\n",
       "      <td>0.370</td>\n",
       "      <td>0.484</td>\n",
       "      <td>0.485</td>\n",
       "      <td>0.433</td>\n",
       "      <td>306.0</td>\n",
       "      <td>0.375</td>\n",
       "      <td>265.0</td>\n",
       "      <td>0.815</td>\n",
       "      <td>216.0</td>\n",
       "      <td>64.0</td>\n",
       "      <td>63.0</td>\n",
       "      <td>0.0</td>\n",
       "      <td>0.0</td>\n",
       "      <td>81</td>\n",
       "      <td>NaN</td>\n",
       "      <td>2179.0</td>\n",
       "      <td>United States of America</td>\n",
       "      <td>NaN</td>\n",
       "      <td>-2.0</td>\n",
       "      <td>NaN</td>\n",
       "      <td>0.046</td>\n",
       "      <td>84.0</td>\n",
       "      <td>0.9</td>\n",
       "      <td>NaN</td>\n",
       "      <td>NaN</td>\n",
       "      <td>NaN</td>\n",
       "      <td>0.044</td>\n",
       "      <td>0.222</td>\n",
       "      <td>0.064</td>\n",
       "      <td>0.936</td>\n",
       "      <td>0.477</td>\n",
       "      <td>0.076</td>\n",
       "      <td>0.091</td>\n",
       "      <td>0.292</td>\n",
       "      <td>191.0</td>\n",
       "      <td>12.2</td>\n",
       "      <td>willima02</td>\n",
       "      <td>0.0</td>\n",
       "      <td>839.0</td>\n",
       "      <td>NaN</td>\n",
       "      <td>PF</td>\n",
       "      <td>0.0</td>\n",
       "      <td>4174800.0</td>\n",
       "      <td>12.5</td>\n",
       "      <td>NaN</td>\n",
       "      <td>NaN</td>\n",
       "      <td>0.0</td>\n",
       "      <td>NaN</td>\n",
       "      <td>0.0</td>\n",
       "      <td>0.013</td>\n",
       "      <td>52.0</td>\n",
       "      <td>NaN</td>\n",
       "      <td>ATL</td>\n",
       "      <td>0.064</td>\n",
       "      <td>45.0</td>\n",
       "      <td>0.244</td>\n",
       "      <td>0.300</td>\n",
       "      <td>11.0</td>\n",
       "      <td>0.909</td>\n",
       "      <td>0.093</td>\n",
       "      <td>337.0</td>\n",
       "      <td>0.510</td>\n",
       "      <td>0.134</td>\n",
       "      <td>127.0</td>\n",
       "      <td>661.0</td>\n",
       "      <td>0.446</td>\n",
       "      <td>295.0</td>\n",
       "      <td>0.756</td>\n",
       "      <td>0.200</td>\n",
       "      <td>-0.4</td>\n",
       "      <td>237</td>\n",
       "      <td>2.3</td>\n",
       "      <td>0.051</td>\n",
       "      <td>Marvin Williams</td>\n",
       "      <td>2</td>\n",
       "      <td>1986-06-19</td>\n",
       "      <td>20.537040</td>\n",
       "    </tr>\n",
       "    <tr>\n",
       "      <th>3</th>\n",
       "      <td>2008</td>\n",
       "      <td>NaN</td>\n",
       "      <td>0.083</td>\n",
       "      <td>137.0</td>\n",
       "      <td>0.009</td>\n",
       "      <td>NaN</td>\n",
       "      <td>33.0</td>\n",
       "      <td>-1.6</td>\n",
       "      <td>0.0</td>\n",
       "      <td>-0.6</td>\n",
       "      <td>0.142</td>\n",
       "      <td>338.0</td>\n",
       "      <td>2.1</td>\n",
       "      <td>72.0</td>\n",
       "      <td>0.462</td>\n",
       "      <td>918.0</td>\n",
       "      <td>0.454</td>\n",
       "      <td>0.288</td>\n",
       "      <td>0.393</td>\n",
       "      <td>0.586</td>\n",
       "      <td>0.462</td>\n",
       "      <td>424.0</td>\n",
       "      <td>0.446</td>\n",
       "      <td>409.0</td>\n",
       "      <td>0.822</td>\n",
       "      <td>336.0</td>\n",
       "      <td>80.0</td>\n",
       "      <td>80.0</td>\n",
       "      <td>1.0</td>\n",
       "      <td>0.0</td>\n",
       "      <td>81</td>\n",
       "      <td>NaN</td>\n",
       "      <td>2765.0</td>\n",
       "      <td>United States of America</td>\n",
       "      <td>NaN</td>\n",
       "      <td>-1.0</td>\n",
       "      <td>NaN</td>\n",
       "      <td>0.050</td>\n",
       "      <td>119.0</td>\n",
       "      <td>3.6</td>\n",
       "      <td>NaN</td>\n",
       "      <td>NaN</td>\n",
       "      <td>NaN</td>\n",
       "      <td>0.087</td>\n",
       "      <td>0.500</td>\n",
       "      <td>0.011</td>\n",
       "      <td>0.989</td>\n",
       "      <td>0.475</td>\n",
       "      <td>0.113</td>\n",
       "      <td>0.117</td>\n",
       "      <td>0.284</td>\n",
       "      <td>225.0</td>\n",
       "      <td>14.5</td>\n",
       "      <td>willima02</td>\n",
       "      <td>0.0</td>\n",
       "      <td>1185.0</td>\n",
       "      <td>NaN</td>\n",
       "      <td>PF</td>\n",
       "      <td>0.0</td>\n",
       "      <td>4466040.0</td>\n",
       "      <td>11.6</td>\n",
       "      <td>NaN</td>\n",
       "      <td>NaN</td>\n",
       "      <td>0.0</td>\n",
       "      <td>NaN</td>\n",
       "      <td>0.0</td>\n",
       "      <td>0.015</td>\n",
       "      <td>81.0</td>\n",
       "      <td>NaN</td>\n",
       "      <td>ATL</td>\n",
       "      <td>0.011</td>\n",
       "      <td>10.0</td>\n",
       "      <td>0.100</td>\n",
       "      <td>0.000</td>\n",
       "      <td>1.0</td>\n",
       "      <td>1.000</td>\n",
       "      <td>0.096</td>\n",
       "      <td>457.0</td>\n",
       "      <td>0.540</td>\n",
       "      <td>0.104</td>\n",
       "      <td>127.0</td>\n",
       "      <td>908.0</td>\n",
       "      <td>0.466</td>\n",
       "      <td>423.0</td>\n",
       "      <td>0.754</td>\n",
       "      <td>0.201</td>\n",
       "      <td>0.3</td>\n",
       "      <td>237</td>\n",
       "      <td>5.7</td>\n",
       "      <td>0.099</td>\n",
       "      <td>Marvin Williams</td>\n",
       "      <td>3</td>\n",
       "      <td>1986-06-19</td>\n",
       "      <td>21.536377</td>\n",
       "    </tr>\n",
       "    <tr>\n",
       "      <th>4</th>\n",
       "      <td>2009</td>\n",
       "      <td>NaN</td>\n",
       "      <td>0.063</td>\n",
       "      <td>81.0</td>\n",
       "      <td>0.014</td>\n",
       "      <td>NaN</td>\n",
       "      <td>39.0</td>\n",
       "      <td>0.9</td>\n",
       "      <td>0.0</td>\n",
       "      <td>0.1</td>\n",
       "      <td>0.152</td>\n",
       "      <td>272.0</td>\n",
       "      <td>2.2</td>\n",
       "      <td>33.0</td>\n",
       "      <td>0.502</td>\n",
       "      <td>622.0</td>\n",
       "      <td>0.443</td>\n",
       "      <td>0.311</td>\n",
       "      <td>0.504</td>\n",
       "      <td>0.580</td>\n",
       "      <td>0.458</td>\n",
       "      <td>285.0</td>\n",
       "      <td>0.439</td>\n",
       "      <td>273.0</td>\n",
       "      <td>0.806</td>\n",
       "      <td>220.0</td>\n",
       "      <td>61.0</td>\n",
       "      <td>59.0</td>\n",
       "      <td>1.0</td>\n",
       "      <td>0.0</td>\n",
       "      <td>81</td>\n",
       "      <td>NaN</td>\n",
       "      <td>2093.0</td>\n",
       "      <td>United States of America</td>\n",
       "      <td>NaN</td>\n",
       "      <td>0.8</td>\n",
       "      <td>NaN</td>\n",
       "      <td>0.062</td>\n",
       "      <td>110.0</td>\n",
       "      <td>3.9</td>\n",
       "      <td>NaN</td>\n",
       "      <td>NaN</td>\n",
       "      <td>NaN</td>\n",
       "      <td>0.058</td>\n",
       "      <td>0.490</td>\n",
       "      <td>0.249</td>\n",
       "      <td>0.751</td>\n",
       "      <td>0.185</td>\n",
       "      <td>0.098</td>\n",
       "      <td>0.188</td>\n",
       "      <td>0.280</td>\n",
       "      <td>127.0</td>\n",
       "      <td>16.0</td>\n",
       "      <td>willima02</td>\n",
       "      <td>0.0</td>\n",
       "      <td>845.0</td>\n",
       "      <td>NaN</td>\n",
       "      <td>PF</td>\n",
       "      <td>0.0</td>\n",
       "      <td>5636143.0</td>\n",
       "      <td>12.4</td>\n",
       "      <td>NaN</td>\n",
       "      <td>NaN</td>\n",
       "      <td>0.0</td>\n",
       "      <td>NaN</td>\n",
       "      <td>0.0</td>\n",
       "      <td>0.015</td>\n",
       "      <td>57.0</td>\n",
       "      <td>NaN</td>\n",
       "      <td>ATL</td>\n",
       "      <td>0.249</td>\n",
       "      <td>155.0</td>\n",
       "      <td>0.355</td>\n",
       "      <td>0.368</td>\n",
       "      <td>55.0</td>\n",
       "      <td>0.964</td>\n",
       "      <td>0.107</td>\n",
       "      <td>382.0</td>\n",
       "      <td>0.569</td>\n",
       "      <td>0.086</td>\n",
       "      <td>70.0</td>\n",
       "      <td>467.0</td>\n",
       "      <td>0.493</td>\n",
       "      <td>230.0</td>\n",
       "      <td>0.613</td>\n",
       "      <td>0.182</td>\n",
       "      <td>1.5</td>\n",
       "      <td>237</td>\n",
       "      <td>6.1</td>\n",
       "      <td>0.140</td>\n",
       "      <td>Marvin Williams</td>\n",
       "      <td>4</td>\n",
       "      <td>1986-06-19</td>\n",
       "      <td>22.538450</td>\n",
       "    </tr>\n",
       "  </tbody>\n",
       "</table>\n",
       "</div>"
      ],
      "text/plain": [
       "   season  and_ones  assist_percentage  assists  block_percentage  \\\n",
       "0    1976       NaN              0.104      4.0             0.000   \n",
       "1    2006       NaN              0.052     63.0             0.009   \n",
       "2    2007       NaN              0.097    121.0             0.011   \n",
       "3    2008       NaN              0.083    137.0             0.009   \n",
       "4    2009       NaN              0.063     81.0             0.014   \n",
       "\n",
       "   blocking_fouls  blocks  box_plus_minus  center_percentage  \\\n",
       "0             NaN     0.0           -12.2                0.0   \n",
       "1             NaN    24.0            -3.7                0.0   \n",
       "2             NaN    30.0            -2.7                0.0   \n",
       "3             NaN    33.0            -1.6                0.0   \n",
       "4             NaN    39.0             0.9                0.0   \n",
       "\n",
       "   defensive_box_plus_minus  defensive_rebound_percentage  defensive_rebounds  \\\n",
       "0                      -6.2                         0.114                 7.0   \n",
       "1                      -1.9                         0.165               261.0   \n",
       "2                      -0.7                         0.142               253.0   \n",
       "3                      -0.6                         0.142               338.0   \n",
       "4                       0.1                         0.152               272.0   \n",
       "\n",
       "   defensive_win_shares  dunks  effective_field_goal_percentage  \\\n",
       "0                   0.0    NaN                              NaN   \n",
       "1                   0.7   47.0                            0.455   \n",
       "2                   1.4   25.0                            0.441   \n",
       "3                   2.1   72.0                            0.462   \n",
       "4                   2.2   33.0                            0.502   \n",
       "\n",
       "   field_goal_attempts  field_goal_perc_sixteen_foot_plus_two_pointers  \\\n",
       "0                 46.0                                             NaN   \n",
       "1                531.0                                           0.395   \n",
       "2                706.0                                           0.427   \n",
       "3                918.0                                           0.454   \n",
       "4                622.0                                           0.443   \n",
       "\n",
       "   field_goal_perc_ten_to_sixteen_feet  field_goal_perc_three_to_ten_feet  \\\n",
       "0                                  NaN                                NaN   \n",
       "1                                0.314                              0.152   \n",
       "2                                0.370                              0.484   \n",
       "3                                0.288                              0.393   \n",
       "4                                0.311                              0.504   \n",
       "\n",
       "   field_goal_perc_zero_to_three_feet  field_goal_percentage  field_goals  \\\n",
       "0                                 NaN                  0.370         17.0   \n",
       "1                               0.610                  0.443        235.0   \n",
       "2                               0.485                  0.433        306.0   \n",
       "3                               0.586                  0.462        424.0   \n",
       "4                               0.580                  0.458        285.0   \n",
       "\n",
       "   free_throw_attempt_rate  free_throw_attempts  free_throw_percentage  \\\n",
       "0                    0.065                  3.0                  1.000   \n",
       "1                    0.476                253.0                  0.747   \n",
       "2                    0.375                265.0                  0.815   \n",
       "3                    0.446                409.0                  0.822   \n",
       "4                    0.439                273.0                  0.806   \n",
       "\n",
       "   free_throws  games_played  games_started  half_court_heaves  \\\n",
       "0          3.0          13.0            NaN                NaN   \n",
       "1        189.0          79.0            7.0                0.0   \n",
       "2        216.0          64.0           63.0                0.0   \n",
       "3        336.0          80.0           80.0                1.0   \n",
       "4        220.0          61.0           59.0                1.0   \n",
       "\n",
       "   half_court_heaves_made  height  lost_ball_turnovers  minutes_played  \\\n",
       "0                     NaN      74                  NaN            64.0   \n",
       "1                     0.0      81                  NaN          1952.0   \n",
       "2                     0.0      81                  NaN          2179.0   \n",
       "3                     0.0      81                  NaN          2765.0   \n",
       "4                     0.0      81                  NaN          2093.0   \n",
       "\n",
       "                nationality  net_plus_minus  offensive_box_plus_minus  \\\n",
       "0  United States of America             NaN                      -6.0   \n",
       "1  United States of America             NaN                      -1.7   \n",
       "2  United States of America             NaN                      -2.0   \n",
       "3  United States of America             NaN                      -1.0   \n",
       "4  United States of America             NaN                       0.8   \n",
       "\n",
       "   offensive_fouls  offensive_rebound_percentage  offensive_rebounds  \\\n",
       "0              NaN                         0.016                 1.0   \n",
       "1              NaN                         0.073               122.0   \n",
       "2              NaN                         0.046                84.0   \n",
       "3              NaN                         0.050               119.0   \n",
       "4              NaN                         0.062               110.0   \n",
       "\n",
       "   offensive_win_shares  on_court_plus_minus  other_turnovers  \\\n",
       "0                  -0.2                  NaN              NaN   \n",
       "1                   2.1                  NaN              NaN   \n",
       "2                   0.9                  NaN              NaN   \n",
       "3                   3.6                  NaN              NaN   \n",
       "4                   3.9                  NaN              NaN   \n",
       "\n",
       "   passing_turnovers  percentage_field_goals_as_dunks  \\\n",
       "0                NaN                              NaN   \n",
       "1                NaN                            0.100   \n",
       "2                NaN                            0.044   \n",
       "3                NaN                            0.087   \n",
       "4                NaN                            0.058   \n",
       "\n",
       "   percentage_of_three_pointers_from_corner  percentage_shots_three_pointers  \\\n",
       "0                                       NaN                              NaN   \n",
       "1                                     0.208                            0.100   \n",
       "2                                     0.222                            0.064   \n",
       "3                                     0.500                            0.011   \n",
       "4                                     0.490                            0.249   \n",
       "\n",
       "   percentage_shots_two_pointers  percentage_sixteen_foot_plus_two_pointers  \\\n",
       "0                            NaN                                        NaN   \n",
       "1                          0.900                                      0.386   \n",
       "2                          0.936                                      0.477   \n",
       "3                          0.989                                      0.475   \n",
       "4                          0.751                                      0.185   \n",
       "\n",
       "   percentage_ten_to_sixteen_footers  percentage_three_to_ten_footers  \\\n",
       "0                                NaN                              NaN   \n",
       "1                              0.066                            0.062   \n",
       "2                              0.076                            0.091   \n",
       "3                              0.113                            0.117   \n",
       "4                              0.098                            0.188   \n",
       "\n",
       "   percentage_zero_to_three_footers  personal_fouls  player_efficiency_rating  \\\n",
       "0                               NaN            18.0                       7.3   \n",
       "1                             0.386           227.0                      12.2   \n",
       "2                             0.292           191.0                      12.2   \n",
       "3                             0.284           225.0                      14.5   \n",
       "4                             0.280           127.0                      16.0   \n",
       "\n",
       "   player_id  point_guard_percentage  points  points_generated_by_assists  \\\n",
       "0  mayfike01                     0.0    37.0                          NaN   \n",
       "1  willima02                     0.0   672.0                          NaN   \n",
       "2  willima02                     0.0   839.0                          NaN   \n",
       "3  willima02                     0.0  1185.0                          NaN   \n",
       "4  willima02                     0.0   845.0                          NaN   \n",
       "\n",
       "  position  power_forward_percentage     salary  shooting_distance  \\\n",
       "0       SG                       0.0        NaN                NaN   \n",
       "1       PF                       0.0  3883560.0               11.3   \n",
       "2       PF                       0.0  4174800.0               12.5   \n",
       "3       PF                       0.0  4466040.0               11.6   \n",
       "4       PF                       0.0  5636143.0               12.4   \n",
       "\n",
       "   shooting_fouls  shooting_fouls_drawn  shooting_guard_percentage  \\\n",
       "0             NaN                   NaN                        0.0   \n",
       "1             NaN                   NaN                        0.0   \n",
       "2             NaN                   NaN                        0.0   \n",
       "3             NaN                   NaN                        0.0   \n",
       "4             NaN                   NaN                        0.0   \n",
       "\n",
       "   shots_blocked  small_forward_percentage  steal_percentage  steals  \\\n",
       "0            NaN                       0.0             0.000     0.0   \n",
       "1            NaN                       0.0             0.013    48.0   \n",
       "2            NaN                       0.0             0.013    52.0   \n",
       "3            NaN                       0.0             0.015    81.0   \n",
       "4            NaN                       0.0             0.015    57.0   \n",
       "\n",
       "   take_fouls team_abbreviation  three_point_attempt_rate  \\\n",
       "0         NaN               NYK                       NaN   \n",
       "1         NaN               ATL                     0.100   \n",
       "2         NaN               ATL                     0.064   \n",
       "3         NaN               ATL                     0.011   \n",
       "4         NaN               ATL                     0.249   \n",
       "\n",
       "   three_point_attempts  three_point_percentage  \\\n",
       "0                   NaN                     NaN   \n",
       "1                  53.0                   0.245   \n",
       "2                  45.0                   0.244   \n",
       "3                  10.0                   0.100   \n",
       "4                 155.0                   0.355   \n",
       "\n",
       "   three_point_shot_percentage_from_corner  three_pointers  \\\n",
       "0                                      NaN             NaN   \n",
       "1                                    0.000            13.0   \n",
       "2                                    0.300            11.0   \n",
       "3                                    0.000             1.0   \n",
       "4                                    0.368            55.0   \n",
       "\n",
       "   three_pointers_assisted_percentage  total_rebound_percentage  \\\n",
       "0                                 NaN                     0.064   \n",
       "1                               0.923                     0.118   \n",
       "2                               0.909                     0.093   \n",
       "3                               1.000                     0.096   \n",
       "4                               0.964                     0.107   \n",
       "\n",
       "   total_rebounds  true_shooting_percentage  turnover_percentage  turnovers  \\\n",
       "0             8.0                     0.391                  NaN        NaN   \n",
       "1           383.0                     0.523                0.114       83.0   \n",
       "2           337.0                     0.510                0.134      127.0   \n",
       "3           457.0                     0.540                0.104      127.0   \n",
       "4           382.0                     0.569                0.086       70.0   \n",
       "\n",
       "   two_point_attempts  two_point_percentage  two_pointers  \\\n",
       "0                 NaN                   NaN           NaN   \n",
       "1               478.0                 0.464         222.0   \n",
       "2               661.0                 0.446         295.0   \n",
       "3               908.0                 0.466         423.0   \n",
       "4               467.0                 0.493         230.0   \n",
       "\n",
       "   two_pointers_assisted_percentage  usage_percentage  \\\n",
       "0                               NaN               NaN   \n",
       "1                             0.725             0.169   \n",
       "2                             0.756             0.200   \n",
       "3                             0.754             0.201   \n",
       "4                             0.613             0.182   \n",
       "\n",
       "   value_over_replacement_player  weight  win_shares  \\\n",
       "0                           -0.2     185        -0.2   \n",
       "1                           -0.8     237         2.8   \n",
       "2                           -0.4     237         2.3   \n",
       "3                            0.3     237         5.7   \n",
       "4                            1.5     237         6.1   \n",
       "\n",
       "   win_shares_per_48_minutes      player_name  player_season_number  \\\n",
       "0                     -0.134     Ken Mayfield                     1   \n",
       "1                      0.069  Marvin Williams                     1   \n",
       "2                      0.051  Marvin Williams                     2   \n",
       "3                      0.099  Marvin Williams                     3   \n",
       "4                      0.140  Marvin Williams                     4   \n",
       "\n",
       "   birth_date        age  \n",
       "0  1948-05-11  27.641909  \n",
       "1  1986-06-19  19.537704  \n",
       "2  1986-06-19  20.537040  \n",
       "3  1986-06-19  21.536377  \n",
       "4  1986-06-19  22.538450  "
      ]
     },
     "execution_count": 20,
     "metadata": {},
     "output_type": "execute_result"
    }
   ],
   "source": [
    "career.head()"
   ]
  },
  {
   "cell_type": "code",
   "execution_count": 21,
   "metadata": {
    "ExecuteTime": {
     "end_time": "2019-08-25T20:18:56.065917Z",
     "start_time": "2019-08-25T20:18:55.185272Z"
    }
   },
   "outputs": [],
   "source": [
    "data = data.merge(career[['player_id','season','player_name','birth_date']],on=['player_id','season'],how='left')"
   ]
  },
  {
   "cell_type": "code",
   "execution_count": 22,
   "metadata": {
    "ExecuteTime": {
     "end_time": "2019-08-25T20:18:56.749093Z",
     "start_time": "2019-08-25T20:18:56.068908Z"
    }
   },
   "outputs": [],
   "source": [
    "adv = pd.read_csv('../Data/nba_advanced_boxscores.csv')"
   ]
  },
  {
   "cell_type": "code",
   "execution_count": 23,
   "metadata": {
    "ExecuteTime": {
     "end_time": "2019-08-25T20:18:57.640703Z",
     "start_time": "2019-08-25T20:18:56.752082Z"
    }
   },
   "outputs": [],
   "source": [
    "data = data.merge(adv[['boxscore','date']],on='boxscore',how='left')"
   ]
  },
  {
   "cell_type": "markdown",
   "metadata": {},
   "source": [
    "Extract game dates from the boxscore data into a separate list in datetime"
   ]
  },
  {
   "cell_type": "code",
   "execution_count": 24,
   "metadata": {
    "ExecuteTime": {
     "end_time": "2019-08-25T20:19:15.766462Z",
     "start_time": "2019-08-25T20:18:57.644696Z"
    }
   },
   "outputs": [],
   "source": [
    "bs = []\n",
    "game_dates = []\n",
    "for box in data.boxscore.unique():\n",
    "    bs.append(box)\n",
    "    yr = box[:4]\n",
    "    mn = box[4:6]\n",
    "    dy = box[6:-4]\n",
    "    date = '{}/{}/{}'.format(mn,dy,yr)\n",
    "    date = pd.to_datetime(date)\n",
    "    game_dates.append(date)"
   ]
  },
  {
   "cell_type": "markdown",
   "metadata": {},
   "source": [
    "Append game dates into original boxscores dataframe"
   ]
  },
  {
   "cell_type": "code",
   "execution_count": 25,
   "metadata": {
    "ExecuteTime": {
     "end_time": "2019-08-25T20:19:15.813018Z",
     "start_time": "2019-08-25T20:19:15.769124Z"
    }
   },
   "outputs": [],
   "source": [
    "new_game_dates = pd.DataFrame({'boxscore':bs,\n",
    "                              'date':game_dates})"
   ]
  },
  {
   "cell_type": "code",
   "execution_count": 26,
   "metadata": {
    "ExecuteTime": {
     "end_time": "2019-08-25T20:19:18.369167Z",
     "start_time": "2019-08-25T20:19:15.815996Z"
    }
   },
   "outputs": [],
   "source": [
    "data = data.merge(new_game_dates,on=['boxscore']).drop(columns=['date_x']).rename(columns={'date_y':'date'})"
   ]
  },
  {
   "cell_type": "markdown",
   "metadata": {},
   "source": [
    "Convert player's birth date into datetime "
   ]
  },
  {
   "cell_type": "code",
   "execution_count": 27,
   "metadata": {
    "ExecuteTime": {
     "end_time": "2019-08-25T20:19:19.643761Z",
     "start_time": "2019-08-25T20:19:18.372161Z"
    }
   },
   "outputs": [],
   "source": [
    "data.birth_date = pd.to_datetime(data.birth_date)"
   ]
  },
  {
   "cell_type": "markdown",
   "metadata": {},
   "source": [
    "Take date and birthday of the player in order to calculate player's age for specific game date into a list"
   ]
  },
  {
   "cell_type": "code",
   "execution_count": 28,
   "metadata": {
    "ExecuteTime": {
     "end_time": "2019-08-25T20:19:59.555199Z",
     "start_time": "2019-08-25T20:19:19.646753Z"
    }
   },
   "outputs": [],
   "source": [
    "ages = []\n",
    "for game_date, bday in zip(data.date,data.birth_date):\n",
    "    age = (game_date - bday) / np.timedelta64(1,'Y')\n",
    "    ages.append(age)"
   ]
  },
  {
   "cell_type": "markdown",
   "metadata": {},
   "source": [
    "Save player age into the boxscore dataframe"
   ]
  },
  {
   "cell_type": "code",
   "execution_count": 29,
   "metadata": {
    "ExecuteTime": {
     "end_time": "2019-08-25T20:19:59.719449Z",
     "start_time": "2019-08-25T20:19:59.557846Z"
    }
   },
   "outputs": [],
   "source": [
    "data['age'] = ages"
   ]
  },
  {
   "cell_type": "markdown",
   "metadata": {},
   "source": [
    "Reorder columns for easier interpretation "
   ]
  },
  {
   "cell_type": "code",
   "execution_count": 30,
   "metadata": {
    "ExecuteTime": {
     "end_time": "2019-08-25T20:20:00.996033Z",
     "start_time": "2019-08-25T20:19:59.722402Z"
    }
   },
   "outputs": [],
   "source": [
    "data = data[['player_id','player_name','boxscore','date','season','team_abbr','assist_percentage','assists',\n",
    "             'block_percentage','blocks','box_plus_minus','defensive_rating','defensive_rebound_percentage',\n",
    "             'defensive_rebounds','effective_field_goal_percentage','field_goal_attempts','field_goal_percentage',\n",
    "             'field_goals','free_throw_attempt_rate','free_throw_attempts','free_throw_percentage','free_throws',\n",
    "             'minutes_played','offensive_rating','offensive_rebound_percentage','offensive_rebounds',\n",
    "             'personal_fouls','points','steal_percentage','steals','three_point_attempt_rate','three_point_attempts',\n",
    "             'three_point_percentage','three_pointers','total_rebound_percentage','total_rebounds',\n",
    "             'true_shooting_percentage','turnover_percentage','turnovers','two_point_attempts',\n",
    "             'two_point_percentage','two_pointers','usage_percentage','venue','birth_date','age']]"
   ]
  },
  {
   "cell_type": "markdown",
   "metadata": {},
   "source": [
    "convert percentages into decimal format"
   ]
  },
  {
   "cell_type": "code",
   "execution_count": 31,
   "metadata": {
    "ExecuteTime": {
     "end_time": "2019-08-25T20:20:01.236354Z",
     "start_time": "2019-08-25T20:20:00.998989Z"
    }
   },
   "outputs": [],
   "source": [
    "data.assist_percentage = data.assist_percentage / 100\n",
    "data.block_percentage = data.block_percentage / 100\n",
    "data.defensive_rebound_percentage = data.defensive_rebound_percentage / 100\n",
    "data.offensive_rebound_percentage = data.offensive_rebound_percentage / 100\n",
    "data.steal_percentage = data.steal_percentage / 100\n",
    "data.total_rebound_percentage = data.total_rebound_percentage / 100\n",
    "data.turnover_percentage = data.turnover_percentage / 100\n",
    "data.usage_percentage = data.usage_percentage / 100"
   ]
  },
  {
   "cell_type": "markdown",
   "metadata": {},
   "source": [
    "Order data in ascending order based on season and date"
   ]
  },
  {
   "cell_type": "code",
   "execution_count": 32,
   "metadata": {
    "ExecuteTime": {
     "end_time": "2019-08-25T20:20:01.988343Z",
     "start_time": "2019-08-25T20:20:01.239347Z"
    }
   },
   "outputs": [],
   "source": [
    "data = data.sort_values(by=['season','date'])"
   ]
  },
  {
   "cell_type": "markdown",
   "metadata": {},
   "source": [
    "Group data by `player` and `season` in order to describe how many games a player has currently played in a season, has currently played in his career, or has played for the current team he currently plays for"
   ]
  },
  {
   "cell_type": "code",
   "execution_count": 33,
   "metadata": {
    "ExecuteTime": {
     "end_time": "2019-08-25T20:20:04.480677Z",
     "start_time": "2019-08-25T20:20:01.990338Z"
    }
   },
   "outputs": [],
   "source": [
    "data['player_game_number_season'] = data.groupby(['player_id','season']).cumcount() + 1\n",
    "data['player_game_number_career'] = data.groupby(['player_id']).cumcount() + 1\n",
    "data['player_game_number_team'] = data.groupby(['player_id','team_abbr']).cumcount() + 1"
   ]
  },
  {
   "cell_type": "markdown",
   "metadata": {},
   "source": [
    "For each player, calculate how many days were in between each game he has played. If it is the first game of their career, then assume 150 days has passed between games (estimated time passed between last amateur and first professional game) "
   ]
  },
  {
   "cell_type": "code",
   "execution_count": 34,
   "metadata": {
    "ExecuteTime": {
     "end_time": "2019-08-25T20:29:14.691652Z",
     "start_time": "2019-08-25T20:20:04.483670Z"
    }
   },
   "outputs": [],
   "source": [
    "p_ids = []\n",
    "bx = []\n",
    "days = []\n",
    "for player in data.player_id.unique():\n",
    "    df = data.loc[data.player_id==player].reset_index(drop=True).sort_values(by='date')\n",
    "    for n in range(len(df)):\n",
    "        p_ids.append(player)\n",
    "        bx.append(df.boxscore[n])\n",
    "        if n == 0:\n",
    "            days.append(150)\n",
    "        else:\n",
    "            try:\n",
    "                days.append(round((df.date[n] - df.date[n-1])/np.timedelta64(1,'D')))\n",
    "            except:\n",
    "                days.append(-1)"
   ]
  },
  {
   "cell_type": "markdown",
   "metadata": {},
   "source": [
    "Save this new column `days since last game` to a dataframe"
   ]
  },
  {
   "cell_type": "code",
   "execution_count": 35,
   "metadata": {
    "ExecuteTime": {
     "end_time": "2019-08-25T20:29:15.319665Z",
     "start_time": "2019-08-25T20:29:14.694303Z"
    }
   },
   "outputs": [],
   "source": [
    "days_bw_games = pd.DataFrame({'player_id':p_ids,\n",
    "                             'boxscore':bx,\n",
    "                             'days_since_last_game':days})"
   ]
  },
  {
   "cell_type": "markdown",
   "metadata": {},
   "source": [
    "View the `days_bw_games` dataframe"
   ]
  },
  {
   "cell_type": "code",
   "execution_count": 36,
   "metadata": {
    "ExecuteTime": {
     "end_time": "2019-08-25T20:29:15.354537Z",
     "start_time": "2019-08-25T20:29:15.322618Z"
    }
   },
   "outputs": [
    {
     "data": {
      "text/html": [
       "<div>\n",
       "<style scoped>\n",
       "    .dataframe tbody tr th:only-of-type {\n",
       "        vertical-align: middle;\n",
       "    }\n",
       "\n",
       "    .dataframe tbody tr th {\n",
       "        vertical-align: top;\n",
       "    }\n",
       "\n",
       "    .dataframe thead th {\n",
       "        text-align: right;\n",
       "    }\n",
       "</style>\n",
       "<table border=\"1\" class=\"dataframe\">\n",
       "  <thead>\n",
       "    <tr style=\"text-align: right;\">\n",
       "      <th></th>\n",
       "      <th>player_id</th>\n",
       "      <th>boxscore</th>\n",
       "      <th>days_since_last_game</th>\n",
       "    </tr>\n",
       "  </thead>\n",
       "  <tbody>\n",
       "    <tr>\n",
       "      <th>0</th>\n",
       "      <td>mikange01</td>\n",
       "      <td>195310300MLH</td>\n",
       "      <td>150</td>\n",
       "    </tr>\n",
       "    <tr>\n",
       "      <th>1</th>\n",
       "      <td>mikange01</td>\n",
       "      <td>195310310NYK</td>\n",
       "      <td>1</td>\n",
       "    </tr>\n",
       "    <tr>\n",
       "      <th>2</th>\n",
       "      <td>mikange01</td>\n",
       "      <td>195311010BOS</td>\n",
       "      <td>1</td>\n",
       "    </tr>\n",
       "    <tr>\n",
       "      <th>3</th>\n",
       "      <td>mikange01</td>\n",
       "      <td>195311040BLB</td>\n",
       "      <td>3</td>\n",
       "    </tr>\n",
       "    <tr>\n",
       "      <th>4</th>\n",
       "      <td>mikange01</td>\n",
       "      <td>195311050SYR</td>\n",
       "      <td>1</td>\n",
       "    </tr>\n",
       "  </tbody>\n",
       "</table>\n",
       "</div>"
      ],
      "text/plain": [
       "   player_id      boxscore  days_since_last_game\n",
       "0  mikange01  195310300MLH                   150\n",
       "1  mikange01  195310310NYK                     1\n",
       "2  mikange01  195311010BOS                     1\n",
       "3  mikange01  195311040BLB                     3\n",
       "4  mikange01  195311050SYR                     1"
      ]
     },
     "execution_count": 36,
     "metadata": {},
     "output_type": "execute_result"
    }
   ],
   "source": [
    "days_bw_games.head()"
   ]
  },
  {
   "cell_type": "markdown",
   "metadata": {},
   "source": [
    "Merge `days_bw_games` into the boxscores (main) dataframe"
   ]
  },
  {
   "cell_type": "code",
   "execution_count": 37,
   "metadata": {
    "ExecuteTime": {
     "end_time": "2019-08-25T20:29:18.107212Z",
     "start_time": "2019-08-25T20:29:15.357527Z"
    }
   },
   "outputs": [],
   "source": [
    "data = data.merge(days_bw_games,on=['player_id','boxscore'])"
   ]
  },
  {
   "cell_type": "markdown",
   "metadata": {},
   "source": [
    "Change `venue` column from a text to a numerical value for easier processing"
   ]
  },
  {
   "cell_type": "code",
   "execution_count": 38,
   "metadata": {
    "ExecuteTime": {
     "end_time": "2019-08-25T20:29:18.786357Z",
     "start_time": "2019-08-25T20:29:18.114156Z"
    }
   },
   "outputs": [],
   "source": [
    "data.venue.replace('Away',0,inplace=True)\n",
    "data.venue.replace('Home',1,inplace=True)"
   ]
  },
  {
   "cell_type": "markdown",
   "metadata": {},
   "source": [
    "Rename data column from `venue` to `home_game` "
   ]
  },
  {
   "cell_type": "code",
   "execution_count": 39,
   "metadata": {
    "ExecuteTime": {
     "end_time": "2019-08-25T20:29:20.208554Z",
     "start_time": "2019-08-25T20:29:18.789351Z"
    }
   },
   "outputs": [],
   "source": [
    "data.rename(columns={'venue':'home_game'},inplace=True)"
   ]
  },
  {
   "cell_type": "markdown",
   "metadata": {},
   "source": [
    "Reorder the data frame "
   ]
  },
  {
   "cell_type": "code",
   "execution_count": 40,
   "metadata": {
    "ExecuteTime": {
     "end_time": "2019-08-25T20:29:21.058794Z",
     "start_time": "2019-08-25T20:29:20.217532Z"
    }
   },
   "outputs": [],
   "source": [
    "data = data[['player_id','player_name','boxscore','date','season','team_abbr','assist_percentage','assists',\n",
    "             'block_percentage','blocks','box_plus_minus','defensive_rating','defensive_rebound_percentage',\n",
    "             'defensive_rebounds','effective_field_goal_percentage','field_goal_attempts','field_goal_percentage',\n",
    "             'field_goals','free_throw_attempt_rate','free_throw_attempts','free_throw_percentage','free_throws',\n",
    "             'minutes_played','offensive_rating','offensive_rebound_percentage','offensive_rebounds',\n",
    "             'personal_fouls','points','steal_percentage','steals','three_point_attempt_rate','three_point_attempts',\n",
    "             'three_point_percentage','three_pointers','total_rebound_percentage','total_rebounds',\n",
    "             'true_shooting_percentage','turnover_percentage','turnovers','two_point_attempts',\n",
    "             'two_point_percentage','two_pointers','usage_percentage','home_game','birth_date','age',\n",
    "             'player_game_number_season','player_game_number_career','player_game_number_team','days_since_last_game']]"
   ]
  },
  {
   "cell_type": "markdown",
   "metadata": {},
   "source": [
    "Connect to the database"
   ]
  },
  {
   "cell_type": "code",
   "execution_count": 26,
   "metadata": {
    "ExecuteTime": {
     "end_time": "2019-08-25T20:29:21.169503Z",
     "start_time": "2019-08-25T20:29:21.064780Z"
    }
   },
   "outputs": [
    {
     "name": "stdout",
     "output_type": "stream",
     "text": [
      "········\n"
     ]
    }
   ],
   "source": [
    "mypasswd = getpass.getpass()\n",
    "\n",
    "# Then connects to the DB\n",
    "conn = psycopg2.connect(database = 'cs20_group4', \n",
    "                              user = 'fhfrf', \n",
    "                              host = 'pgsql.dsa.lan',\n",
    "                              password = mypasswd)\n",
    "\n",
    "# Then remove the password from computer memory\n",
    "del mypasswd"
   ]
  },
  {
   "cell_type": "code",
   "execution_count": 27,
   "metadata": {
    "ExecuteTime": {
     "end_time": "2019-08-25T20:29:21.179472Z",
     "start_time": "2019-08-25T20:29:21.172492Z"
    }
   },
   "outputs": [],
   "source": [
    "cursor = conn.cursor()"
   ]
  },
  {
   "cell_type": "markdown",
   "metadata": {},
   "source": [
    "Create a table called `nba_player_boxscores`"
   ]
  },
  {
   "cell_type": "code",
   "execution_count": 28,
   "metadata": {
    "ExecuteTime": {
     "end_time": "2019-08-25T20:29:21.206400Z",
     "start_time": "2019-08-25T20:29:21.182466Z"
    }
   },
   "outputs": [],
   "source": [
    "create_table = \"\"\"\n",
    "DROP TABLE IF EXISTS nba_player_boxscores;\n",
    "CREATE TABLE nba_player_boxscores (\n",
    "player_id varchar(20)\n",
    ", player_name varchar(100)\n",
    ", boxscore varchar(100)\n",
    ", date TIMESTAMP\n",
    ", season numeric\n",
    ", team_abbr varchar(10)\n",
    ", assist_percentage numeric\n",
    ", assists numeric\n",
    ", block_percentage numeric\n",
    ", blocks numeric\n",
    ", box_plus_minus numeric\n",
    ", defensive_rating numeric\n",
    ", defensive_rebound_percentage numeric\n",
    ", defensive_rebounds numeric\n",
    ", effective_field_goal_percentage numeric\n",
    ", field_goal_attempts numeric\n",
    ", field_goal_percentage numeric\n",
    ", field_goals numeric\n",
    ", free_throw_attempt_rate numeric\n",
    ", free_throw_attempts numeric\n",
    ", free_throw_percentage numeric\n",
    ", free_throws numeric\n",
    ", minutes_played numeric\n",
    ", offensive_rating numeric\n",
    ", offensive_rebound_percentage numeric\n",
    ", offensive_rebounds numeric\n",
    ", personal_fouls numeric\n",
    ", points numeric\n",
    ", steal_percentage numeric\n",
    ", steals numeric\n",
    ", three_point_attempt_rate numeric\n",
    ", three_point_attempts numeric\n",
    ", three_point_percentage numeric\n",
    ", three_pointers numeric\n",
    ", total_rebound_percentage numeric\n",
    ", total_rebounds numeric\n",
    ", true_shooting_percentage numeric\n",
    ", turnover_percentage numeric\n",
    ", turnovers numeric\n",
    ", two_point_attempts numeric\n",
    ", two_point_percentage numeric\n",
    ", two_pointers numeric\n",
    ", usage_percentage numeric\n",
    ", home_game numeric\n",
    ", birth_date TIMESTAMP\n",
    ", age numeric\n",
    ", player_game_number_season numeric\n",
    ", player_game_number_career numeric\n",
    ", player_game_number_team numeric\n",
    ", days_since_last_game numeric\n",
    ")\n",
    "\"\"\""
   ]
  },
  {
   "cell_type": "code",
   "execution_count": 29,
   "metadata": {
    "ExecuteTime": {
     "end_time": "2019-08-25T20:29:21.391906Z",
     "start_time": "2019-08-25T20:29:21.210399Z"
    }
   },
   "outputs": [],
   "source": [
    "cursor.execute(create_table)"
   ]
  },
  {
   "cell_type": "code",
   "execution_count": 30,
   "metadata": {
    "ExecuteTime": {
     "end_time": "2019-08-25T20:29:21.432795Z",
     "start_time": "2019-08-25T20:29:21.396892Z"
    }
   },
   "outputs": [],
   "source": [
    "conn.commit()"
   ]
  },
  {
   "cell_type": "code",
   "execution_count": 8,
   "metadata": {
    "ExecuteTime": {
     "end_time": "2019-08-25T20:29:21.499618Z",
     "start_time": "2019-08-25T20:29:21.436786Z"
    }
   },
   "outputs": [
    {
     "name": "stdout",
     "output_type": "stream",
     "text": [
      "········\n"
     ]
    }
   ],
   "source": [
    "mypasswd = getpass.getpass()\n",
    "\n",
    "# Then connects to the DB\n",
    "conn = psycopg2.connect(database = 'cs20_group4', \n",
    "                              user = 'fhfrf', \n",
    "                              host = 'pgsql.dsa.lan',\n",
    "                              password = mypasswd)\n",
    "\n",
    "# Then remove the password from computer memory\n",
    "del mypasswd"
   ]
  },
  {
   "cell_type": "code",
   "execution_count": 9,
   "metadata": {
    "ExecuteTime": {
     "end_time": "2019-08-25T20:29:21.507597Z",
     "start_time": "2019-08-25T20:29:21.503607Z"
    }
   },
   "outputs": [],
   "source": [
    "cursor = conn.cursor()"
   ]
  },
  {
   "cell_type": "markdown",
   "metadata": {},
   "source": [
    "Write the dataset that we have performed all data carpentry on into a CSV file so we don't have to run a large chunk of the notebook when we need access to the data."
   ]
  },
  {
   "cell_type": "code",
   "execution_count": 33,
   "metadata": {},
   "outputs": [],
   "source": [
    "data.to_csv('testfile.csv', index = False)"
   ]
  },
  {
   "cell_type": "code",
   "execution_count": 3,
   "metadata": {},
   "outputs": [],
   "source": [
    "master_data = pd.read_csv('testfile.csv')"
   ]
  },
  {
   "cell_type": "markdown",
   "metadata": {},
   "source": [
    "The three cells below slice the data set into three different subsets that allow us to filter and fill in NaNs with None values on our data. The slicing was required to circumvent issues with memory consumption processing large datasets."
   ]
  },
  {
   "cell_type": "code",
   "execution_count": 4,
   "metadata": {},
   "outputs": [],
   "source": [
    "testData = pd.DataFrame()\n",
    "\n",
    "data1 = master_data.iloc[0:200000]\n",
    "data1 = data1.where(pd.notnull(data1), None)\n",
    "testData = testData.append(data1)\n",
    "del data1\n",
    "\n"
   ]
  },
  {
   "cell_type": "code",
   "execution_count": 6,
   "metadata": {},
   "outputs": [],
   "source": [
    "data2 = master_data.iloc[1*10**5:2*10**5]\n",
    "data2 = data2.where(pd.notnull(data2), None)\n",
    "\n",
    "testData = testData.append(data2)"
   ]
  },
  {
   "cell_type": "code",
   "execution_count": 7,
   "metadata": {},
   "outputs": [
    {
     "data": {
      "text/plain": [
       "(1351639, 50)"
      ]
     },
     "execution_count": 7,
     "metadata": {},
     "output_type": "execute_result"
    }
   ],
   "source": [
    "data3 = master_data.where(pd.notnull(master_data), None)\n",
    "\n",
    "data3.shape"
   ]
  },
  {
   "cell_type": "markdown",
   "metadata": {},
   "source": [
    "Insert data into the `nba_player_boxscores` table"
   ]
  },
  {
   "cell_type": "code",
   "execution_count": 10,
   "metadata": {
    "ExecuteTime": {
     "end_time": "2019-08-25T20:40:58.057813Z",
     "start_time": "2019-08-25T20:30:12.427156Z"
    },
    "scrolled": false
   },
   "outputs": [],
   "source": [
    "#df = data.where(pd.notnull(data),None)\n",
    "#data.dropna(subset=['birth_date'], inplace=True)\n",
    "data3 = data3.loc[data3.birth_date.notnull()]\n",
    "INSERT_SQL = 'INSERT INTO nba_player_boxscores'\n",
    "INSERT_SQL += '(player_id'\n",
    "INSERT_SQL += ', player_name'\n",
    "INSERT_SQL += ', boxscore'\n",
    "INSERT_SQL += ', date'\n",
    "INSERT_SQL += ', season'\n",
    "INSERT_SQL += ', team_abbr'\n",
    "INSERT_SQL += ', assist_percentage'\n",
    "INSERT_SQL += ', assists'\n",
    "INSERT_SQL += ', block_percentage'\n",
    "INSERT_SQL += ', blocks'\n",
    "INSERT_SQL += ', box_plus_minus'\n",
    "INSERT_SQL += ', defensive_rating'\n",
    "INSERT_SQL += ', defensive_rebound_percentage'\n",
    "INSERT_SQL += ', defensive_rebounds'\n",
    "INSERT_SQL += ', effective_field_goal_percentage'\n",
    "INSERT_SQL += ', field_goal_attempts'\n",
    "INSERT_SQL += ', field_goal_percentage'\n",
    "INSERT_SQL += ', field_goals'\n",
    "INSERT_SQL += ', free_throw_attempt_rate'\n",
    "INSERT_SQL += ', free_throw_attempts'\n",
    "INSERT_SQL += ', free_throw_percentage'\n",
    "INSERT_SQL += ', free_throws'\n",
    "INSERT_SQL += ', minutes_played'\n",
    "INSERT_SQL += ', offensive_rating'\n",
    "INSERT_SQL += ', offensive_rebound_percentage'\n",
    "INSERT_SQL += ', offensive_rebounds'\n",
    "INSERT_SQL += ', personal_fouls'\n",
    "INSERT_SQL += ', points'\n",
    "INSERT_SQL += ', steal_percentage'\n",
    "INSERT_SQL += ', steals'\n",
    "INSERT_SQL += ', three_point_attempt_rate'\n",
    "INSERT_SQL += ', three_point_attempts'\n",
    "INSERT_SQL += ', three_point_percentage'\n",
    "INSERT_SQL += ', three_pointers'\n",
    "INSERT_SQL += ', total_rebound_percentage'\n",
    "INSERT_SQL += ', total_rebounds'\n",
    "INSERT_SQL += ', true_shooting_percentage'\n",
    "INSERT_SQL += ', turnover_percentage'\n",
    "INSERT_SQL += ', turnovers'\n",
    "INSERT_SQL += ', two_point_attempts'\n",
    "INSERT_SQL += ', two_point_percentage'\n",
    "INSERT_SQL += ', two_pointers'\n",
    "INSERT_SQL += ', usage_percentage'\n",
    "INSERT_SQL += ', home_game'\n",
    "INSERT_SQL += ', birth_date'\n",
    "INSERT_SQL += ', age'\n",
    "INSERT_SQL += ', player_game_number_season'\n",
    "INSERT_SQL += ', player_game_number_career'\n",
    "INSERT_SQL += ', player_game_number_team'\n",
    "INSERT_SQL += ', days_since_last_game) VALUES'\n",
    "INSERT_SQL += '(%s,%s,%s,%s,%s,%s,%s,%s,%s,%s,'\n",
    "INSERT_SQL += '%s,%s,%s,%s,%s,%s,%s,%s,%s,%s,'\n",
    "INSERT_SQL += '%s,%s,%s,%s,%s,%s,%s,%s,%s,%s,'\n",
    "INSERT_SQL += '%s,%s,%s,%s,%s,%s,%s,%s,%s,%s,'\n",
    "INSERT_SQL += '%s,%s,%s,%s,%s,%s,%s,%s,%s,%s)'\n",
    "\n",
    "with conn, conn.cursor() as cursor:\n",
    "    for row in data3.itertuples(index=False, name=None):\n",
    "        cursor.execute(INSERT_SQL,row)"
   ]
  },
  {
   "cell_type": "code",
   "execution_count": null,
   "metadata": {},
   "outputs": [],
   "source": []
  }
 ],
 "metadata": {
  "kernelspec": {
   "display_name": "Python 3",
   "language": "python",
   "name": "python3"
  },
  "language_info": {
   "codemirror_mode": {
    "name": "ipython",
    "version": 3
   },
   "file_extension": ".py",
   "mimetype": "text/x-python",
   "name": "python",
   "nbconvert_exporter": "python",
   "pygments_lexer": "ipython3",
   "version": "3.7.3"
  },
  "toc": {
   "base_numbering": 1,
   "nav_menu": {},
   "number_sections": true,
   "sideBar": true,
   "skip_h1_title": false,
   "title_cell": "Table of Contents",
   "title_sidebar": "Contents",
   "toc_cell": false,
   "toc_position": {},
   "toc_section_display": true,
   "toc_window_display": false
  }
 },
 "nbformat": 4,
 "nbformat_minor": 2
}
