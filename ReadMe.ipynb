{
 "cells": [
  {
   "cell_type": "markdown",
   "metadata": {},
   "source": [
    "# Capstone Code Repository Table of Contents"
   ]
  },
  {
   "cell_type": "markdown",
   "metadata": {},
   "source": [
    "Welcome to Capstone Group 4's code repository. Here you can find the code we wrote to build our NBA career success prediction model. "
   ]
  },
  {
   "cell_type": "markdown",
   "metadata": {},
   "source": [
    "## Data Acquisition"
   ]
  },
  {
   "cell_type": "markdown",
   "metadata": {},
   "source": [
    "Note: These data scraping datasets are computationally expensive and require days to complete."
   ]
  },
  {
   "cell_type": "markdown",
   "metadata": {},
   "source": [
    "### NCAA \n",
    "\n",
    "* [Step 1 NCAA Boxscores](Data_Acquisition/Step1_ncaa_boxscores.ipynb)\n",
    "* [Step 2 NCAA Player Boxscores](Data_Acquisition/Step2_ncaa_player_boxscores.ipynb)\n",
    "* [Step 3 NCAA Advanced Boxscores](Data_Acquisition/Step3_ncaa_advanced_boxscores.ipynb)\n",
    "* [Step 4 NCAA Player Stats](Data_Acquisition/Step4_NCAA_Player_Stats.ipynb)\n",
    " \n",
    "\n",
    "### NBA\n",
    "* [Step 1 NBA Basic Boxscores](Data_Acquisition/Step1_nba_basic_boxscores.ipynb)\n",
    "* [Step 2 NBA Player Boxscores](Data_Acquisition/step2_nba_player_boxscores.ipynb)\n",
    "* [Step 3 NBA Advanced Boxscores](Data_Acquisition/step3_nba_advanced_boxscores.ipynb)\n",
    "* [Step 4 NBA Player Stats](Data_Acquisition/step4_nba_player_stats.ipynb)\n",
    "* [Step 5 NBA Draft Scraping](Data_Acquisition/step5_nba_draft_scraping.ipynb)\n"
   ]
  },
  {
   "cell_type": "markdown",
   "metadata": {},
   "source": [
    "By the end of this step, you will have successfully completed data scraping and have datasets ready for database loading."
   ]
  },
  {
   "cell_type": "markdown",
   "metadata": {},
   "source": [
    "## Data Persistence\n",
    "\n",
    "### NCAA\n",
    "* [Step 1 NCAA Boxscores To SQL](Data_Persistence/Step1_NCAA_Boxscores_SQL_Insertion.ipynb)\n",
    "* [Step 2 NCAA Player Boxscores To SQL](Data_Persistence/Step2_NCAA_Player_Boxscores_SQL_Insertion.ipynb)\n",
    "* [Step 3 NCAA Advanced Boxscore To SQL](Data_Persistence/Step3_ncaa_advanced_boxscores_sql_insertion.ipynb)\n",
    "* [Step 4 NCAA Team Schedules To SQL](Data_Persistence/Step4_ncaa_player_career_stats_sql_insertion.ipynb)\n",
    "\n",
    "### NBA\n",
    "* [Step 1 NBA Advanced Boxscore to SQL](Data_Persistence/Step1_nba_advanced_boxscores_sql_insertion.ipynb)\n",
    "* [Step 2 NBA Player Boxscore to SQL](Data_Persistence/Step2_NBA_Player_Career_Stats_ETL_SQL_Insertion.ipynb)\n",
    "* [Step 3 NBA Player Career Stats to SQL](Data_Persistence/Step3_nba_player_boxscores_sql_insertion.ipynb)\n",
    "* [Step 4 NBA Draft Data to SQL](Data_Persistence/Step4_nba_draft_data_sql_insertion.ipynb)\n",
    "\n",
    "### Master Table\n",
    "* [Player Master Table](Data_Persistence/player_master_table.ipynb)"
   ]
  },
  {
   "cell_type": "markdown",
   "metadata": {},
   "source": [
    "By the end of this step, you will have all the initial data loaded into our Postgres database."
   ]
  },
  {
   "cell_type": "markdown",
   "metadata": {},
   "source": [
    "## Data Exploration"
   ]
  },
  {
   "cell_type": "markdown",
   "metadata": {},
   "source": [
    "### NCAA \n",
    "* [NCAA Box Score Data Exploration](Data_Exploration/ncaa_box_score_data_exploration.ipynb)\n",
    "* [NCAA Career Statistics Exploration](Data_Exploration/ncaa_career_stats_exploration.ipynb)\n",
    "\n",
    "### NBA \n",
    "* [NBA Simple Box Score Exploration](Data_Exploration/nba_simple_box_exploration.ipynb)\n",
    "* [NBA Advanced Box Score Exploration](Data_Exploration/nba_advanced_box_data_exploration.ipynb)\n",
    "* [NBA Player Statistics Exploration](Data_Exploration/nba_player_player_stats_exploration.ipynb)\n",
    "* [NBA Initial Career Categorization](Data_Exploration/nba_career_categorization.ipynb)\n"
   ]
  },
  {
   "cell_type": "markdown",
   "metadata": {},
   "source": [
    "By the end of this step, you will develop an understanding of the trends present in the NBA and NCAA datasets. Note that the both datasets are large but are limited to the year 2000 to present year due to data completeness and availability. "
   ]
  },
  {
   "cell_type": "markdown",
   "metadata": {},
   "source": [
    "## Additional Data Acquisition\n"
   ]
  },
  {
   "cell_type": "markdown",
   "metadata": {},
   "source": [
    "### High School\n",
    "* [247 Sports High School Recruiting Data](Additional_Data_Acquisition/247_sports_high_school_data.ipynb)\n",
    "\n",
    "### NCAA\n",
    "* [Add NCAA Conference Rank to NCAA player data](Additional_Data_Acquisition/ncaa_aggregation.ipynb)\n",
    "\n",
    "### NBA \n",
    "* [NBA Draft College Renaming List Generation](Additional_Data_Acquisition/nba_draft_college_renaming.ipynb)\n",
    "* [NBA Draft Rankings Data Scraping](Additional_Data_Acquisition/nba_draft_rankings_scraping_and_sql_insert.ipynb)\n",
    "* [NBA Composite Score Calculation and Career Clustering](Additional_Data_Acquisition/player_composite_scores.ipynb)"
   ]
  },
  {
   "cell_type": "markdown",
   "metadata": {},
   "source": [
    "By the end of this step, you will have accumulated three more datasets: high school recruiting data, NCAA strength of conference, and NBA Top 100 Prospect rankings. These datasets will also be loaded into the postgres database that already contains the initial datasets."
   ]
  },
  {
   "cell_type": "markdown",
   "metadata": {},
   "source": [
    "## Initial Modeling"
   ]
  },
  {
   "cell_type": "markdown",
   "metadata": {},
   "source": [
    "* [Active Player Dataset Generation](Initial_Modeling/active_college_players.ipynb)\n",
    "* [NBA Career Survival Analysis](Initial_Modeling/step1_nba_career_survival_analysis.ipynb)\n",
    "* [Model 1: NBA Draft Probability](Initial_Modeling/step2_nba_draft_prediction_model.ipynb)\n",
    "* [Model 2: NBA Career Role Predictions](Initial_Modeling/step3_nba_career_predictions_model.ipynb)\n"
   ]
  },
  {
   "cell_type": "markdown",
   "metadata": {},
   "source": [
    "By the end of this step, you will have run through the initial fitting of our modeling efforts. You will have been able to predict which players will be drafted into the NBA. Of those players, the second model you fit will be able to tell you each player's potential NBA career role. "
   ]
  },
  {
   "cell_type": "markdown",
   "metadata": {},
   "source": [
    "## Final Modeling"
   ]
  },
  {
   "cell_type": "markdown",
   "metadata": {},
   "source": [
    "* [Binned Feature Creation on 2020 NBA Draft Class](Final_Modeling/active_player_binned_feature_creation.ipynb)\n",
    "* [Final Model 1: NBA Draft Probability](Final_Modeling/refit_first_model.ipynb)\n",
    "* [Final Model 2: NBA Career Role Predictions](Final_Modeling/refit_second_model.ipynb)\n",
    "* [2020 NBA Draft Class Predictions](Final_Modeling/2020_draft_class_predictions.ipynb)\n",
    "* [2020 NBA Draft Class Pro Comparisons](Final_Modeling/player_comparisons.ipynb)\n",
    "* [2020 NBA Draft Class Rankings Generation](Final_Modeling/draft_rankings.ipynb)\n"
   ]
  },
  {
   "cell_type": "markdown",
   "metadata": {},
   "source": [
    "By the end of this step, you will have run models to generate predictions on the 2020 NBA Draft class. You will also generate NBA player comparisons for each 2020 NBA draft prospect as well as an overall ranking of the 2020 NBA draft class. "
   ]
  },
  {
   "cell_type": "markdown",
   "metadata": {},
   "source": [
    "## Data Story Shiny App"
   ]
  },
  {
   "cell_type": "markdown",
   "metadata": {},
   "source": [
    "* [Shiny App R Code](../Data_Story/app.R)"
   ]
  },
  {
   "cell_type": "markdown",
   "metadata": {},
   "source": [
    "The code above generates our shiny app which can be found at https://jpcp73.shinyapps.io/final/. If it is not online, please message Joe Clarkin on Slack for redeployment. "
   ]
  },
  {
   "cell_type": "code",
   "execution_count": null,
   "metadata": {},
   "outputs": [
    {
     "name": "stdout",
     "output_type": "stream",
     "text": [
      "Additional_Data_Acquisition/\n",
      "Additional_Data_Acquisition/.ipynb_checkpoints/\n",
      "Additional_Data_Acquisition/.ipynb_checkpoints/247_sports_high_school_data-checkpoint.ipynb\n",
      "Additional_Data_Acquisition/.ipynb_checkpoints/nba_draft_college_renaming-checkpoint.ipynb\n",
      "Additional_Data_Acquisition/.ipynb_checkpoints/nba_draft_rankings_scraping_and_sql_insert-checkpoint.ipynb\n",
      "Additional_Data_Acquisition/.ipynb_checkpoints/ncaa_aggregation-checkpoint.ipynb\n",
      "Additional_Data_Acquisition/.ipynb_checkpoints/player_composite_scores-checkpoint.ipynb\n",
      "Additional_Data_Acquisition/247_sports_high_school_data.ipynb\n",
      "Additional_Data_Acquisition/nba_draft_college_renaming.ipynb\n",
      "Additional_Data_Acquisition/nba_draft_rankings_scraping_and_sql_insert.ipynb\n",
      "Additional_Data_Acquisition/ncaa_aggregation.ipynb\n",
      "Additional_Data_Acquisition/player_composite_scores.ipynb\n",
      "Data/\n",
      "Data/nba_boxscores.csv\n",
      "Data/nba_player_boxscores.csv\n",
      "Data/nba_player_boxscores_notebook.csv\n",
      "Data/nba_player_career_stats.csv\n",
      "Data/ncaa_player_boxscores.csv\n",
      "Data/ncaa_player_boxscores_notebook.csv\n",
      "Data/ncaa_player_career_stats.csv\n",
      "Data/ncaa_simple_boxscores.csv\n",
      "Data/247sports.csv\n",
      "Data/.ipynb_checkpoints/\n",
      "Data/active_players.csv\n",
      "Data/2020_season.csv\n",
      "Data/binned_data.csv\n",
      "Data/test_data.csv\n",
      "Data/train_data.csv\n",
      "Data/nba_data.csv\n",
      "Data/hurdle_model_predictions.csv\n",
      "Data/active_binned.csv\n",
      "Data/historical_binned.csv\n",
      "Data/nba_advanced_boxscores.csv\n",
      "Data/nba_team_schedules.csv\n"
     ]
    }
   ],
   "source": [
    "!tar chvfz notebook.tar.gz *"
   ]
  },
  {
   "cell_type": "code",
   "execution_count": null,
   "metadata": {},
   "outputs": [],
   "source": []
  }
 ],
 "metadata": {
  "kernelspec": {
   "display_name": "Python 3",
   "language": "python",
   "name": "python3"
  },
  "language_info": {
   "codemirror_mode": {
    "name": "ipython",
    "version": 3
   },
   "file_extension": ".py",
   "mimetype": "text/x-python",
   "name": "python",
   "nbconvert_exporter": "python",
   "pygments_lexer": "ipython3",
   "version": "3.7.3"
  }
 },
 "nbformat": 4,
 "nbformat_minor": 2
}
